{
 "cells": [
  {
   "cell_type": "code",
   "execution_count": 2,
   "metadata": {},
   "outputs": [],
   "source": [
    "root_path = 'miniconda3'\n",
    "import sys\n",
    "sys.path.append(f'{root_path}envs/mp/lib/python3.12.4/site-packages/')\n",
    "\n",
    "import meep as mp\n",
    "import numpy as np\n",
    "import matplotlib.pyplot as plt\n",
    "from mpi4py.MPI import COMM_WORLD\n",
    "from IPython.display import clear_output, Math, HTML\n",
    "\n",
    "comm = COMM_WORLD\n",
    "rank = comm.Get_rank()"
   ]
  },
  {
   "cell_type": "markdown",
   "metadata": {},
   "source": [
    "The cell below is for single core meep simulation"
   ]
  },
  {
   "cell_type": "code",
   "execution_count": 3,
   "metadata": {},
   "outputs": [],
   "source": [
    "# Rankfreq = [0.65146580,0.6493506,0.64724919,0.64516129,0.6430861,0.6410256]\n",
    "FreqArray = [1/3,1/2.9,1/2.8,1/2.7]"
   ]
  },
  {
   "cell_type": "code",
   "execution_count": null,
   "metadata": {},
   "outputs": [],
   "source": [
    "print(f'Hi, im proccess {rank} and im starting the simulation on the wavelength {1/FreqArray[rank]} μm')"
   ]
  },
  {
   "cell_type": "code",
   "execution_count": 23,
   "metadata": {},
   "outputs": [],
   "source": [
    "cell = mp.Vector3(40,16,0)  # This is the simulation window. Here is defined a 2D-cell\n",
    "\n",
    "pml_layers = [mp.PML(2.0)]  # Adding an absorbing layer (PML) of thickness 0.1 μm around all sides of the cell\n",
    "\n",
    "geometry = [mp.Block(mp.Vector3(mp.inf,0.5,0.22), \n",
    "                     center=mp.Vector3(),             # Centered at (0,0)\n",
    "                     material=mp.Medium(epsilon=12))] # Material with ε=12    # Defines a parallelepiped block \n",
    "\n",
    "resolution = 50"
   ]
  },
  {
   "cell_type": "code",
   "execution_count": 33,
   "metadata": {
    "tags": [
     "active-ipynb"
    ]
   },
   "outputs": [
    {
     "name": "stdout",
     "output_type": "stream",
     "text": [
      "Kc=6.283185307179586\n",
      "LambdaC = 3.1700000000000004\n"
     ]
    }
   ],
   "source": [
    "print(f'Kc={np.sqrt((1*np.pi/0.5)**2 + (0*np.pi/0.22)**2)}')\n",
    "print(f'LambdaC = {3.17*2*np.pi/6.283185307179586}')"
   ]
  },
  {
   "cell_type": "code",
   "execution_count": 24,
   "metadata": {},
   "outputs": [],
   "source": [
    "sources = [mp.Source(mp.ContinuousSource(frequency=FreqArray[rank]),  \n",
    "                    component=mp.Ez,                     # Component Ez to specify a eletric current\n",
    "                    center=mp.Vector3(-7,0))]     \n",
    "\n",
    "# Is important to leave a little space between sources and the cell boundaries, \n",
    "# to keep the boundary conditions from interfering with them.\n",
    "\n",
    "sim = mp.Simulation(cell_size=cell,\n",
    "                    boundary_layers=pml_layers,\n",
    "                    geometry=geometry,\n",
    "                    sources=sources,\n",
    "                    resolution=resolution)"
   ]
  },
  {
   "cell_type": "code",
   "execution_count": 46,
   "metadata": {},
   "outputs": [
    {
     "name": "stdout",
     "output_type": "stream",
     "text": [
      "-----------\n",
      "Initializing structure...\n",
      "time for choose_chunkdivision = 0.000112057 s\n",
      "Working in 2D dimensions.\n",
      "Computational cell is 16 x 8 x 0 with resolution 10\n",
      "     block, center = (0,0,0)\n",
      "          size (1e+20,0.5,0.22)\n",
      "          axes (1,0,0), (0,1,0), (0,0,1)\n",
      "          dielectric constant epsilon diagonal = (12,12,12)\n",
      "time for set_epsilon = 0.020942 s\n",
      "-----------\n"
     ]
    },
    {
     "data": {
      "application/vnd.jupyter.widget-view+json": {
       "model_id": "f353ed523d794e66ae80253ac2a80ebf",
       "version_major": 2,
       "version_minor": 0
      },
      "text/plain": [
       "FloatProgress(value=0.0, description='0% done ')"
      ]
     },
     "metadata": {},
     "output_type": "display_data"
    },
    {
     "name": "stdout",
     "output_type": "stream",
     "text": [
      "run 0 finished at t = 100.0 (2000 timesteps)\n"
     ]
    }
   ],
   "source": [
    "sim.run(until=200)  # Run until a time of t = 100"
   ]
  },
  {
   "cell_type": "code",
   "execution_count": 25,
   "metadata": {
    "tags": [
     "active-ipynb"
    ]
   },
   "outputs": [
    {
     "name": "stdout",
     "output_type": "stream",
     "text": [
      "Wavelength: 3.0 μm\n",
      "-----------\n",
      "Initializing structure...\n",
      "time for choose_chunkdivision = 0.000809908 s\n",
      "Working in 2D dimensions.\n",
      "Computational cell is 40 x 16 x 0 with resolution 50\n",
      "     block, center = (0,0,0)\n",
      "          size (1e+20,0.5,0.22)\n",
      "          axes (1,0,0), (0,1,0), (0,0,1)\n",
      "          dielectric constant epsilon diagonal = (12,12,12)\n",
      "time for set_epsilon = 1.80532 s\n",
      "-----------\n"
     ]
    },
    {
     "data": {
      "application/vnd.jupyter.widget-view+json": {
       "model_id": "5354f94f72924b129a581140f2a1fea9",
       "version_major": 2,
       "version_minor": 0
      },
      "text/plain": [
       "FloatProgress(value=0.0, description='0% done ', max=200.0)"
      ]
     },
     "metadata": {},
     "output_type": "display_data"
    },
    {
     "name": "stdout",
     "output_type": "stream",
     "text": [
      "Meep progress: 3.13/200.0 = 1.6% done in 4.0s, 251.9s to go\n",
      "on time step 314 (time=3.14), 0.0127804 s/step\n",
      "Meep progress: 6.44/200.0 = 3.2% done in 8.0s, 240.6s to go\n",
      "on time step 646 (time=6.46), 0.0120732 s/step\n",
      "Meep progress: 9.74/200.0 = 4.9% done in 12.0s, 234.6s to go\n",
      "on time step 976 (time=9.76), 0.0121295 s/step\n",
      "Meep progress: 13.08/200.0 = 6.5% done in 16.0s, 228.9s to go\n",
      "on time step 1310 (time=13.1), 0.0120013 s/step\n",
      "Meep progress: 16.48/200.0 = 8.2% done in 20.0s, 223.0s to go\n",
      "on time step 1650 (time=16.5), 0.0117754 s/step\n",
      "Meep progress: 19.91/200.0 = 10.0% done in 24.0s, 217.3s to go\n",
      "on time step 1993 (time=19.93), 0.0116771 s/step\n",
      "Meep progress: 23.35/200.0 = 11.7% done in 28.0s, 212.1s to go\n",
      "on time step 2337 (time=23.37), 0.0116457 s/step\n",
      "Meep progress: 26.79/200.0 = 13.4% done in 32.0s, 207.2s to go\n",
      "on time step 2681 (time=26.81), 0.0116597 s/step\n",
      "Meep progress: 30.23/200.0 = 15.1% done in 36.0s, 202.4s to go\n",
      "on time step 3026 (time=30.26), 0.0116215 s/step\n",
      "Meep progress: 33.6/200.0 = 16.8% done in 40.1s, 198.4s to go\n",
      "on time step 3363 (time=33.63), 0.0118886 s/step\n",
      "Meep progress: 37.02/200.0 = 18.5% done in 44.1s, 194.0s to go\n",
      "on time step 3705 (time=37.05), 0.0117134 s/step\n",
      "Meep progress: 40.46/200.0 = 20.2% done in 48.1s, 189.5s to go\n",
      "on time step 4049 (time=40.49), 0.011636 s/step\n",
      "Meep progress: 43.910000000000004/200.0 = 22.0% done in 52.1s, 185.1s to go\n",
      "on time step 4394 (time=43.94), 0.0116179 s/step\n",
      "Meep progress: 47.36/200.0 = 23.7% done in 56.1s, 180.7s to go\n",
      "on time step 4739 (time=47.39), 0.0116134 s/step\n",
      "Meep progress: 50.79/200.0 = 25.4% done in 60.1s, 176.5s to go\n",
      "on time step 5081 (time=50.81), 0.0116972 s/step\n",
      "Meep progress: 54.22/200.0 = 27.1% done in 64.1s, 172.3s to go\n",
      "on time step 5424 (time=54.24), 0.0116748 s/step\n",
      "Meep progress: 57.65/200.0 = 28.8% done in 68.1s, 168.1s to go\n",
      "on time step 5767 (time=57.67), 0.0116632 s/step\n",
      "Meep progress: 60.99/200.0 = 30.5% done in 72.1s, 164.4s to go\n",
      "on time step 6101 (time=61.01), 0.0120174 s/step\n",
      "Meep progress: 64.3/200.0 = 32.1% done in 76.1s, 160.6s to go\n",
      "on time step 6432 (time=64.32), 0.0121079 s/step\n",
      "Meep progress: 67.75/200.0 = 33.9% done in 80.1s, 156.4s to go\n",
      "on time step 6777 (time=67.77), 0.0116222 s/step\n",
      "Meep progress: 71.2/200.0 = 35.6% done in 84.1s, 152.2s to go\n",
      "on time step 7122 (time=71.22), 0.0115957 s/step\n",
      "Meep progress: 74.65/200.0 = 37.3% done in 88.1s, 148.0s to go\n",
      "on time step 7467 (time=74.67), 0.0116208 s/step\n",
      "Meep progress: 78.08/200.0 = 39.0% done in 92.1s, 143.9s to go\n",
      "on time step 7810 (time=78.1), 0.0116712 s/step\n",
      "Meep progress: 81.52/200.0 = 40.8% done in 96.1s, 139.7s to go\n",
      "on time step 8154 (time=81.54), 0.0116397 s/step\n",
      "Meep progress: 84.94/200.0 = 42.5% done in 100.2s, 135.7s to go\n",
      "on time step 8496 (time=84.96), 0.0117041 s/step\n",
      "Meep progress: 88.4/200.0 = 44.2% done in 104.2s, 131.5s to go\n",
      "on time step 8842 (time=88.42), 0.0115876 s/step\n",
      "Meep progress: 91.76/200.0 = 45.9% done in 108.2s, 127.6s to go\n",
      "on time step 9178 (time=91.78), 0.0119244 s/step\n",
      "Meep progress: 95.10000000000001/200.0 = 47.6% done in 112.2s, 123.7s to go\n",
      "on time step 9512 (time=95.12), 0.0120089 s/step\n",
      "Meep progress: 98.54/200.0 = 49.3% done in 116.2s, 119.6s to go\n",
      "on time step 9856 (time=98.56), 0.0116298 s/step\n",
      "Meep progress: 101.97/200.0 = 51.0% done in 120.2s, 115.5s to go\n",
      "on time step 10200 (time=102), 0.0116567 s/step\n",
      "Meep progress: 105.42/200.0 = 52.7% done in 124.2s, 111.4s to go\n",
      "on time step 10544 (time=105.44), 0.0116387 s/step\n",
      "Meep progress: 108.86/200.0 = 54.4% done in 128.2s, 107.3s to go\n",
      "on time step 10889 (time=108.89), 0.0116338 s/step\n",
      "Meep progress: 112.27/200.0 = 56.1% done in 132.2s, 103.3s to go\n",
      "on time step 11231 (time=112.31), 0.0117159 s/step\n",
      "Meep progress: 115.72/200.0 = 57.9% done in 136.2s, 99.2s to go\n",
      "on time step 11575 (time=115.75), 0.0116292 s/step\n",
      "Meep progress: 119.16/200.0 = 59.6% done in 140.2s, 95.1s to go\n",
      "on time step 11919 (time=119.19), 0.0116515 s/step\n",
      "Meep progress: 122.60000000000001/200.0 = 61.3% done in 144.2s, 91.0s to go\n",
      "on time step 12264 (time=122.64), 0.0116333 s/step\n",
      "Meep progress: 125.92/200.0 = 63.0% done in 148.2s, 87.2s to go\n",
      "on time step 12596 (time=125.96), 0.0120704 s/step\n",
      "Meep progress: 129.24/200.0 = 64.6% done in 152.2s, 83.4s to go\n",
      "on time step 12928 (time=129.28), 0.0120879 s/step\n",
      "Meep progress: 132.56/200.0 = 66.3% done in 156.2s, 79.5s to go\n",
      "on time step 13260 (time=132.6), 0.0120554 s/step\n",
      "Meep progress: 135.84/200.0 = 67.9% done in 160.2s, 75.7s to go\n",
      "on time step 13588 (time=135.88), 0.0122125 s/step\n",
      "Meep progress: 139.16/200.0 = 69.6% done in 164.3s, 71.8s to go\n",
      "on time step 13920 (time=139.2), 0.0120763 s/step\n",
      "Meep progress: 142.49/200.0 = 71.2% done in 168.3s, 67.9s to go\n",
      "on time step 14253 (time=142.53), 0.0120403 s/step\n",
      "Meep progress: 145.8/200.0 = 72.9% done in 172.3s, 64.0s to go\n",
      "on time step 14584 (time=145.84), 0.0120927 s/step\n",
      "Meep progress: 149.11/200.0 = 74.6% done in 176.3s, 60.2s to go\n",
      "on time step 14915 (time=149.15), 0.01211 s/step\n",
      "Meep progress: 152.44/200.0 = 76.2% done in 180.3s, 56.2s to go\n",
      "on time step 15248 (time=152.48), 0.012038 s/step\n",
      "Meep progress: 155.77/200.0 = 77.9% done in 184.3s, 52.3s to go\n",
      "on time step 15581 (time=155.81), 0.0120158 s/step\n",
      "Meep progress: 159.09/200.0 = 79.5% done in 188.3s, 48.4s to go\n",
      "on time step 15913 (time=159.13), 0.0120775 s/step\n",
      "Meep progress: 162.4/200.0 = 81.2% done in 192.3s, 44.5s to go\n",
      "on time step 16244 (time=162.44), 0.0120937 s/step\n",
      "Meep progress: 165.72/200.0 = 82.9% done in 196.3s, 40.6s to go\n",
      "on time step 16576 (time=165.76), 0.0120547 s/step\n",
      "Meep progress: 169.06/200.0 = 84.5% done in 200.3s, 36.7s to go\n",
      "on time step 16910 (time=169.1), 0.0120119 s/step\n",
      "Meep progress: 172.39000000000001/200.0 = 86.2% done in 204.3s, 32.7s to go\n",
      "on time step 17243 (time=172.43), 0.0120336 s/step\n",
      "Meep progress: 175.71/200.0 = 87.9% done in 208.3s, 28.8s to go\n",
      "on time step 17574 (time=175.74), 0.0120925 s/step\n",
      "Meep progress: 179.04/200.0 = 89.5% done in 212.3s, 24.9s to go\n",
      "on time step 17908 (time=179.08), 0.011991 s/step\n",
      "Meep progress: 182.35/200.0 = 91.2% done in 216.3s, 20.9s to go\n",
      "on time step 18239 (time=182.39), 0.0121074 s/step\n",
      "Meep progress: 185.64000000000001/200.0 = 92.8% done in 220.4s, 17.0s to go\n",
      "on time step 18568 (time=185.68), 0.0121766 s/step\n",
      "Meep progress: 188.99/200.0 = 94.5% done in 224.4s, 13.1s to go\n",
      "on time step 18903 (time=189.03), 0.0119762 s/step\n",
      "Meep progress: 192.32/200.0 = 96.2% done in 228.4s, 9.1s to go\n",
      "on time step 19237 (time=192.37), 0.0120214 s/step\n",
      "Meep progress: 195.65/200.0 = 97.8% done in 232.4s, 5.2s to go\n",
      "on time step 19570 (time=195.7), 0.0120238 s/step\n",
      "Meep progress: 198.96/200.0 = 99.5% done in 236.4s, 1.2s to go\n",
      "on time step 19901 (time=199.01), 0.0121014 s/step\n",
      "run 0 finished at t = 200.0 (20000 timesteps)\n",
      "Wavelength: 2.9 μm\n",
      "-----------\n",
      "Initializing structure...\n",
      "time for choose_chunkdivision = 0.000660896 s\n",
      "Working in 2D dimensions.\n",
      "Computational cell is 40 x 16 x 0 with resolution 50\n",
      "     block, center = (0,0,0)\n",
      "          size (1e+20,0.5,0.22)\n",
      "          axes (1,0,0), (0,1,0), (0,0,1)\n",
      "          dielectric constant epsilon diagonal = (12,12,12)\n",
      "time for set_epsilon = 1.71186 s\n",
      "-----------\n"
     ]
    },
    {
     "data": {
      "application/vnd.jupyter.widget-view+json": {
       "model_id": "8a34147ab8844a12983e5e24c4a00715",
       "version_major": 2,
       "version_minor": 0
      },
      "text/plain": [
       "FloatProgress(value=0.0, description='0% done ', max=200.0)"
      ]
     },
     "metadata": {},
     "output_type": "display_data"
    },
    {
     "name": "stdout",
     "output_type": "stream",
     "text": [
      "Meep progress: 3.13/200.0 = 1.6% done in 4.0s, 251.7s to go\n",
      "on time step 314 (time=3.14), 0.012774 s/step\n",
      "Meep progress: 6.44/200.0 = 3.2% done in 8.0s, 240.8s to go\n",
      "on time step 645 (time=6.45), 0.0121094 s/step\n",
      "Meep progress: 9.76/200.0 = 4.9% done in 12.0s, 234.2s to go\n",
      "on time step 977 (time=9.77), 0.0120511 s/step\n",
      "Meep progress: 13.1/200.0 = 6.5% done in 16.0s, 228.5s to go\n",
      "on time step 1311 (time=13.11), 0.0119883 s/step\n",
      "Meep progress: 16.45/200.0 = 8.2% done in 20.0s, 223.5s to go\n",
      "on time step 1646 (time=16.46), 0.0119697 s/step\n",
      "Meep progress: 19.76/200.0 = 9.9% done in 24.0s, 219.3s to go\n",
      "on time step 1977 (time=19.77), 0.0121113 s/step\n",
      "Meep progress: 23.06/200.0 = 11.5% done in 28.0s, 215.2s to go\n",
      "on time step 2307 (time=23.07), 0.012138 s/step\n",
      "Meep progress: 26.32/200.0 = 13.2% done in 32.1s, 211.5s to go\n",
      "on time step 2633 (time=26.33), 0.0122923 s/step\n",
      "Meep progress: 29.62/200.0 = 14.8% done in 36.1s, 207.4s to go\n",
      "on time step 2963 (time=29.63), 0.0121231 s/step\n",
      "Meep progress: 32.92/200.0 = 16.5% done in 40.1s, 203.3s to go\n",
      "on time step 3293 (time=32.93), 0.0121339 s/step\n",
      "Meep progress: 36.230000000000004/200.0 = 18.1% done in 44.1s, 199.2s to go\n",
      "on time step 3624 (time=36.24), 0.0121126 s/step\n",
      "Meep progress: 39.53/200.0 = 19.8% done in 48.1s, 195.2s to go\n",
      "on time step 3954 (time=39.54), 0.0121457 s/step\n",
      "Meep progress: 42.86/200.0 = 21.4% done in 52.1s, 191.0s to go\n",
      "on time step 4287 (time=42.87), 0.0120424 s/step\n",
      "Meep progress: 46.160000000000004/200.0 = 23.1% done in 56.1s, 186.9s to go\n",
      "on time step 4617 (time=46.17), 0.0121218 s/step\n",
      "Meep progress: 49.44/200.0 = 24.7% done in 60.1s, 183.0s to go\n",
      "on time step 4945 (time=49.45), 0.0122157 s/step\n",
      "Meep progress: 52.4/200.0 = 26.2% done in 64.1s, 180.6s to go\n",
      "on time step 5241 (time=52.41), 0.0135324 s/step\n",
      "Meep progress: 55.14/200.0 = 27.6% done in 68.1s, 178.9s to go\n",
      "on time step 5515 (time=55.15), 0.0146084 s/step\n",
      "Meep progress: 58.19/200.0 = 29.1% done in 72.1s, 175.7s to go\n",
      "on time step 5820 (time=58.2), 0.0131178 s/step\n",
      "Meep progress: 62.51/200.0 = 31.3% done in 76.1s, 167.4s to go\n",
      "on time step 6252 (time=62.52), 0.00927375 s/step\n",
      "Meep progress: 66.91/200.0 = 33.5% done in 80.1s, 159.4s to go\n",
      "on time step 6692 (time=66.92), 0.00909649 s/step\n",
      "Meep progress: 71.33/200.0 = 35.7% done in 84.1s, 151.7s to go\n",
      "on time step 7134 (time=71.34), 0.00905407 s/step\n",
      "Meep progress: 75.75/200.0 = 37.9% done in 88.1s, 144.6s to go\n",
      "on time step 7576 (time=75.76), 0.00906042 s/step\n",
      "Meep progress: 80.11/200.0 = 40.1% done in 92.1s, 137.9s to go\n",
      "on time step 8012 (time=80.12), 0.00917941 s/step\n",
      "Meep progress: 84.54/200.0 = 42.3% done in 96.1s, 131.3s to go\n",
      "on time step 8455 (time=84.55), 0.0090332 s/step\n",
      "Meep progress: 88.94/200.0 = 44.5% done in 100.1s, 125.0s to go\n",
      "on time step 8895 (time=88.95), 0.00909855 s/step\n",
      "Meep progress: 93.35000000000001/200.0 = 46.7% done in 104.1s, 119.0s to go\n",
      "on time step 9336 (time=93.36), 0.00908293 s/step\n",
      "Meep progress: 97.78/200.0 = 48.9% done in 108.1s, 113.1s to go\n",
      "on time step 9780 (time=97.8), 0.00902802 s/step\n",
      "Meep progress: 102.22/200.0 = 51.1% done in 112.2s, 107.3s to go\n",
      "on time step 10224 (time=102.24), 0.00902733 s/step\n",
      "Meep progress: 106.65/200.0 = 53.3% done in 116.2s, 101.7s to go\n",
      "on time step 10667 (time=106.67), 0.00904444 s/step\n",
      "Meep progress: 111.06/200.0 = 55.5% done in 120.2s, 96.2s to go\n",
      "on time step 11108 (time=111.08), 0.00907763 s/step\n",
      "Meep progress: 115.47/200.0 = 57.7% done in 124.2s, 90.9s to go\n",
      "on time step 11549 (time=115.49), 0.00907328 s/step\n",
      "Meep progress: 119.87/200.0 = 59.9% done in 128.2s, 85.7s to go\n",
      "on time step 11989 (time=119.89), 0.00909192 s/step\n",
      "Meep progress: 124.25/200.0 = 62.1% done in 132.2s, 80.6s to go\n",
      "on time step 12427 (time=124.27), 0.00913733 s/step\n",
      "Meep progress: 128.64000000000001/200.0 = 64.3% done in 136.2s, 75.5s to go\n",
      "on time step 12867 (time=128.67), 0.00911185 s/step\n",
      "Meep progress: 133.05/200.0 = 66.5% done in 140.2s, 70.5s to go\n",
      "on time step 13308 (time=133.08), 0.00908759 s/step\n",
      "Meep progress: 137.48/200.0 = 68.7% done in 144.2s, 65.6s to go\n",
      "on time step 13751 (time=137.51), 0.00903696 s/step\n",
      "Meep progress: 141.91/200.0 = 71.0% done in 148.2s, 60.7s to go\n",
      "on time step 14194 (time=141.94), 0.00904111 s/step\n",
      "Meep progress: 146.31/200.0 = 73.2% done in 152.2s, 55.8s to go\n",
      "on time step 14634 (time=146.34), 0.00909443 s/step\n",
      "Meep progress: 150.74/200.0 = 75.4% done in 156.2s, 51.0s to go\n",
      "on time step 15077 (time=150.77), 0.00903571 s/step\n",
      "Meep progress: 155.17000000000002/200.0 = 77.6% done in 160.2s, 46.3s to go\n",
      "on time step 15520 (time=155.2), 0.00904743 s/step\n",
      "Meep progress: 159.59/200.0 = 79.8% done in 164.2s, 41.6s to go\n",
      "on time step 15962 (time=159.62), 0.00906546 s/step\n",
      "Meep progress: 163.95000000000002/200.0 = 82.0% done in 168.2s, 37.0s to go\n",
      "on time step 16398 (time=163.98), 0.00918922 s/step\n",
      "Meep progress: 168.35/200.0 = 84.2% done in 172.2s, 32.4s to go\n",
      "on time step 16838 (time=168.38), 0.00909268 s/step\n",
      "Meep progress: 172.76/200.0 = 86.4% done in 176.2s, 27.8s to go\n",
      "on time step 17279 (time=172.79), 0.00907539 s/step\n",
      "Meep progress: 177.18/200.0 = 88.6% done in 180.2s, 23.2s to go\n",
      "on time step 17721 (time=177.21), 0.00906412 s/step\n",
      "Meep progress: 181.58/200.0 = 90.8% done in 184.2s, 18.7s to go\n",
      "on time step 18161 (time=181.61), 0.00909429 s/step\n",
      "Meep progress: 185.98/200.0 = 93.0% done in 188.2s, 14.2s to go\n",
      "on time step 18601 (time=186.01), 0.00909972 s/step\n",
      "Meep progress: 190.39000000000001/200.0 = 95.2% done in 192.2s, 9.7s to go\n",
      "on time step 19042 (time=190.42), 0.00907622 s/step\n",
      "Meep progress: 194.8/200.0 = 97.4% done in 196.2s, 5.2s to go\n",
      "on time step 19483 (time=194.83), 0.00907559 s/step\n",
      "Meep progress: 199.21/200.0 = 99.6% done in 200.2s, 0.8s to go\n",
      "on time step 19924 (time=199.24), 0.0090879 s/step\n",
      "run 0 finished at t = 200.0 (20000 timesteps)\n",
      "Wavelength: 2.8 μm\n",
      "-----------\n",
      "Initializing structure...\n",
      "time for choose_chunkdivision = 0.000658035 s\n",
      "Working in 2D dimensions.\n",
      "Computational cell is 40 x 16 x 0 with resolution 50\n",
      "     block, center = (0,0,0)\n",
      "          size (1e+20,0.5,0.22)\n",
      "          axes (1,0,0), (0,1,0), (0,0,1)\n",
      "          dielectric constant epsilon diagonal = (12,12,12)\n",
      "time for set_epsilon = 1.60054 s\n",
      "-----------\n"
     ]
    },
    {
     "data": {
      "application/vnd.jupyter.widget-view+json": {
       "model_id": "bd4144f284524d6eb83f4ab8a4752562",
       "version_major": 2,
       "version_minor": 0
      },
      "text/plain": [
       "FloatProgress(value=0.0, description='0% done ', max=200.0)"
      ]
     },
     "metadata": {},
     "output_type": "display_data"
    },
    {
     "name": "stdout",
     "output_type": "stream",
     "text": [
      "Meep progress: 4.26/200.0 = 2.1% done in 4.0s, 184.0s to go\n",
      "on time step 426 (time=4.26), 0.00939613 s/step\n",
      "Meep progress: 8.64/200.0 = 4.3% done in 8.0s, 177.4s to go\n",
      "on time step 864 (time=8.64), 0.00914098 s/step\n",
      "Meep progress: 13.05/200.0 = 6.5% done in 12.0s, 172.1s to go\n",
      "on time step 1305 (time=13.05), 0.00907514 s/step\n",
      "Meep progress: 17.47/200.0 = 8.7% done in 16.0s, 167.3s to go\n",
      "on time step 1747 (time=17.47), 0.00905739 s/step\n",
      "Meep progress: 21.89/200.0 = 10.9% done in 20.0s, 162.9s to go\n",
      "on time step 2189 (time=21.89), 0.00905264 s/step\n",
      "Meep progress: 26.310000000000002/200.0 = 13.2% done in 24.0s, 158.6s to go\n",
      "on time step 2631 (time=26.31), 0.0090524 s/step\n",
      "Meep progress: 30.7/200.0 = 15.3% done in 28.0s, 154.5s to go\n",
      "on time step 3070 (time=30.7), 0.00911788 s/step\n",
      "Meep progress: 35.11/200.0 = 17.6% done in 32.0s, 150.4s to go\n",
      "on time step 3511 (time=35.11), 0.00907592 s/step\n",
      "Meep progress: 39.53/200.0 = 19.8% done in 36.0s, 146.2s to go\n",
      "on time step 3954 (time=39.54), 0.00904926 s/step\n",
      "Meep progress: 43.96/200.0 = 22.0% done in 40.0s, 142.1s to go\n",
      "on time step 4397 (time=43.97), 0.00904787 s/step\n",
      "Meep progress: 48.39/200.0 = 24.2% done in 44.0s, 138.0s to go\n",
      "on time step 4840 (time=48.4), 0.00904734 s/step\n",
      "Meep progress: 52.77/200.0 = 26.4% done in 48.0s, 134.0s to go\n",
      "on time step 5278 (time=52.78), 0.00914027 s/step\n",
      "Meep progress: 56.57/200.0 = 28.3% done in 52.0s, 132.0s to go\n",
      "on time step 5658 (time=56.58), 0.0105321 s/step\n",
      "Meep progress: 60.36/200.0 = 30.2% done in 56.1s, 129.7s to go\n",
      "on time step 6037 (time=60.37), 0.0105686 s/step\n",
      "Meep progress: 64.16/200.0 = 32.1% done in 60.1s, 127.1s to go\n",
      "on time step 6418 (time=64.18), 0.0105267 s/step\n",
      "Meep progress: 67.98/200.0 = 34.0% done in 64.1s, 124.4s to go\n",
      "on time step 6800 (time=68), 0.0104855 s/step\n",
      "Meep progress: 71.74/200.0 = 35.9% done in 68.1s, 121.7s to go\n",
      "on time step 7176 (time=71.76), 0.0106412 s/step\n",
      "Meep progress: 75.55/200.0 = 37.8% done in 72.1s, 118.7s to go\n",
      "on time step 7557 (time=75.57), 0.0105112 s/step\n",
      "Meep progress: 79.35000000000001/200.0 = 39.7% done in 76.1s, 115.7s to go\n",
      "on time step 7937 (time=79.37), 0.0105362 s/step\n",
      "Meep progress: 83.49/200.0 = 41.7% done in 80.1s, 111.7s to go\n",
      "on time step 8351 (time=83.51), 0.00966534 s/step\n",
      "Meep progress: 87.88/200.0 = 43.9% done in 84.1s, 107.3s to go\n",
      "on time step 8790 (time=87.9), 0.00911428 s/step\n",
      "Meep progress: 92.3/200.0 = 46.1% done in 88.1s, 102.8s to go\n",
      "on time step 9233 (time=92.33), 0.00904928 s/step\n",
      "Meep progress: 96.71000000000001/200.0 = 48.4% done in 92.1s, 98.3s to go\n",
      "on time step 9674 (time=96.74), 0.00907111 s/step\n",
      "Meep progress: 101.12/200.0 = 50.6% done in 96.1s, 94.0s to go\n",
      "on time step 10115 (time=101.15), 0.00908607 s/step\n",
      "Meep progress: 105.14/200.0 = 52.6% done in 100.1s, 90.3s to go\n",
      "on time step 10517 (time=105.17), 0.00996198 s/step\n",
      "Meep progress: 109.05/200.0 = 54.5% done in 104.1s, 86.8s to go\n",
      "on time step 10908 (time=109.08), 0.0102318 s/step\n",
      "Meep progress: 113.0/200.0 = 56.5% done in 108.1s, 83.2s to go\n",
      "on time step 11303 (time=113.03), 0.0101448 s/step\n",
      "Meep progress: 116.95/200.0 = 58.5% done in 112.1s, 79.6s to go\n",
      "on time step 11698 (time=116.98), 0.010136 s/step\n",
      "Meep progress: 120.83/200.0 = 60.4% done in 116.1s, 76.1s to go\n",
      "on time step 12086 (time=120.86), 0.0103113 s/step\n",
      "Meep progress: 124.74000000000001/200.0 = 62.4% done in 120.1s, 72.5s to go\n",
      "on time step 12477 (time=124.77), 0.010236 s/step\n",
      "Meep progress: 128.68/200.0 = 64.3% done in 124.1s, 68.8s to go\n",
      "on time step 12871 (time=128.71), 0.0101592 s/step\n",
      "Meep progress: 132.62/200.0 = 66.3% done in 128.1s, 65.1s to go\n",
      "on time step 13265 (time=132.65), 0.0101543 s/step\n",
      "Meep progress: 136.57/200.0 = 68.3% done in 132.1s, 61.4s to go\n",
      "on time step 13661 (time=136.61), 0.0101287 s/step\n",
      "Meep progress: 140.54/200.0 = 70.3% done in 136.1s, 57.6s to go\n",
      "on time step 14058 (time=140.58), 0.0100889 s/step\n",
      "Meep progress: 144.53/200.0 = 72.3% done in 140.1s, 53.8s to go\n",
      "on time step 14457 (time=144.57), 0.0100496 s/step\n",
      "Meep progress: 148.46/200.0 = 74.2% done in 144.1s, 50.0s to go\n",
      "on time step 14851 (time=148.51), 0.0101717 s/step\n",
      "Meep progress: 152.42000000000002/200.0 = 76.2% done in 148.1s, 46.2s to go\n",
      "on time step 15247 (time=152.47), 0.010124 s/step\n",
      "Meep progress: 156.37/200.0 = 78.2% done in 152.1s, 42.4s to go\n",
      "on time step 15642 (time=156.42), 0.0101298 s/step\n",
      "Meep progress: 160.31/200.0 = 80.2% done in 156.1s, 38.7s to go\n",
      "on time step 16036 (time=160.36), 0.0101651 s/step\n",
      "Meep progress: 164.20000000000002/200.0 = 82.1% done in 160.1s, 34.9s to go\n",
      "on time step 16425 (time=164.25), 0.010302 s/step\n",
      "Meep progress: 168.12/200.0 = 84.1% done in 164.2s, 31.1s to go\n",
      "on time step 16817 (time=168.17), 0.0102053 s/step\n",
      "Meep progress: 172.06/200.0 = 86.0% done in 168.2s, 27.3s to go\n",
      "on time step 17211 (time=172.11), 0.0101554 s/step\n",
      "Meep progress: 176.0/200.0 = 88.0% done in 172.2s, 23.5s to go\n",
      "on time step 17605 (time=176.05), 0.0101568 s/step\n",
      "Meep progress: 179.92000000000002/200.0 = 90.0% done in 176.2s, 19.7s to go\n",
      "on time step 17997 (time=179.97), 0.0102128 s/step\n",
      "Meep progress: 183.88/200.0 = 91.9% done in 180.2s, 15.8s to go\n",
      "on time step 18393 (time=183.93), 0.010109 s/step\n",
      "Meep progress: 187.84/200.0 = 93.9% done in 184.2s, 11.9s to go\n",
      "on time step 18789 (time=187.89), 0.0101172 s/step\n",
      "Meep progress: 191.77/200.0 = 95.9% done in 188.2s, 8.1s to go\n",
      "on time step 19182 (time=191.82), 0.010186 s/step\n",
      "Meep progress: 195.72/200.0 = 97.9% done in 192.2s, 4.2s to go\n",
      "on time step 19577 (time=195.77), 0.0101399 s/step\n",
      "Meep progress: 199.67000000000002/200.0 = 99.8% done in 196.2s, 0.3s to go\n",
      "on time step 19971 (time=199.71), 0.0101547 s/step\n",
      "run 0 finished at t = 200.0 (20000 timesteps)\n",
      "Wavelength: 2.7 μm\n",
      "-----------\n",
      "Initializing structure...\n",
      "time for choose_chunkdivision = 0.000641823 s\n",
      "Working in 2D dimensions.\n",
      "Computational cell is 40 x 16 x 0 with resolution 50\n",
      "     block, center = (0,0,0)\n",
      "          size (1e+20,0.5,0.22)\n",
      "          axes (1,0,0), (0,1,0), (0,0,1)\n",
      "          dielectric constant epsilon diagonal = (12,12,12)\n",
      "time for set_epsilon = 1.58792 s\n",
      "-----------\n"
     ]
    },
    {
     "data": {
      "application/vnd.jupyter.widget-view+json": {
       "model_id": "24bcdbdc1f644f91a9d205842b9ad3eb",
       "version_major": 2,
       "version_minor": 0
      },
      "text/plain": [
       "FloatProgress(value=0.0, description='0% done ', max=200.0)"
      ]
     },
     "metadata": {},
     "output_type": "display_data"
    },
    {
     "name": "stdout",
     "output_type": "stream",
     "text": [
      "Meep progress: 3.71/200.0 = 1.9% done in 4.0s, 212.2s to go\n",
      "on time step 371 (time=3.71), 0.0108002 s/step\n",
      "Meep progress: 7.59/200.0 = 3.8% done in 8.0s, 203.2s to go\n",
      "on time step 759 (time=7.59), 0.0103212 s/step\n",
      "Meep progress: 11.46/200.0 = 5.7% done in 12.0s, 197.8s to go\n",
      "on time step 1146 (time=11.46), 0.010362 s/step\n",
      "Meep progress: 15.36/200.0 = 7.7% done in 16.0s, 192.7s to go\n",
      "on time step 1536 (time=15.36), 0.0102707 s/step\n",
      "Meep progress: 19.330000000000002/200.0 = 9.7% done in 20.0s, 187.2s to go\n",
      "on time step 1933 (time=19.33), 0.0100759 s/step\n",
      "Meep progress: 23.29/200.0 = 11.6% done in 24.0s, 182.4s to go\n",
      "on time step 2329 (time=23.29), 0.0101126 s/step\n",
      "Meep progress: 27.240000000000002/200.0 = 13.6% done in 28.0s, 177.9s to go\n",
      "on time step 2724 (time=27.24), 0.0101423 s/step\n",
      "Meep progress: 31.21/200.0 = 15.6% done in 32.0s, 173.3s to go\n",
      "on time step 3121 (time=31.21), 0.0100768 s/step\n",
      "Meep progress: 35.09/200.0 = 17.5% done in 36.1s, 169.4s to go\n",
      "on time step 3509 (time=35.09), 0.0103224 s/step\n",
      "Meep progress: 38.94/200.0 = 19.5% done in 40.1s, 165.7s to go\n",
      "on time step 3894 (time=38.94), 0.0104129 s/step\n",
      "Meep progress: 42.9/200.0 = 21.4% done in 44.1s, 161.4s to go\n",
      "on time step 4290 (time=42.9), 0.0101116 s/step\n",
      "Meep progress: 46.87/200.0 = 23.4% done in 48.1s, 157.1s to go\n",
      "on time step 4687 (time=46.87), 0.0100983 s/step\n",
      "Meep progress: 50.82/200.0 = 25.4% done in 52.1s, 152.9s to go\n",
      "on time step 5082 (time=50.82), 0.0101481 s/step\n",
      "Meep progress: 54.75/200.0 = 27.4% done in 56.1s, 148.8s to go\n",
      "on time step 5475 (time=54.75), 0.0101782 s/step\n",
      "Meep progress: 58.67/200.0 = 29.3% done in 60.1s, 144.8s to go\n",
      "on time step 5867 (time=58.67), 0.0102179 s/step\n",
      "Meep progress: 62.61/200.0 = 31.3% done in 64.1s, 140.7s to go\n",
      "on time step 6261 (time=62.61), 0.0101699 s/step\n",
      "Meep progress: 66.52/200.0 = 33.3% done in 68.1s, 136.6s to go\n",
      "on time step 6653 (time=66.53), 0.0102316 s/step\n",
      "Meep progress: 70.39/200.0 = 35.2% done in 72.1s, 132.8s to go\n",
      "on time step 7040 (time=70.4), 0.0103444 s/step\n",
      "Meep progress: 74.3/200.0 = 37.1% done in 76.1s, 128.8s to go\n",
      "on time step 7431 (time=74.31), 0.0102313 s/step\n",
      "Meep progress: 78.25/200.0 = 39.1% done in 80.1s, 124.6s to go\n",
      "on time step 7826 (time=78.26), 0.010147 s/step\n",
      "Meep progress: 82.21000000000001/200.0 = 41.1% done in 84.1s, 120.5s to go\n",
      "on time step 8222 (time=82.22), 0.0101023 s/step\n",
      "Meep progress: 86.15/200.0 = 43.1% done in 88.1s, 116.4s to go\n",
      "on time step 8616 (time=86.16), 0.0101551 s/step\n",
      "Meep progress: 90.10000000000001/200.0 = 45.1% done in 92.1s, 112.4s to go\n",
      "on time step 9011 (time=90.11), 0.010133 s/step\n",
      "Meep progress: 94.05/200.0 = 47.0% done in 96.1s, 108.3s to go\n",
      "on time step 9406 (time=94.06), 0.0101275 s/step\n",
      "Meep progress: 98.02/200.0 = 49.0% done in 100.1s, 104.2s to go\n",
      "on time step 9803 (time=98.03), 0.0100943 s/step\n",
      "Meep progress: 101.96000000000001/200.0 = 51.0% done in 104.1s, 100.1s to go\n",
      "on time step 10197 (time=101.97), 0.010162 s/step\n",
      "Meep progress: 105.91/200.0 = 53.0% done in 108.1s, 96.1s to go\n",
      "on time step 10592 (time=105.92), 0.0101266 s/step\n",
      "Meep progress: 109.74000000000001/200.0 = 54.9% done in 112.1s, 92.2s to go\n",
      "on time step 10975 (time=109.75), 0.01046 s/step\n",
      "Meep progress: 113.61/200.0 = 56.8% done in 116.1s, 88.3s to go\n",
      "on time step 11362 (time=113.62), 0.0103554 s/step\n",
      "Meep progress: 117.5/200.0 = 58.8% done in 120.2s, 84.4s to go\n",
      "on time step 11751 (time=117.51), 0.0103026 s/step\n",
      "Meep progress: 121.39/200.0 = 60.7% done in 124.2s, 80.4s to go\n",
      "on time step 12140 (time=121.4), 0.0103062 s/step\n",
      "Meep progress: 125.25/200.0 = 62.6% done in 128.2s, 76.5s to go\n",
      "on time step 12526 (time=125.26), 0.0103694 s/step\n",
      "Meep progress: 129.13/200.0 = 64.6% done in 132.2s, 72.5s to go\n",
      "on time step 12914 (time=129.14), 0.0103242 s/step\n",
      "Meep progress: 133.0/200.0 = 66.5% done in 136.2s, 68.6s to go\n",
      "on time step 13301 (time=133.01), 0.0103533 s/step\n",
      "Meep progress: 136.88/200.0 = 68.4% done in 140.2s, 64.6s to go\n",
      "on time step 13689 (time=136.89), 0.0103258 s/step\n",
      "Meep progress: 140.75/200.0 = 70.4% done in 144.2s, 60.7s to go\n",
      "on time step 14076 (time=140.76), 0.0103563 s/step\n",
      "Meep progress: 144.63/200.0 = 72.3% done in 148.2s, 56.7s to go\n",
      "on time step 14464 (time=144.64), 0.0103285 s/step\n",
      "Meep progress: 148.23/200.0 = 74.1% done in 152.2s, 53.2s to go\n",
      "on time step 14824 (time=148.24), 0.0111336 s/step\n",
      "Meep progress: 151.84/200.0 = 75.9% done in 156.2s, 49.5s to go\n",
      "on time step 15185 (time=151.85), 0.0110866 s/step\n",
      "Meep progress: 155.66/200.0 = 77.8% done in 160.2s, 45.6s to go\n",
      "on time step 15567 (time=155.67), 0.0104837 s/step\n",
      "Meep progress: 159.51/200.0 = 79.8% done in 164.2s, 41.7s to go\n",
      "on time step 15952 (time=159.52), 0.0103944 s/step\n",
      "Meep progress: 163.39000000000001/200.0 = 81.7% done in 168.2s, 37.7s to go\n",
      "on time step 16340 (time=163.4), 0.0103234 s/step\n",
      "Meep progress: 167.26/200.0 = 83.6% done in 172.2s, 33.7s to go\n",
      "on time step 16728 (time=167.28), 0.0103314 s/step\n",
      "Meep progress: 171.16/200.0 = 85.6% done in 176.2s, 29.7s to go\n",
      "on time step 17119 (time=171.19), 0.010258 s/step\n",
      "Meep progress: 175.07/200.0 = 87.5% done in 180.2s, 25.7s to go\n",
      "on time step 17510 (time=175.1), 0.0102416 s/step\n",
      "Meep progress: 178.97/200.0 = 89.5% done in 184.2s, 21.6s to go\n",
      "on time step 17900 (time=179), 0.0102579 s/step\n",
      "Meep progress: 182.82/200.0 = 91.4% done in 188.2s, 17.7s to go\n",
      "on time step 18286 (time=182.86), 0.0103888 s/step\n",
      "Meep progress: 186.70000000000002/200.0 = 93.4% done in 192.2s, 13.7s to go\n",
      "on time step 18674 (time=186.74), 0.0103168 s/step\n",
      "Meep progress: 190.57/200.0 = 95.3% done in 196.2s, 9.7s to go\n",
      "on time step 19062 (time=190.62), 0.0103341 s/step\n",
      "Meep progress: 194.45000000000002/200.0 = 97.2% done in 200.2s, 5.7s to go\n",
      "on time step 19450 (time=194.5), 0.010328 s/step\n",
      "Meep progress: 198.31/200.0 = 99.2% done in 204.2s, 1.7s to go\n",
      "on time step 19836 (time=198.36), 0.010363 s/step\n",
      "run 0 finished at t = 200.0 (20000 timesteps)\n"
     ]
    }
   ],
   "source": [
    "for i in FreqArray:\n",
    "\n",
    "    print(f'Wavelength: {1/i} μm')\n",
    "    sources = [mp.Source(mp.ContinuousSource(frequency=i),  \n",
    "                        component=mp.Ez,                     # Component Ez to specify a eletric current\n",
    "                        center=mp.Vector3(-16,0))]     \n",
    "\n",
    "    # Is important to leave a little space between sources and the cell boundaries, \n",
    "    # to keep the boundary conditions from interfering with them.\n",
    "\n",
    "    sim = mp.Simulation(cell_size=cell,\n",
    "                        boundary_layers=pml_layers,\n",
    "                        geometry=geometry,\n",
    "                        sources=sources,\n",
    "                        resolution=resolution)\n",
    "    \n",
    "    pt = mp.Vector3(0,0)\n",
    "\n",
    "    sim.run(until=200)  # Run until a time of t = 200\n",
    "    #sim.run(until_after_sources=mp.stop_when_fields_decayed(50, mp.Ez, pt, 1e-1))"
   ]
  },
  {
   "cell_type": "markdown",
   "metadata": {},
   "source": [
    "## Parallel Simulation"
   ]
  },
  {
   "cell_type": "code",
   "execution_count": 26,
   "metadata": {},
   "outputs": [],
   "source": [
    "cores = 4\n",
    "resultPath = 'ParallelResults/Result.out'"
   ]
  },
  {
   "cell_type": "code",
   "execution_count": 27,
   "metadata": {},
   "outputs": [
    {
     "name": "stdout",
     "output_type": "stream",
     "text": [
      "[jupytext] Reading MEEPParalleltesting.ipynb in format ipynb\n",
      "[jupytext] Writing MEEPParalleltesting.py (destination file replaced)\n"
     ]
    }
   ],
   "source": [
    "!jupytext --to py MEEPParalleltesting.ipynb\n",
    "!mpirun -np $cores python MEEPParalleltesting.py > $resultPath"
   ]
  },
  {
   "cell_type": "markdown",
   "metadata": {},
   "source": [
    "## Analyze"
   ]
  },
  {
   "cell_type": "markdown",
   "metadata": {},
   "source": [
    "Getting the dieletric region"
   ]
  },
  {
   "cell_type": "code",
   "execution_count": 12,
   "metadata": {
    "tags": [
     "active-ipynb"
    ]
   },
   "outputs": [
    {
     "data": {
      "image/png": "[encoded data removed]",
      "text/plain": [
       "<Figure size 640x480 with 1 Axes>"
      ]
     },
     "metadata": {},
     "output_type": "display_data"
    }
   ],
   "source": [
    "eps_data = sim.get_array(center=mp.Vector3(), size=cell, component=mp.Dielectric)\n",
    "plt.figure()\n",
    "plt.imshow(eps_data.transpose(), interpolation='spline36', cmap='binary')\n",
    "plt.axis('off')\n",
    "plt.show()"
   ]
  },
  {
   "cell_type": "markdown",
   "metadata": {},
   "source": [
    "Getting results"
   ]
  },
  {
   "cell_type": "code",
   "execution_count": 13,
   "metadata": {
    "tags": [
     "active-ipynb"
    ]
   },
   "outputs": [
    {
     "data": {
      "image/png": "[encoded data removed]",
      "text/plain": [
       "<Figure size 640x480 with 1 Axes>"
      ]
     },
     "metadata": {},
     "output_type": "display_data"
    }
   ],
   "source": [
    "ez_data = sim.get_array(center=mp.Vector3(), size=cell, component=mp.Ez)\n",
    "plt.figure()\n",
    "plt.imshow(eps_data.transpose(), interpolation='spline36', cmap='binary')\n",
    "plt.imshow(ez_data.transpose(), interpolation='spline36', cmap='RdBu', alpha=0.9)\n",
    "plt.axis('off')\n",
    "# plt.plot((16/2-7)*resolution,8/2*resolution,'go')\n",
    "# plt.text((16/2-7)*resolution,(8/2 + 1)*resolution,'Source',color='g')\n",
    "# plt.plot(80,39,'ro')\n",
    "# plt.text(4,55,'Field Decay',color='g')\n",
    "plt.show()"
   ]
  }
 ],
 "metadata": {
  "kernelspec": {
   "display_name": "mp",
   "language": "python",
   "name": "python3"
  },
  "language_info": {
   "codemirror_mode": {
    "name": "ipython",
    "version": 3
   },
   "file_extension": ".py",
   "mimetype": "text/x-python",
   "name": "python",
   "nbconvert_exporter": "python",
   "pygments_lexer": "ipython3",
   "version": "3.10.14"
  }
 },
 "nbformat": 4,
 "nbformat_minor": 2
}
