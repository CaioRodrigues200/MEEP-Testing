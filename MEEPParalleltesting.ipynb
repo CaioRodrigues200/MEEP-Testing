{
 "cells": [
  {
   "cell_type": "code",
   "execution_count": 1,
   "metadata": {},
   "outputs": [],
   "source": [
    "root_path = 'miniconda3'\n",
    "import sys\n",
    "sys.path.append(f'{root_path}envs/mp/lib/python3.12.4/site-packages/')\n",
    "\n",
    "import meep as mp\n",
    "import numpy as np\n",
    "import matplotlib.pyplot as plt\n",
    "from mpi4py.MPI import COMM_WORLD\n",
    "from IPython.display import clear_output, Math, HTML"
   ]
  },
  {
   "cell_type": "code",
   "execution_count": 2,
   "metadata": {},
   "outputs": [
    {
     "name": "stdout",
     "output_type": "stream",
     "text": [
      "Hi, im proccess 0 and im starting the simulation on the wavelength 6.666666666666667 μm\n"
     ]
    }
   ],
   "source": [
    "comm = COMM_WORLD\n",
    "rank = comm.Get_rank()\n",
    "\n",
    "Rankfreq = 0.15 - 0.005*rank\n",
    "print(f'Hi, im proccess {rank} and im starting the simulation on the wavelength {1/Rankfreq} μm')"
   ]
  },
  {
   "cell_type": "code",
   "execution_count": 3,
   "metadata": {},
   "outputs": [],
   "source": [
    "cell = mp.Vector3(16,8,0)  # This is the simulation window. Here is defined a 2D-cell with Δx=16um and Δy=8um \n",
    "\n",
    "pml_layers = [mp.PML(1.0)]  # Adding an absorbing layer (PML) of thickness 1 μm around all sides of the cell\n",
    "\n",
    "geometry = [mp.Block(mp.Vector3(mp.inf,1,mp.inf),     # Defines a parallelepiped block of size ∞ × 1 × ∞\n",
    "                     center=mp.Vector3(),             # Centered at (0,0)\n",
    "                     material=mp.Medium(epsilon=12))] # Material with ε=12\n",
    "\n",
    "# By default, any place where there are no objects there is air (ε=1)"
   ]
  },
  {
   "cell_type": "code",
   "execution_count": 4,
   "metadata": {},
   "outputs": [],
   "source": [
    "sources = [mp.Source(mp.ContinuousSource(frequency=Rankfreq),  # Frequency f corresponds to a vacuum wavelength of 1/0.15=6.67 μm\n",
    "                     component=mp.Ez,                      # Component Ez to specify a eletric current\n",
    "                     center=mp.Vector3(7,0))]             # The current is located at (-7,0)\n",
    "\n",
    "# Is important to leave a little space between sources and the cell boundaries, \n",
    "# to keep the boundary conditions from interfering with them."
   ]
  },
  {
   "cell_type": "code",
   "execution_count": 23,
   "metadata": {},
   "outputs": [],
   "source": [
    "resolution = 60"
   ]
  },
  {
   "cell_type": "code",
   "execution_count": 24,
   "metadata": {},
   "outputs": [],
   "source": [
    "sim = mp.Simulation(cell_size=cell,\n",
    "                    boundary_layers=pml_layers,\n",
    "                    geometry=geometry,\n",
    "                    sources=sources,\n",
    "                    resolution=resolution)"
   ]
  },
  {
   "cell_type": "code",
   "execution_count": 25,
   "metadata": {},
   "outputs": [
    {
     "name": "stdout",
     "output_type": "stream",
     "text": [
      "-----------\n",
      "Initializing structure...\n",
      "time for choose_chunkdivision = 0.000459194 s\n",
      "Working in 2D dimensions.\n",
      "Computational cell is 16 x 8 x 0 with resolution 60\n",
      "     block, center = (0,0,0)\n",
      "          size (1e+20,1,1e+20)\n",
      "          axes (1,0,0), (0,1,0), (0,0,1)\n",
      "          dielectric constant epsilon diagonal = (12,12,12)\n",
      "time for set_epsilon = 0.538805 s\n",
      "-----------\n"
     ]
    },
    {
     "data": {
      "application/vnd.jupyter.widget-view+json": {
       "model_id": "4ed193ef06d542de8b56f94159bc2e9f",
       "version_major": 2,
       "version_minor": 0
      },
      "text/plain": [
       "FloatProgress(value=0.0, description='0% done ', max=500.0)"
      ]
     },
     "metadata": {},
     "output_type": "display_data"
    },
    {
     "name": "stdout",
     "output_type": "stream",
     "text": [
      "Meep progress: 9.875/500.0 = 2.0% done in 4.0s, 198.6s to go\n",
      "on time step 1186 (time=9.88333), 0.00337271 s/step\n",
      "Meep progress: 20.025/500.0 = 4.0% done in 8.0s, 191.8s to go\n",
      "on time step 2404 (time=20.0333), 0.00328669 s/step\n",
      "Meep progress: 30.175/500.0 = 6.0% done in 12.0s, 186.9s to go\n",
      "on time step 3623 (time=30.1917), 0.00328383 s/step\n",
      "Meep progress: 40.266666666666666/500.0 = 8.1% done in 16.0s, 182.7s to go\n",
      "on time step 4835 (time=40.2917), 0.00330306 s/step\n",
      "Meep progress: 50.71666666666667/500.0 = 10.1% done in 20.0s, 177.2s to go\n",
      "on time step 6090 (time=50.75), 0.00318791 s/step\n",
      "Meep progress: 61.19166666666666/500.0 = 12.2% done in 24.0s, 172.2s to go\n",
      "on time step 7347 (time=61.225), 0.00318632 s/step\n",
      "Meep progress: 71.39166666666667/500.0 = 14.3% done in 28.0s, 168.2s to go\n",
      "on time step 8571 (time=71.425), 0.00326801 s/step\n",
      "Meep progress: 81.78333333333333/500.0 = 16.4% done in 32.0s, 163.7s to go\n",
      "on time step 9817 (time=81.8083), 0.00321156 s/step\n",
      "Meep progress: 92.11666666666666/500.0 = 18.4% done in 36.0s, 159.5s to go\n",
      "on time step 11058 (time=92.15), 0.00322434 s/step\n",
      "Meep progress: 102.50833333333333/500.0 = 20.5% done in 40.0s, 155.2s to go\n",
      "on time step 12305 (time=102.542), 0.00320914 s/step\n",
      "Meep progress: 113.01666666666667/500.0 = 22.6% done in 44.0s, 150.7s to go\n",
      "on time step 13566 (time=113.05), 0.00317263 s/step\n",
      "Meep progress: 123.31666666666666/500.0 = 24.7% done in 48.0s, 146.7s to go\n",
      "on time step 14802 (time=123.35), 0.00323633 s/step\n",
      "Meep progress: 133.36666666666667/500.0 = 26.7% done in 52.0s, 143.0s to go\n",
      "on time step 16008 (time=133.4), 0.00331784 s/step\n",
      "Meep progress: 143.65833333333333/500.0 = 28.7% done in 56.0s, 139.0s to go\n",
      "on time step 17244 (time=143.7), 0.00323932 s/step\n",
      "Meep progress: 154.14166666666665/500.0 = 30.8% done in 60.0s, 134.7s to go\n",
      "on time step 18502 (time=154.183), 0.00318136 s/step\n",
      "Meep progress: 164.66666666666666/500.0 = 32.9% done in 64.0s, 130.4s to go\n",
      "on time step 19765 (time=164.708), 0.00316717 s/step\n",
      "Meep progress: 175.11666666666667/500.0 = 35.0% done in 68.0s, 126.2s to go\n",
      "on time step 21019 (time=175.158), 0.00319157 s/step\n",
      "Meep progress: 185.54166666666666/500.0 = 37.1% done in 72.0s, 122.1s to go\n",
      "on time step 22270 (time=185.583), 0.0031987 s/step\n",
      "Meep progress: 195.825/500.0 = 39.2% done in 76.0s, 118.1s to go\n",
      "on time step 23504 (time=195.867), 0.00324193 s/step\n",
      "Meep progress: 206.24166666666667/500.0 = 41.2% done in 80.0s, 114.0s to go\n",
      "on time step 24754 (time=206.283), 0.00320025 s/step\n",
      "Meep progress: 216.68333333333334/500.0 = 43.3% done in 84.0s, 109.9s to go\n",
      "on time step 26007 (time=216.725), 0.00319492 s/step\n",
      "Meep progress: 226.85/500.0 = 45.4% done in 88.0s, 106.0s to go\n",
      "on time step 27227 (time=226.892), 0.00327919 s/step\n",
      "Meep progress: 236.70833333333334/500.0 = 47.3% done in 92.0s, 102.4s to go\n",
      "on time step 28411 (time=236.758), 0.00338018 s/step\n",
      "Meep progress: 247.075/500.0 = 49.4% done in 96.0s, 98.3s to go\n",
      "on time step 29655 (time=247.125), 0.00321627 s/step\n",
      "Meep progress: 257.4916666666667/500.0 = 51.5% done in 100.0s, 94.2s to go\n",
      "on time step 30905 (time=257.542), 0.00320153 s/step\n",
      "Meep progress: 267.85833333333335/500.0 = 53.6% done in 104.0s, 90.2s to go\n",
      "on time step 32149 (time=267.908), 0.0032164 s/step\n",
      "Meep progress: 278.35/500.0 = 55.7% done in 108.0s, 86.0s to go\n",
      "on time step 33408 (time=278.4), 0.0031778 s/step\n",
      "Meep progress: 288.7583333333333/500.0 = 57.8% done in 112.0s, 82.0s to go\n",
      "on time step 34657 (time=288.808), 0.00320317 s/step\n",
      "Meep progress: 299.01666666666665/500.0 = 59.8% done in 116.1s, 78.0s to go\n",
      "on time step 35888 (time=299.067), 0.00325164 s/step\n",
      "Meep progress: 309.25/500.0 = 61.9% done in 120.1s, 74.0s to go\n",
      "on time step 37116 (time=309.3), 0.00325963 s/step\n",
      "Meep progress: 319.35833333333335/500.0 = 63.9% done in 124.1s, 70.2s to go\n",
      "on time step 38329 (time=319.408), 0.00329838 s/step\n",
      "Meep progress: 329.2833333333333/500.0 = 65.9% done in 128.1s, 66.4s to go\n",
      "on time step 39520 (time=329.333), 0.00335905 s/step\n",
      "Meep progress: 339.0333333333333/500.0 = 67.8% done in 132.1s, 62.7s to go\n",
      "on time step 40692 (time=339.1), 0.00341392 s/step\n",
      "Meep progress: 349.4916666666667/500.0 = 69.9% done in 136.1s, 58.6s to go\n",
      "on time step 41948 (time=349.567), 0.00318611 s/step\n",
      "Meep progress: 360.0083333333333/500.0 = 72.0% done in 140.1s, 54.5s to go\n",
      "on time step 43210 (time=360.083), 0.00316977 s/step\n",
      "Meep progress: 370.4583333333333/500.0 = 74.1% done in 144.1s, 50.4s to go\n",
      "on time step 44464 (time=370.533), 0.00319207 s/step\n",
      "Meep progress: 380.9083333333333/500.0 = 76.2% done in 148.1s, 46.3s to go\n",
      "on time step 45720 (time=381), 0.00318616 s/step\n",
      "Meep progress: 391.35833333333335/500.0 = 78.3% done in 152.1s, 42.2s to go\n",
      "on time step 46972 (time=391.433), 0.00319557 s/step\n",
      "Meep progress: 401.71666666666664/500.0 = 80.3% done in 156.1s, 38.2s to go\n",
      "on time step 48217 (time=401.808), 0.00321373 s/step\n",
      "Meep progress: 412.2/500.0 = 82.4% done in 160.1s, 34.1s to go\n",
      "on time step 49475 (time=412.292), 0.00318122 s/step\n",
      "Meep progress: 422.43333333333334/500.0 = 84.5% done in 164.1s, 30.1s to go\n",
      "on time step 50701 (time=422.508), 0.00326271 s/step\n",
      "Meep progress: 432.34999999999997/500.0 = 86.5% done in 168.1s, 26.3s to go\n",
      "on time step 51890 (time=432.417), 0.00336431 s/step\n",
      "Meep progress: 442.6333333333333/500.0 = 88.5% done in 172.1s, 22.3s to go\n",
      "on time step 53126 (time=442.717), 0.00323734 s/step\n",
      "Meep progress: 453.15/500.0 = 90.6% done in 176.1s, 18.2s to go\n",
      "on time step 54387 (time=453.225), 0.0031733 s/step\n",
      "Meep progress: 463.525/500.0 = 92.7% done in 180.1s, 14.2s to go\n",
      "on time step 55633 (time=463.608), 0.00321342 s/step\n",
      "Meep progress: 473.94166666666666/500.0 = 94.8% done in 184.1s, 10.1s to go\n",
      "on time step 56884 (time=474.033), 0.0032001 s/step\n",
      "Meep progress: 484.3333333333333/500.0 = 96.9% done in 188.1s, 6.1s to go\n",
      "on time step 58131 (time=484.425), 0.00320871 s/step\n",
      "Meep progress: 494.8/500.0 = 99.0% done in 192.1s, 2.0s to go\n",
      "on time step 59386 (time=494.883), 0.00318891 s/step\n",
      "run 0 finished at t = 500.0 (60000 timesteps)\n"
     ]
    }
   ],
   "source": [
    "sim.run(until=500)  # Run until a time of t = 500"
   ]
  },
  {
   "cell_type": "markdown",
   "metadata": {},
   "source": [
    "## Parallel Simulation"
   ]
  },
  {
   "cell_type": "code",
   "execution_count": 26,
   "metadata": {},
   "outputs": [],
   "source": [
    "cores = 4\n",
    "resultPath = 'ParallelResults/Result.out'"
   ]
  },
  {
   "cell_type": "code",
   "execution_count": 27,
   "metadata": {},
   "outputs": [
    {
     "name": "stdout",
     "output_type": "stream",
     "text": [
      "[jupytext] Reading MEEPParalleltesting.ipynb in format ipynb\n",
      "[jupytext] Writing MEEPParalleltesting.py (destination file replaced)\n"
     ]
    }
   ],
   "source": [
    "!jupytext --to py MEEPParalleltesting.ipynb\n",
    "!mpirun -np $cores python MEEPParalleltesting.py > $resultPath"
   ]
  },
  {
   "cell_type": "markdown",
   "metadata": {},
   "source": [
    "## Analyze"
   ]
  },
  {
   "cell_type": "markdown",
   "metadata": {},
   "source": [
    "Getting the dieletric region"
   ]
  },
  {
   "cell_type": "code",
   "execution_count": 24,
   "metadata": {
    "tags": [
     "active-ipynb"
    ]
   },
   "outputs": [
    {
     "data": {
      "image/png": "[encoded data removed]",
      "text/plain": [
       "<Figure size 640x480 with 1 Axes>"
      ]
     },
     "metadata": {},
     "output_type": "display_data"
    }
   ],
   "source": [
    "eps_data = sim.get_array(center=mp.Vector3(), size=cell, component=mp.Dielectric)\n",
    "plt.figure()\n",
    "plt.imshow(eps_data.transpose(), interpolation='spline36', cmap='binary')\n",
    "plt.axis('off')\n",
    "plt.show()"
   ]
  },
  {
   "cell_type": "markdown",
   "metadata": {},
   "source": [
    "Getting results"
   ]
  },
  {
   "cell_type": "code",
   "execution_count": 25,
   "metadata": {
    "tags": [
     "active-ipynb"
    ]
   },
   "outputs": [
    {
     "data": {
      "image/png": "[encoded data removed]",
      "text/plain": [
       "<Figure size 640x480 with 1 Axes>"
      ]
     },
     "metadata": {},
     "output_type": "display_data"
    }
   ],
   "source": [
    "ez_data = sim.get_array(center=mp.Vector3(), size=cell, component=mp.Ez)\n",
    "plt.figure()\n",
    "plt.imshow(eps_data.transpose(), interpolation='spline36', cmap='binary')\n",
    "plt.imshow(ez_data.transpose(), interpolation='spline36', cmap='RdBu', alpha=0.9)\n",
    "plt.plot(10,39,'go')\n",
    "plt.text(4,55,'Source',color='g')\n",
    "plt.axis('off')\n",
    "plt.plot(80,39,'ro')\n",
    "plt.text(4,55,'Field Decay',color='g')\n",
    "plt.show()"
   ]
  }
 ],
 "metadata": {
  "kernelspec": {
   "display_name": "mp",
   "language": "python",
   "name": "python3"
  },
  "language_info": {
   "codemirror_mode": {
    "name": "ipython",
    "version": 3
   },
   "file_extension": ".py",
   "mimetype": "text/x-python",
   "name": "python",
   "nbconvert_exporter": "python",
   "pygments_lexer": "ipython3",
   "version": "3.10.14"
  }
 },
 "nbformat": 4,
 "nbformat_minor": 2
}
