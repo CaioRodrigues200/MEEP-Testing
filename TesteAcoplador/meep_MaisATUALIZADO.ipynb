{
 "cells": [
  {
   "cell_type": "markdown",
   "metadata": {},
   "source": [
    "# 3D"
   ]
  },
  {
   "cell_type": "code",
   "execution_count": null,
   "metadata": {},
   "outputs": [],
   "source": [
    "import meep as mp\n",
    "import numpy as np\n",
    "import matplotlib.pyplot as plt\n",
    "import scipy.io as sio   \n",
    "import scipy.signal\n",
    "from scipy.special import erfc\n",
    "import scipy as sp\n",
    "from meep.materials import Si,SiO2 ## Problem!\n",
    "import meep as mp\n",
    "plt.rcParams[\"figure.figsize\"] = (12,6)\n",
    "\n",
    "SiO2 = mp.Medium(epsilon=2.25)\n",
    "Si = mp.Medium(epsilon=12)\n",
    "\n",
    "resolution = 10  # Original: 45\n",
    "three_d = True\n",
    "\n",
    "gdsII_file = 'demo.gds'\n",
    "CELL_LAYER = 1\n",
    "ESTRUTURA_LAYER = 2\n",
    "SOURCE_LAYER = 4\n",
    "PORT1_LAYER = 3\n",
    "PORT2_LAYER = 5\n",
    "PORT3_LAYER = 6\n",
    "PORT4_LAYER = 7\n",
    "\n",
    "default_d = 0.3\n",
    "\n",
    "t_oxide = 2.0\n",
    "t_Si = 0.22\n",
    "\n",
    "\n",
    "dpml = 0.5\n",
    "cell_thickness = dpml+t_oxide+dpml\n",
    "\n",
    "SiO2 = mp.Medium(epsilon=2.25)\n",
    "Si = mp.Medium(epsilon=12)\n",
    "\n",
    "λinicial = 1520e-9 *1e6\n",
    "λfinal = 1575e-9 *1e6\n",
    "Npontos = 25\n",
    "\n",
    "finicial = 1/λfinal\n",
    "ffinal = 1/λinicial\n",
    "\n",
    "fArray = 1/np.linspace(λinicial,λfinal,Npontos)\n",
    "\n",
    "\n",
    "fcen = (ffinal + finicial)/2  # pulse center frequency\n",
    "df = ffinal - finicial   # pulse width (in frequency)\n"
   ]
  },
  {
   "cell_type": "code",
   "execution_count": null,
   "metadata": {},
   "outputs": [],
   "source": [
    "fArray"
   ]
  },
  {
   "cell_type": "markdown",
   "metadata": {},
   "source": [
    "Se o bash !mpirun não rodar por algum motivo, tente não executar esta célula abaixo, apesar de que ela ainda será considerada no arquivo .py"
   ]
  },
  {
   "cell_type": "code",
   "execution_count": null,
   "metadata": {},
   "outputs": [],
   "source": [
    "from mpi4py.MPI import COMM_WORLD\n",
    "\n",
    "comm = COMM_WORLD\n",
    "rank = comm.Get_rank()\n"
   ]
  },
  {
   "cell_type": "markdown",
   "metadata": {},
   "source": [
    "Proccess call: Use a variável \"rank\" para instruir o processo"
   ]
  },
  {
   "cell_type": "code",
   "execution_count": null,
   "metadata": {},
   "outputs": [],
   "source": [
    "if(mp.am_master()==True): isMaster = 'a Master' \n",
    "else: isMaster = 'not a Master'\n",
    "print(f'Hi, im proccess {rank} and im {isMaster}')"
   ]
  },
  {
   "cell_type": "code",
   "execution_count": null,
   "metadata": {},
   "outputs": [],
   "source": [
    "####\n",
    "cell_zmax = 0.5*cell_thickness if three_d else 0\n",
    "cell_zmin = -0.5*cell_thickness if three_d else 0\n",
    "si_zmax = 0.5*t_Si if three_d else 10\n",
    "si_zmin = -0.5*t_Si if three_d else -10\n",
    "\n",
    "estrutura = mp.get_GDSII_prisms(Si, gdsII_file, ESTRUTURA_LAYER, si_zmin, si_zmax)\n",
    "\n",
    "# cell = mp.GDSII_vol(gdsII_file, CELL_LAYER, cell_zmin, cell_zmax)\n",
    "# p1 = mp.GDSII_vol(gdsII_file, PORT1_LAYER, si_zmin, si_zmax)\n",
    "# p2 = mp.GDSII_vol(gdsII_file, PORT2_LAYER, si_zmin, si_zmax)\n",
    "# p3 = mp.GDSII_vol(gdsII_file, PORT3_LAYER, si_zmin, si_zmax)\n",
    "# p4 = mp.GDSII_vol(gdsII_file, PORT4_LAYER, si_zmin, si_zmax)\n",
    "# src_vol = mp.GDSII_vol(gdsII_file, SOURCE_LAYER, si_zmin, si_zmax)\n",
    "\n",
    "cell = mp.GDSII_vol(gdsII_file, CELL_LAYER, cell_zmin, cell_zmax)\n",
    "p1 = mp.GDSII_vol(gdsII_file, PORT1_LAYER, cell_zmin, cell_zmax)\n",
    "p2 = mp.GDSII_vol(gdsII_file, PORT2_LAYER, cell_zmin, cell_zmax)\n",
    "p3 = mp.GDSII_vol(gdsII_file, PORT3_LAYER, cell_zmin, cell_zmax)\n",
    "p4 = mp.GDSII_vol(gdsII_file, PORT4_LAYER, cell_zmin, cell_zmax)\n",
    "src_vol = mp.GDSII_vol(gdsII_file, SOURCE_LAYER, cell_zmin, cell_zmax)\n",
    "sources = [mp.EigenModeSource(src=mp.GaussianSource(fcen,fwidth=df),\n",
    "                                  volume=src_vol,\n",
    "                                  eig_parity=mp.NO_PARITY if three_d else mp.EVEN_Y+mp.ODD_Z)]\n",
    "\n",
    "# sources = [mp.EigenModeSource(src=mp.ContinuousSource(fcen,fwidth=df),\n",
    "#                               volume=src_vol,\n",
    "#                               eig_parity=mp.EVEN_Y+mp.ODD_Z)]\n",
    "\n",
    "size=mp.Vector3(30.4,30.4,0)\n",
    "\n",
    "# chunk_layout = mp.BinaryPartition(data=[ (mp.X,-10.0), 0, [ (mp.X,0), 1 ,\n",
    "#                                         [ (mp.X,10.0) , 2 , 3 ]]])\n",
    "\n",
    "sim = mp.Simulation(resolution=resolution,\n",
    "                    cell_size=cell.size,\n",
    "                    boundary_layers=[mp.PML(dpml)],\n",
    "                    sources=sources,\n",
    "                    geometry=estrutura,\n",
    "                    default_material=SiO2,\n",
    "                    split_chunks_evenly=True)\n",
    "\n",
    "mode1 = sim.add_mode_monitor(fcen, df, Npontos, mp.ModeRegion(volume=p1))\n",
    "mode2 = sim.add_mode_monitor(fcen, df, Npontos, mp.ModeRegion(volume=p2))\n",
    "mode3 = sim.add_mode_monitor(fcen, df, Npontos, mp.ModeRegion(volume=p3))\n",
    "mode4 = sim.add_mode_monitor(fcen, df, Npontos, mp.ModeRegion(volume=p4))"
   ]
  },
  {
   "cell_type": "markdown",
   "metadata": {},
   "source": [
    "## Aplicação MPI A\n",
    "\n",
    "5 cores onde cada um considera todos monitores, com a mesma source, porém cada um com 5 pontos (totalizando os 25) \n",
    "\n",
    "É necessário mudar a variável *cores*, mais abaixo no código, para 5\n",
    "\n",
    "OBS: Veja que a célula abaixo possui a tag \"active-ipynb\". Portanto ela está DESATIVADA para o uso do mpi. Para ATIVAR, retire a tag"
   ]
  },
  {
   "cell_type": "code",
   "execution_count": null,
   "metadata": {
    "tags": [
     "active-ipynb"
    ]
   },
   "outputs": [],
   "source": [
    "# mode1 = sim.add_mode_monitor(fcen, df, Npontos, mp.ModeRegion(volume=p1))\n",
    "# mode2 = sim.add_mode_monitor(fcen, df, Npontos, mp.ModeRegion(volume=p2))\n",
    "# mode3 = sim.add_mode_monitor(fcen, df, Npontos, mp.ModeRegion(volume=p3))\n",
    "# mode4 = sim.add_mode_monitor(fcen, df, Npontos, mp.ModeRegion(volume=p4))\n",
    "\n",
    "fcenRank = (fArray[rank] + fArray[rank+5])/2\n",
    "dfRank = fArray[rank] - fArray[rank+5]\n",
    "\n",
    "print(f'Hi, im proccess {rank} and im starting the simulation with fcen = {fcenRank} and df = {dfRank}.')\n",
    "\n",
    "Npontos = 5\n",
    "\n",
    "# MPI TEST: Render 5 monitor points for each proccess -------------------------------------------------------------\n",
    "mode1 = sim.add_mode_monitor(fcenRank, dfRank, Npontos, mp.ModeRegion(volume=p1))\n",
    "mode2 = sim.add_mode_monitor(fcenRank, dfRank, Npontos, mp.ModeRegion(volume=p2))\n",
    "mode3 = sim.add_mode_monitor(fcenRank, dfRank, Npontos, mp.ModeRegion(volume=p3))\n",
    "mode4 = sim.add_mode_monitor(fcenRank, dfRank, Npontos, mp.ModeRegion(volume=p4))"
   ]
  },
  {
   "cell_type": "markdown",
   "metadata": {},
   "source": [
    "## Aplicação MPI B\n",
    "\n",
    "4 cores onde cada um considera somente um monitor, com a mesma source \n",
    "\n",
    "É necessário mudar a variável *cores*, mais abaixo no código, para 4\n",
    "\n",
    "OBS: A célula abaixo não possui a tag \"active-ipynb\". Portanto ela está ATIVADA para o uso do mpi. Para DESATIVAR, insira a tag"
   ]
  },
  {
   "cell_type": "code",
   "execution_count": null,
   "metadata": {
    "tags": [
     "active-ipynb"
    ]
   },
   "outputs": [],
   "source": [
    "# mode1 = sim.add_mode_monitor(fcen, df, Npontos, mp.ModeRegion(volume=p1))\n",
    "# mode2 = sim.add_mode_monitor(fcen, df, Npontos, mp.ModeRegion(volume=p2))\n",
    "# mode3 = sim.add_mode_monitor(fcen, df, Npontos, mp.ModeRegion(volume=p3))\n",
    "# mode4 = sim.add_mode_monitor(fcen, df, Npontos, mp.ModeRegion(volume=p4))\n",
    "\n",
    "print(f'Hi, im proccess {rank} and im starting the simulation with monitor p{rank+1} only.')\n",
    "\n",
    "# MPI TEST: Render one monitor for each proccess -------------------------------------------------------------\n",
    "if rank==0: mode = sim.add_mode_monitor(fcen, df, Npontos, mp.ModeRegion(volume=p1))\n",
    "if rank==1: mode = sim.add_mode_monitor(fcen, df, Npontos, mp.ModeRegion(volume=p2))\n",
    "if rank==2: mode = sim.add_mode_monitor(fcen, df, Npontos, mp.ModeRegion(volume=p3))\n",
    "if rank==3: mode = sim.add_mode_monitor(fcen, df, Npontos, mp.ModeRegion(volume=p4))"
   ]
  },
  {
   "cell_type": "code",
   "execution_count": null,
   "metadata": {},
   "outputs": [],
   "source": [
    "if(mp.am_master()):\n",
    "    sim.plot2D(output_plane=mp.Volume(center=mp.Vector3(0,0,0), size=mp.Vector3(30.4,30.4,0)))\n",
    "    plt.savefig(\"Plot2D).png\", transparent=False, facecolor=\"white\", bbox_inches=\"tight\")"
   ]
  },
  {
   "cell_type": "code",
   "execution_count": null,
   "metadata": {},
   "outputs": [],
   "source": [
    "print(f'Starting the simulation now... (rank: {rank})')\n",
    "\n",
    "sim.run(until_after_sources=100)\n",
    "\n",
    "print(f'Barrier encoutered (rank: {rank})')\n",
    "comm.barrier()"
   ]
  },
  {
   "cell_type": "markdown",
   "metadata": {},
   "source": [
    "# mpirun bash\n",
    "\n",
    "Ao executar esta célula, todo o arquivo será executado na quantidade de cores descrita\n",
    "\n",
    "Células com \"active-ipynb\" serão ignoradas\n",
    "\n",
    "Requisito: lib jupytext , lib mpi4py, e MPI instalado (https://www.open-mpi.org/software/ompi/v5.0/)"
   ]
  },
  {
   "cell_type": "code",
   "execution_count": null,
   "metadata": {},
   "outputs": [],
   "source": [
    "cores = 6\n",
    "resultPath = 'Result' + str(cores) + 'Cores.out'\n",
    "\n",
    "!jupytext --to py meep_MaisATUALIZADO.ipynb\n",
    "# !mpirun -np $cores python meep_MaisATUALIZADO.py\n",
    "!mpirun -np $cores python meep_MaisATUALIZADO.py > $resultPath"
   ]
  },
  {
   "cell_type": "code",
   "execution_count": null,
   "metadata": {},
   "outputs": [],
   "source": [
    "print(f'Simulation finished (rank: {rank})')\n",
    "\n",
    "sim.plot2D(fields=mp.Ez,\n",
    "        plot_sources_flag=True,\n",
    "        plot_monitors_flag=True,\n",
    "        plot_boundaries_flag=True,\n",
    "        output_plane=mp.Volume(center=mp.Vector3(0,0,0), size=mp.Vector3(30.4,30.4,0)))\n",
    "\n",
    "if(mp.am_master()):\n",
    "        plt.axis('off')\n",
    "        plt.savefig(\"Plot2D Ez (rank \" + str(rank) + \").png\", transparent=False, facecolor=\"white\", bbox_inches=\"tight\")"
   ]
  },
  {
   "cell_type": "code",
   "execution_count": null,
   "metadata": {},
   "outputs": [],
   "source": [
    "# S parameters\n",
    "p1_trans = np.zeros(Npontos)\n",
    "p2_trans = np.zeros(Npontos)\n",
    "p3_trans = np.zeros(Npontos)\n",
    "p4_trans = np.zeros(Npontos)\n",
    "\n",
    "for i in range(Npontos):\n",
    "    p1_coeff = sim.get_eigenmode_coefficients(mode1, [1], eig_parity=mp.NO_PARITY if three_d else mp.EVEN_Y+mp.ODD_Z).alpha[0,i,0]\n",
    "    p1r_coeff = sim.get_eigenmode_coefficients(mode1, [1], eig_parity=mp.NO_PARITY if three_d else mp.EVEN_Y+mp.ODD_Z).alpha[0,i,1]\n",
    "    p2_coeff = sim.get_eigenmode_coefficients(mode2, [1], eig_parity=mp.NO_PARITY if three_d else mp.EVEN_Y+mp.ODD_Z).alpha[0,i,1]\n",
    "    p3_coeff = sim.get_eigenmode_coefficients(mode3, [1], eig_parity=mp.NO_PARITY if three_d else mp.EVEN_Y+mp.ODD_Z).alpha[0,i,0]\n",
    "    p4_coeff = sim.get_eigenmode_coefficients(mode4, [1], eig_parity=mp.NO_PARITY if three_d else mp.EVEN_Y+mp.ODD_Z).alpha[0,i,0]\n",
    "\n",
    "    # transmittance\n",
    "    p1_trans[i] = abs(p1r_coeff)**2/abs(p1_coeff)**2\n",
    "    p2_trans[i] = abs(p2_coeff)**2/abs(p1_coeff)**2\n",
    "    p3_trans[i]= abs(p3_coeff)**2/abs(p1_coeff)**2\n",
    "    p4_trans[i] = abs(p4_coeff)**2/abs(p1_coeff)**2"
   ]
  },
  {
   "cell_type": "code",
   "execution_count": null,
   "metadata": {},
   "outputs": [],
   "source": [
    "if(mp.am_master()):\n",
    "    w = np.linspace(1520,1575,Npontos)\n",
    "    plt.plot(p3_trans)\n",
    "    plt.plot(p4_trans)\n",
    "    plt.figure()\n",
    "    plt.plot(p1_trans)\n",
    "    plt.plot(p2_trans)\n",
    "\n",
    "    plt.savefig(\"S parameters (rank \" + str(rank) + \").png\", transparent=False, facecolor=\"white\", bbox_inches=\"tight\")"
   ]
  },
  {
   "cell_type": "code",
   "execution_count": null,
   "metadata": {},
   "outputs": [],
   "source": [
    "cores = 4\n",
    "!mpirun -np $cores python ../teste.py"
   ]
  }
 ],
 "metadata": {
  "kernelspec": {
   "display_name": "mp",
   "language": "python",
   "name": "python3"
  },
  "language_info": {
   "codemirror_mode": {
    "name": "ipython",
    "version": 3
   },
   "file_extension": ".py",
   "mimetype": "text/x-python",
   "name": "python",
   "nbconvert_exporter": "python",
   "pygments_lexer": "ipython3",
   "version": "3.10.14"
  }
 },
 "nbformat": 4,
 "nbformat_minor": 2
}
