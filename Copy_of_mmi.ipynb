{
  "nbformat": 4,
  "nbformat_minor": 0,
  "metadata": {
    "colab": {
      "provenance": []
    },
    "kernelspec": {
      "name": "python3",
      "display_name": "Python 3"
    },
    "language_info": {
      "name": "python"
    },
    "widgets": {
      "application/vnd.jupyter.widget-state+json": {
        "a382e19592e143ae88c71cde232ef108": {
          "model_module": "@jupyter-widgets/controls",
          "model_name": "FloatProgressModel",
          "model_module_version": "1.5.0",
          "state": {
            "_dom_classes": [],
            "_model_module": "@jupyter-widgets/controls",
            "_model_module_version": "1.5.0",
            "_model_name": "FloatProgressModel",
            "_view_count": null,
            "_view_module": "@jupyter-widgets/controls",
            "_view_module_version": "1.5.0",
            "_view_name": "ProgressView",
            "bar_style": "",
            "description": "100% done ",
            "description_tooltip": null,
            "layout": "IPY_MODEL_9a8227f1a534494b94d9dae40f88f250",
            "max": 200,
            "min": 0,
            "orientation": "horizontal",
            "style": "IPY_MODEL_b6b5a817135e4320be596099b830c61b",
            "value": 200
          }
        },
        "9a8227f1a534494b94d9dae40f88f250": {
          "model_module": "@jupyter-widgets/base",
          "model_name": "LayoutModel",
          "model_module_version": "1.2.0",
          "state": {
            "_model_module": "@jupyter-widgets/base",
            "_model_module_version": "1.2.0",
            "_model_name": "LayoutModel",
            "_view_count": null,
            "_view_module": "@jupyter-widgets/base",
            "_view_module_version": "1.2.0",
            "_view_name": "LayoutView",
            "align_content": null,
            "align_items": null,
            "align_self": null,
            "border": null,
            "bottom": null,
            "display": null,
            "flex": null,
            "flex_flow": null,
            "grid_area": null,
            "grid_auto_columns": null,
            "grid_auto_flow": null,
            "grid_auto_rows": null,
            "grid_column": null,
            "grid_gap": null,
            "grid_row": null,
            "grid_template_areas": null,
            "grid_template_columns": null,
            "grid_template_rows": null,
            "height": null,
            "justify_content": null,
            "justify_items": null,
            "left": null,
            "margin": null,
            "max_height": null,
            "max_width": null,
            "min_height": null,
            "min_width": null,
            "object_fit": null,
            "object_position": null,
            "order": null,
            "overflow": null,
            "overflow_x": null,
            "overflow_y": null,
            "padding": null,
            "right": null,
            "top": null,
            "visibility": null,
            "width": null
          }
        },
        "b6b5a817135e4320be596099b830c61b": {
          "model_module": "@jupyter-widgets/controls",
          "model_name": "ProgressStyleModel",
          "model_module_version": "1.5.0",
          "state": {
            "_model_module": "@jupyter-widgets/controls",
            "_model_module_version": "1.5.0",
            "_model_name": "ProgressStyleModel",
            "_view_count": null,
            "_view_module": "@jupyter-widgets/base",
            "_view_module_version": "1.2.0",
            "_view_name": "StyleView",
            "bar_color": null,
            "description_width": ""
          }
        }
      }
    }
  },
  "cells": [
    {
      "cell_type": "markdown",
      "source": [
        "## Miniconda installation"
      ],
      "metadata": {
        "id": "B93frjkh1anm"
      }
    },
    {
      "cell_type": "code",
      "execution_count": null,
      "metadata": {
        "colab": {
          "base_uri": "https://localhost:8080/"
        },
        "id": "FP2Hdvndv3bQ",
        "outputId": "b42e76e5-c490-4916-a99b-0fe7d9c4d726"
      },
      "outputs": [
        {
          "output_type": "stream",
          "name": "stdout",
          "text": [
            "--2022-10-07 12:12:07--  https://repo.continuum.io/miniconda/Miniconda3-latest-Linux-x86_64.sh\n",
            "Resolving repo.continuum.io (repo.continuum.io)... 104.18.200.79, 104.18.201.79, 2606:4700::6812:c94f, ...\n",
            "Connecting to repo.continuum.io (repo.continuum.io)|104.18.200.79|:443... connected.\n",
            "HTTP request sent, awaiting response... 301 Moved Permanently\n",
            "Location: https://repo.anaconda.com/miniconda/Miniconda3-latest-Linux-x86_64.sh [following]\n",
            "--2022-10-07 12:12:07--  https://repo.anaconda.com/miniconda/Miniconda3-latest-Linux-x86_64.sh\n",
            "Resolving repo.anaconda.com (repo.anaconda.com)... 104.16.131.3, 104.16.130.3, 2606:4700::6810:8303, ...\n",
            "Connecting to repo.anaconda.com (repo.anaconda.com)|104.16.131.3|:443... connected.\n",
            "HTTP request sent, awaiting response... 200 OK\n",
            "Length: 76607678 (73M) [application/x-sh]\n",
            "Saving to: ‘Miniconda3-latest-Linux-x86_64.sh’\n",
            "\n",
            "Miniconda3-latest-L 100%[===================>]  73.06M   255MB/s    in 0.3s    \n",
            "\n",
            "2022-10-07 12:12:07 (255 MB/s) - ‘Miniconda3-latest-Linux-x86_64.sh’ saved [76607678/76607678]\n",
            "\n",
            "PREFIX=/usr/local\n",
            "Unpacking payload ...\n",
            "Collecting package metadata (current_repodata.json): - \b\b\\ \b\b| \b\bdone\n",
            "Solving environment: - \b\b\\ \b\b| \b\bdone\n",
            "\n",
            "## Package Plan ##\n",
            "\n",
            "  environment location: /usr/local\n",
            "\n",
            "  added / updated specs:\n",
            "    - _libgcc_mutex==0.1=main\n",
            "    - _openmp_mutex==4.5=1_gnu\n",
            "    - brotlipy==0.7.0=py39h27cfd23_1003\n",
            "    - ca-certificates==2022.3.29=h06a4308_1\n",
            "    - certifi==2021.10.8=py39h06a4308_2\n",
            "    - cffi==1.15.0=py39hd667e15_1\n",
            "    - charset-normalizer==2.0.4=pyhd3eb1b0_0\n",
            "    - colorama==0.4.4=pyhd3eb1b0_0\n",
            "    - conda-content-trust==0.1.1=pyhd3eb1b0_0\n",
            "    - conda-package-handling==1.8.1=py39h7f8727e_0\n",
            "    - conda==4.12.0=py39h06a4308_0\n",
            "    - cryptography==36.0.0=py39h9ce1e76_0\n",
            "    - idna==3.3=pyhd3eb1b0_0\n",
            "    - ld_impl_linux-64==2.35.1=h7274673_9\n",
            "    - libffi==3.3=he6710b0_2\n",
            "    - libgcc-ng==9.3.0=h5101ec6_17\n",
            "    - libgomp==9.3.0=h5101ec6_17\n",
            "    - libstdcxx-ng==9.3.0=hd4cf53a_17\n",
            "    - ncurses==6.3=h7f8727e_2\n",
            "    - openssl==1.1.1n=h7f8727e_0\n",
            "    - pip==21.2.4=py39h06a4308_0\n",
            "    - pycosat==0.6.3=py39h27cfd23_0\n",
            "    - pycparser==2.21=pyhd3eb1b0_0\n",
            "    - pyopenssl==22.0.0=pyhd3eb1b0_0\n",
            "    - pysocks==1.7.1=py39h06a4308_0\n",
            "    - python==3.9.12=h12debd9_0\n",
            "    - readline==8.1.2=h7f8727e_1\n",
            "    - requests==2.27.1=pyhd3eb1b0_0\n",
            "    - ruamel_yaml==0.15.100=py39h27cfd23_0\n",
            "    - setuptools==61.2.0=py39h06a4308_0\n",
            "    - six==1.16.0=pyhd3eb1b0_1\n",
            "    - sqlite==3.38.2=hc218d9a_0\n",
            "    - tk==8.6.11=h1ccaba5_0\n",
            "    - tqdm==4.63.0=pyhd3eb1b0_0\n",
            "    - tzdata==2022a=hda174b7_0\n",
            "    - urllib3==1.26.8=pyhd3eb1b0_0\n",
            "    - wheel==0.37.1=pyhd3eb1b0_0\n",
            "    - xz==5.2.5=h7b6447c_0\n",
            "    - yaml==0.2.5=h7b6447c_0\n",
            "    - zlib==1.2.12=h7f8727e_1\n",
            "\n",
            "\n",
            "The following NEW packages will be INSTALLED:\n",
            "\n",
            "  _libgcc_mutex      pkgs/main/linux-64::_libgcc_mutex-0.1-main\n",
            "  _openmp_mutex      pkgs/main/linux-64::_openmp_mutex-4.5-1_gnu\n",
            "  brotlipy           pkgs/main/linux-64::brotlipy-0.7.0-py39h27cfd23_1003\n",
            "  ca-certificates    pkgs/main/linux-64::ca-certificates-2022.3.29-h06a4308_1\n",
            "  certifi            pkgs/main/linux-64::certifi-2021.10.8-py39h06a4308_2\n",
            "  cffi               pkgs/main/linux-64::cffi-1.15.0-py39hd667e15_1\n",
            "  charset-normalizer pkgs/main/noarch::charset-normalizer-2.0.4-pyhd3eb1b0_0\n",
            "  colorama           pkgs/main/noarch::colorama-0.4.4-pyhd3eb1b0_0\n",
            "  conda              pkgs/main/linux-64::conda-4.12.0-py39h06a4308_0\n",
            "  conda-content-tru~ pkgs/main/noarch::conda-content-trust-0.1.1-pyhd3eb1b0_0\n",
            "  conda-package-han~ pkgs/main/linux-64::conda-package-handling-1.8.1-py39h7f8727e_0\n",
            "  cryptography       pkgs/main/linux-64::cryptography-36.0.0-py39h9ce1e76_0\n",
            "  idna               pkgs/main/noarch::idna-3.3-pyhd3eb1b0_0\n",
            "  ld_impl_linux-64   pkgs/main/linux-64::ld_impl_linux-64-2.35.1-h7274673_9\n",
            "  libffi             pkgs/main/linux-64::libffi-3.3-he6710b0_2\n",
            "  libgcc-ng          pkgs/main/linux-64::libgcc-ng-9.3.0-h5101ec6_17\n",
            "  libgomp            pkgs/main/linux-64::libgomp-9.3.0-h5101ec6_17\n",
            "  libstdcxx-ng       pkgs/main/linux-64::libstdcxx-ng-9.3.0-hd4cf53a_17\n",
            "  ncurses            pkgs/main/linux-64::ncurses-6.3-h7f8727e_2\n",
            "  openssl            pkgs/main/linux-64::openssl-1.1.1n-h7f8727e_0\n",
            "  pip                pkgs/main/linux-64::pip-21.2.4-py39h06a4308_0\n",
            "  pycosat            pkgs/main/linux-64::pycosat-0.6.3-py39h27cfd23_0\n",
            "  pycparser          pkgs/main/noarch::pycparser-2.21-pyhd3eb1b0_0\n",
            "  pyopenssl          pkgs/main/noarch::pyopenssl-22.0.0-pyhd3eb1b0_0\n",
            "  pysocks            pkgs/main/linux-64::pysocks-1.7.1-py39h06a4308_0\n",
            "  python             pkgs/main/linux-64::python-3.9.12-h12debd9_0\n",
            "  readline           pkgs/main/linux-64::readline-8.1.2-h7f8727e_1\n",
            "  requests           pkgs/main/noarch::requests-2.27.1-pyhd3eb1b0_0\n",
            "  ruamel_yaml        pkgs/main/linux-64::ruamel_yaml-0.15.100-py39h27cfd23_0\n",
            "  setuptools         pkgs/main/linux-64::setuptools-61.2.0-py39h06a4308_0\n",
            "  six                pkgs/main/noarch::six-1.16.0-pyhd3eb1b0_1\n",
            "  sqlite             pkgs/main/linux-64::sqlite-3.38.2-hc218d9a_0\n",
            "  tk                 pkgs/main/linux-64::tk-8.6.11-h1ccaba5_0\n",
            "  tqdm               pkgs/main/noarch::tqdm-4.63.0-pyhd3eb1b0_0\n",
            "  tzdata             pkgs/main/noarch::tzdata-2022a-hda174b7_0\n",
            "  urllib3            pkgs/main/noarch::urllib3-1.26.8-pyhd3eb1b0_0\n",
            "  wheel              pkgs/main/noarch::wheel-0.37.1-pyhd3eb1b0_0\n",
            "  xz                 pkgs/main/linux-64::xz-5.2.5-h7b6447c_0\n",
            "  yaml               pkgs/main/linux-64::yaml-0.2.5-h7b6447c_0\n",
            "  zlib               pkgs/main/linux-64::zlib-1.2.12-h7f8727e_1\n",
            "\n",
            "\n",
            "Preparing transaction: - \b\b\\ \b\b| \b\b/ \b\bdone\n",
            "Executing transaction: \\ \b\b| \b\b/ \b\b- \b\b\\ \b\b| \b\b/ \b\b- \b\b\\ \b\b| \b\b/ \b\b- \b\b\\ \b\b| \b\b/ \b\b- \b\b\\ \b\b| \b\b/ \b\bdone\n",
            "installation finished.\n",
            "WARNING:\n",
            "    You currently have a PYTHONPATH environment variable set. This may cause\n",
            "    unexpected behavior when running the Python interpreter in Miniconda3.\n",
            "    For best results, please verify that your PYTHONPATH only points to\n",
            "    directories of packages that are compatible with the Python interpreter\n",
            "    in Miniconda3: /usr/local\n"
          ]
        }
      ],
      "source": [
        "!wget -c https://repo.continuum.io/miniconda/Miniconda3-latest-Linux-x86_64.sh\n",
        "!chmod +x Miniconda3-latest-Linux-x86_64.sh\n",
        "!bash ./Miniconda3-latest-Linux-x86_64.sh -b -u -p /usr/local"
      ]
    },
    {
      "cell_type": "markdown",
      "source": [
        "## MEEP installation"
      ],
      "metadata": {
        "id": "mDpuh1_w1far"
      }
    },
    {
      "cell_type": "code",
      "source": [
        "import os\n",
        "if os.path.isdir('/content/anaconda'): root_path = '/content/anaconda'\n",
        "else: root_path = '/usr/local/'\n",
        "os.environ['PATH'] += f\":{root_path}/bin\"\n",
        "!conda create -n mp -c conda-forge pymeep python=3.7 -y\n",
        "print(\">> \", root_path)"
      ],
      "metadata": {
        "colab": {
          "base_uri": "https://localhost:8080/"
        },
        "id": "a_IuLuW6v90U",
        "outputId": "6397f2c5-559e-4ba7-ee75-c018532b7fd2"
      },
      "execution_count": null,
      "outputs": [
        {
          "output_type": "stream",
          "name": "stdout",
          "text": [
            "Collecting package metadata (current_repodata.json): - \b\b\\ \b\b| \b\b/ \b\b- \b\b\\ \b\b| \b\b/ \b\b- \b\b\\ \b\b| \b\b/ \b\b- \b\b\\ \b\b| \b\b/ \b\b- \b\b\\ \b\b| \b\b/ \b\b- \b\b\\ \b\b| \b\b/ \b\b- \b\b\\ \b\b| \b\b/ \b\b- \b\b\\ \b\b| \b\b/ \b\b- \b\b\\ \b\b| \b\b/ \b\b- \b\b\\ \b\b| \b\b/ \b\b- \b\b\\ \b\b| \b\b/ \b\b- \b\b\\ \b\b| \b\b/ \b\b- \b\b\\ \b\b| \b\b/ \b\b- \b\b\\ \b\b| \b\b/ \b\b- \b\b\\ \b\b| \b\b/ \b\b- \b\b\\ \b\b| \b\b/ \b\b- \b\b\\ \b\b| \b\b/ \b\b- \b\b\\ \b\b| \b\b/ \b\b- \b\b\\ \b\b| \b\b/ \b\b- \b\b\\ \b\b| \b\b/ \b\b- \b\b\\ \b\b| \b\b/ \b\b- \b\b\\ \b\b| \b\b/ \b\b- \b\b\\ \b\b| \b\b/ \b\b- \b\b\\ \b\b| \b\b/ \b\b- \b\b\\ \b\b| \b\b/ \b\b- \b\b\\ \b\b| \b\b/ \b\b- \b\b\\ \b\b| \b\b/ \b\b- \b\b\\ \b\b| \b\b/ \b\b- \b\b\\ \b\b| \b\b/ \b\b- \b\b\\ \b\b| \b\b/ \b\b- \b\b\\ \b\b| \b\b/ \b\b- \b\b\\ \b\b| \b\b/ \b\b- \b\b\\ \b\b| \b\bdone\n",
            "Solving environment: - \b\b\\ \b\b| \b\b/ \b\b- \b\b\\ \b\b| \b\b/ \b\b- \b\b\\ \b\b| \b\b/ \b\b- \b\b\\ \b\b| \b\b/ \b\b- \b\b\\ \b\b| \b\b/ \b\b- \b\bdone\n",
            "\n",
            "\n",
            "==> WARNING: A newer version of conda exists. <==\n",
            "  current version: 4.12.0\n",
            "  latest version: 22.9.0\n",
            "\n",
            "Please update conda by running\n",
            "\n",
            "    $ conda update -n base -c defaults conda\n",
            "\n",
            "\n",
            "\n",
            "## Package Plan ##\n",
            "\n",
            "  environment location: /usr/local/envs/mp\n",
            "\n",
            "  added / updated specs:\n",
            "    - pymeep\n",
            "    - python=3.7\n",
            "\n",
            "\n",
            "The following packages will be downloaded:\n",
            "\n",
            "    package                    |            build\n",
            "    ---------------------------|-----------------\n",
            "    _libgcc_mutex-0.1          |      conda_forge           3 KB  conda-forge\n",
            "    _openmp_mutex-4.5          |            2_gnu          23 KB  conda-forge\n",
            "    c-ares-1.18.1              |       h7f98852_0         113 KB  conda-forge\n",
            "    ca-certificates-2022.9.24  |       ha878542_0         150 KB  conda-forge\n",
            "    cached-property-1.5.2      |       hd8ed1ab_1           4 KB  conda-forge\n",
            "    cached_property-1.5.2      |     pyha770c72_1          11 KB  conda-forge\n",
            "    fftw-3.3.10                |nompi_hf0379b8_105         2.2 MB  conda-forge\n",
            "    gsl-2.7                    |       he838d99_0         3.2 MB  conda-forge\n",
            "    h5py-3.7.0                 |nompi_py37hc97082c_100         1.2 MB  conda-forge\n",
            "    harminv-1.4.1              |    hbf3b5f1_1007          53 KB  conda-forge\n",
            "    hdf5-1.12.1                |nompi_h4df4325_104         3.6 MB  conda-forge\n",
            "    keyutils-1.6.1             |       h166bdaf_0         115 KB  conda-forge\n",
            "    krb5-1.19.3                |       h08a2579_0         1.4 MB  conda-forge\n",
            "    ld_impl_linux-64-2.36.1    |       hea4e1c9_2         667 KB  conda-forge\n",
            "    libblas-3.9.0              |16_linux64_openblas          13 KB  conda-forge\n",
            "    libcblas-3.9.0             |16_linux64_openblas          13 KB  conda-forge\n",
            "    libctl-4.5.1               |       h7f98852_0         114 KB  conda-forge\n",
            "    libcurl-7.85.0             |       h2283fc2_0         351 KB  conda-forge\n",
            "    libedit-3.1.20191231       |       he28a2e2_2         121 KB  conda-forge\n",
            "    libev-4.33                 |       h516909a_1         104 KB  conda-forge\n",
            "    libffi-3.4.2               |       h7f98852_5          57 KB  conda-forge\n",
            "    libgcc-ng-12.1.0           |      h8d9b700_16         940 KB  conda-forge\n",
            "    libgdsii-0.21              |       h4bd325d_4          85 KB  conda-forge\n",
            "    libgfortran-ng-12.1.0      |      h69a702a_16          23 KB  conda-forge\n",
            "    libgfortran5-12.1.0        |      hdcd56e2_16         1.8 MB  conda-forge\n",
            "    libgomp-12.1.0             |      h8d9b700_16         459 KB  conda-forge\n",
            "    liblapack-3.9.0            |16_linux64_openblas          13 KB  conda-forge\n",
            "    libnghttp2-1.47.0          |       hff17c54_1         824 KB  conda-forge\n",
            "    libnsl-2.0.0               |       h7f98852_0          31 KB  conda-forge\n",
            "    libopenblas-0.3.21         |pthreads_h78a6416_3        10.1 MB  conda-forge\n",
            "    libsqlite-3.39.4           |       h753d276_0         803 KB  conda-forge\n",
            "    libssh2-1.10.0             |       hf14f497_3         234 KB  conda-forge\n",
            "    libstdcxx-ng-12.1.0        |      ha89aaad_16         4.3 MB  conda-forge\n",
            "    libzlib-1.2.12             |       h166bdaf_4          65 KB  conda-forge\n",
            "    mpb-1.11.1                 |nompi_h70f4da8_104          66 KB  conda-forge\n",
            "    ncurses-6.3                |       h27087fc_1        1002 KB  conda-forge\n",
            "    numpy-1.21.6               |   py37h976b520_0         6.1 MB  conda-forge\n",
            "    openssl-3.0.5              |       h166bdaf_2         2.8 MB  conda-forge\n",
            "    pip-22.2.2                 |     pyhd8ed1ab_0         1.5 MB  conda-forge\n",
            "    pymeep-1.24.0              |nompi_py37h1234567_101         1.9 MB  conda-forge\n",
            "    python-3.7.12              |hf930737_100_cpython        57.3 MB  conda-forge\n",
            "    python_abi-3.7             |          2_cp37m           4 KB  conda-forge\n",
            "    readline-8.1.2             |       h0f457ee_0         291 KB  conda-forge\n",
            "    setuptools-65.4.1          |     pyhd8ed1ab_0         776 KB  conda-forge\n",
            "    sqlite-3.39.4              |       h4ff8645_0         789 KB  conda-forge\n",
            "    tk-8.6.12                  |       h27826a3_0         3.3 MB  conda-forge\n",
            "    wheel-0.37.1               |     pyhd8ed1ab_0          31 KB  conda-forge\n",
            "    xz-5.2.6                   |       h166bdaf_0         409 KB  conda-forge\n",
            "    zlib-1.2.12                |       h166bdaf_4          92 KB  conda-forge\n",
            "    ------------------------------------------------------------\n",
            "                                           Total:       109.4 MB\n",
            "\n",
            "The following NEW packages will be INSTALLED:\n",
            "\n",
            "  _libgcc_mutex      conda-forge/linux-64::_libgcc_mutex-0.1-conda_forge\n",
            "  _openmp_mutex      conda-forge/linux-64::_openmp_mutex-4.5-2_gnu\n",
            "  c-ares             conda-forge/linux-64::c-ares-1.18.1-h7f98852_0\n",
            "  ca-certificates    conda-forge/linux-64::ca-certificates-2022.9.24-ha878542_0\n",
            "  cached-property    conda-forge/noarch::cached-property-1.5.2-hd8ed1ab_1\n",
            "  cached_property    conda-forge/noarch::cached_property-1.5.2-pyha770c72_1\n",
            "  fftw               conda-forge/linux-64::fftw-3.3.10-nompi_hf0379b8_105\n",
            "  gsl                conda-forge/linux-64::gsl-2.7-he838d99_0\n",
            "  h5py               conda-forge/linux-64::h5py-3.7.0-nompi_py37hc97082c_100\n",
            "  harminv            conda-forge/linux-64::harminv-1.4.1-hbf3b5f1_1007\n",
            "  hdf5               conda-forge/linux-64::hdf5-1.12.1-nompi_h4df4325_104\n",
            "  keyutils           conda-forge/linux-64::keyutils-1.6.1-h166bdaf_0\n",
            "  krb5               conda-forge/linux-64::krb5-1.19.3-h08a2579_0\n",
            "  ld_impl_linux-64   conda-forge/linux-64::ld_impl_linux-64-2.36.1-hea4e1c9_2\n",
            "  libblas            conda-forge/linux-64::libblas-3.9.0-16_linux64_openblas\n",
            "  libcblas           conda-forge/linux-64::libcblas-3.9.0-16_linux64_openblas\n",
            "  libctl             conda-forge/linux-64::libctl-4.5.1-h7f98852_0\n",
            "  libcurl            conda-forge/linux-64::libcurl-7.85.0-h2283fc2_0\n",
            "  libedit            conda-forge/linux-64::libedit-3.1.20191231-he28a2e2_2\n",
            "  libev              conda-forge/linux-64::libev-4.33-h516909a_1\n",
            "  libffi             conda-forge/linux-64::libffi-3.4.2-h7f98852_5\n",
            "  libgcc-ng          conda-forge/linux-64::libgcc-ng-12.1.0-h8d9b700_16\n",
            "  libgdsii           conda-forge/linux-64::libgdsii-0.21-h4bd325d_4\n",
            "  libgfortran-ng     conda-forge/linux-64::libgfortran-ng-12.1.0-h69a702a_16\n",
            "  libgfortran5       conda-forge/linux-64::libgfortran5-12.1.0-hdcd56e2_16\n",
            "  libgomp            conda-forge/linux-64::libgomp-12.1.0-h8d9b700_16\n",
            "  liblapack          conda-forge/linux-64::liblapack-3.9.0-16_linux64_openblas\n",
            "  libnghttp2         conda-forge/linux-64::libnghttp2-1.47.0-hff17c54_1\n",
            "  libnsl             conda-forge/linux-64::libnsl-2.0.0-h7f98852_0\n",
            "  libopenblas        conda-forge/linux-64::libopenblas-0.3.21-pthreads_h78a6416_3\n",
            "  libsqlite          conda-forge/linux-64::libsqlite-3.39.4-h753d276_0\n",
            "  libssh2            conda-forge/linux-64::libssh2-1.10.0-hf14f497_3\n",
            "  libstdcxx-ng       conda-forge/linux-64::libstdcxx-ng-12.1.0-ha89aaad_16\n",
            "  libzlib            conda-forge/linux-64::libzlib-1.2.12-h166bdaf_4\n",
            "  mpb                conda-forge/linux-64::mpb-1.11.1-nompi_h70f4da8_104\n",
            "  ncurses            conda-forge/linux-64::ncurses-6.3-h27087fc_1\n",
            "  numpy              conda-forge/linux-64::numpy-1.21.6-py37h976b520_0\n",
            "  openssl            conda-forge/linux-64::openssl-3.0.5-h166bdaf_2\n",
            "  pip                conda-forge/noarch::pip-22.2.2-pyhd8ed1ab_0\n",
            "  pymeep             conda-forge/linux-64::pymeep-1.24.0-nompi_py37h1234567_101\n",
            "  python             conda-forge/linux-64::python-3.7.12-hf930737_100_cpython\n",
            "  python_abi         conda-forge/linux-64::python_abi-3.7-2_cp37m\n",
            "  readline           conda-forge/linux-64::readline-8.1.2-h0f457ee_0\n",
            "  setuptools         conda-forge/noarch::setuptools-65.4.1-pyhd8ed1ab_0\n",
            "  sqlite             conda-forge/linux-64::sqlite-3.39.4-h4ff8645_0\n",
            "  tk                 conda-forge/linux-64::tk-8.6.12-h27826a3_0\n",
            "  wheel              conda-forge/noarch::wheel-0.37.1-pyhd8ed1ab_0\n",
            "  xz                 conda-forge/linux-64::xz-5.2.6-h166bdaf_0\n",
            "  zlib               conda-forge/linux-64::zlib-1.2.12-h166bdaf_4\n",
            "\n",
            "\n",
            "\n",
            "Downloading and Extracting Packages\n",
            "_openmp_mutex-4.5    | 23 KB     | : 100% 1.0/1 [00:00<00:00, 10.81it/s]\n",
            "libssh2-1.10.0       | 234 KB    | : 100% 1.0/1 [00:00<00:00,  6.47it/s]\n",
            "xz-5.2.6             | 409 KB    | : 100% 1.0/1 [00:00<00:00,  5.03it/s]\n",
            "libnghttp2-1.47.0    | 824 KB    | : 100% 1.0/1 [00:00<00:00,  3.56it/s]\n",
            "libopenblas-0.3.21   | 10.1 MB   | : 100% 1.0/1 [00:02<00:00,  2.36s/it]               \n",
            "libcurl-7.85.0       | 351 KB    | : 100% 1.0/1 [00:00<00:00,  9.90it/s]\n",
            "zlib-1.2.12          | 92 KB     | : 100% 1.0/1 [00:00<00:00, 18.88it/s]\n",
            "libgomp-12.1.0       | 459 KB    | : 100% 1.0/1 [00:00<00:00,  9.28it/s]\n",
            "libsqlite-3.39.4     | 803 KB    | : 100% 1.0/1 [00:00<00:00,  6.09it/s]\n",
            "libev-4.33           | 104 KB    | : 100% 1.0/1 [00:00<00:00, 16.00it/s]\n",
            "libblas-3.9.0        | 13 KB     | : 100% 1.0/1 [00:00<00:00, 24.74it/s]\n",
            "wheel-0.37.1         | 31 KB     | : 100% 1.0/1 [00:00<00:00, 23.91it/s]\n",
            "openssl-3.0.5        | 2.8 MB    | : 100% 1.0/1 [00:00<00:00,  1.88it/s]\n",
            "libstdcxx-ng-12.1.0  | 4.3 MB    | : 100% 1.0/1 [00:01<00:00,  1.13s/it]\n",
            "cached-property-1.5. | 4 KB      | : 100% 1.0/1 [00:00<00:00, 20.19it/s]\n",
            "h5py-3.7.0           | 1.2 MB    | : 100% 1.0/1 [00:00<00:00,  2.31it/s]\n",
            "python_abi-3.7       | 4 KB      | : 100% 1.0/1 [00:00<00:00, 27.95it/s]\n",
            "mpb-1.11.1           | 66 KB     | : 100% 1.0/1 [00:00<00:00,  7.77it/s]               \n",
            "libctl-4.5.1         | 114 KB    | : 100% 1.0/1 [00:00<00:00, 14.42it/s]\n",
            "libgcc-ng-12.1.0     | 940 KB    | : 100% 1.0/1 [00:00<00:00,  5.40it/s]\n",
            "libedit-3.1.20191231 | 121 KB    | : 100% 1.0/1 [00:00<00:00, 17.06it/s]\n",
            "fftw-3.3.10          | 2.2 MB    | : 100% 1.0/1 [00:00<00:00,  2.34it/s]\n",
            "readline-8.1.2       | 291 KB    | : 100% 1.0/1 [00:00<00:00, 11.74it/s]\n",
            "hdf5-1.12.1          | 3.6 MB    | : 100% 1.0/1 [00:00<00:00,  1.59it/s]\n",
            "cached_property-1.5. | 11 KB     | : 100% 1.0/1 [00:00<00:00, 21.26it/s]\n",
            "krb5-1.19.3          | 1.4 MB    | : 100% 1.0/1 [00:00<00:00,  3.23it/s]\n",
            "pip-22.2.2           | 1.5 MB    | : 100% 1.0/1 [00:00<00:00,  2.51it/s]\n",
            "pymeep-1.24.0        | 1.9 MB    | : 100% 1.0/1 [00:00<00:00,  1.62it/s]\n",
            "harminv-1.4.1        | 53 KB     | : 100% 1.0/1 [00:00<00:00, 25.19it/s]\n",
            "setuptools-65.4.1    | 776 KB    | : 100% 1.0/1 [00:00<00:00,  4.26it/s]\n",
            "sqlite-3.39.4        | 789 KB    | : 100% 1.0/1 [00:00<00:00,  6.68it/s]\n",
            "python-3.7.12        | 57.3 MB   | : 100% 1.0/1 [00:09<00:00,  9.51s/it]              \n",
            "numpy-1.21.6         | 6.1 MB    | : 100% 1.0/1 [00:01<00:00,  1.60s/it]\n",
            "libcblas-3.9.0       | 13 KB     | : 100% 1.0/1 [00:00<00:00, 25.06it/s]\n",
            "libzlib-1.2.12       | 65 KB     | : 100% 1.0/1 [00:00<00:00, 23.03it/s]\n",
            "libffi-3.4.2         | 57 KB     | : 100% 1.0/1 [00:00<00:00, 20.36it/s]\n",
            "gsl-2.7              | 3.2 MB    | : 100% 1.0/1 [00:00<00:00,  1.36it/s]\n",
            "ca-certificates-2022 | 150 KB    | : 100% 1.0/1 [00:00<00:00, 18.21it/s]\n",
            "keyutils-1.6.1       | 115 KB    | : 100% 1.0/1 [00:00<00:00, 17.17it/s]\n",
            "libgfortran-ng-12.1. | 23 KB     | : 100% 1.0/1 [00:00<00:00, 23.52it/s]\n",
            "libgdsii-0.21        | 85 KB     | : 100% 1.0/1 [00:00<00:00, 17.20it/s]\n",
            "libgfortran5-12.1.0  | 1.8 MB    | : 100% 1.0/1 [00:00<00:00,  2.76it/s]\n",
            "tk-8.6.12            | 3.3 MB    | : 100% 1.0/1 [00:00<00:00,  1.52it/s]\n",
            "c-ares-1.18.1        | 113 KB    | : 100% 1.0/1 [00:00<00:00, 16.29it/s]\n",
            "_libgcc_mutex-0.1    | 3 KB      | : 100% 1.0/1 [00:00<00:00, 20.91it/s]\n",
            "liblapack-3.9.0      | 13 KB     | : 100% 1.0/1 [00:00<00:00, 26.89it/s]\n",
            "ld_impl_linux-64-2.3 | 667 KB    | : 100% 1.0/1 [00:00<00:00,  5.24it/s]\n",
            "libnsl-2.0.0         | 31 KB     | : 100% 1.0/1 [00:00<00:00, 18.59it/s]\n",
            "ncurses-6.3          | 1002 KB   | : 100% 1.0/1 [00:00<00:00,  2.11it/s]\n",
            "Preparing transaction: | \b\b/ \b\b- \b\bdone\n",
            "Verifying transaction: | \b\b/ \b\b- \b\b\\ \b\b| \b\b/ \b\b- \b\b\\ \b\b| \b\b/ \b\b- \b\b\\ \b\b| \b\b/ \b\b- \b\b\\ \b\b| \b\b/ \b\b- \b\b\\ \b\bdone\n",
            "Executing transaction: / \b\b- \b\b\\ \b\b| \b\b/ \b\b- \b\b\\ \b\b| \b\b/ \b\b- \b\b\\ \b\b| \b\b/ \b\b- \b\b\\ \b\b| \b\b/ \b\b- \b\b\\ \b\b| \b\b/ \b\b- \b\b\\ \b\b| \b\b/ \b\b- \b\b\\ \b\b| \b\b/ \b\b- \b\b\\ \b\b| \b\b/ \b\b- \b\bdone\n",
            "#\n",
            "# To activate this environment, use\n",
            "#\n",
            "#     $ conda activate mp\n",
            "#\n",
            "# To deactivate an active environment, use\n",
            "#\n",
            "#     $ conda deactivate\n",
            "\n",
            ">>  /usr/local/\n"
          ]
        }
      ]
    },
    {
      "cell_type": "code",
      "source": [
        "import sys\n",
        "sys.path.append(f'{root_path}envs/mp/lib/python3.7/site-packages/')"
      ],
      "metadata": {
        "id": "5qcsjjjrwA2j"
      },
      "execution_count": null,
      "outputs": []
    },
    {
      "cell_type": "markdown",
      "source": [
        "## Simulation"
      ],
      "metadata": {
        "id": "e0tdI-qq1iCQ"
      }
    },
    {
      "cell_type": "code",
      "source": [
        "import meep as mp\n",
        "import numpy as np\n",
        "import matplotlib.pyplot as plt"
      ],
      "metadata": {
        "id": "2lw_8zPzCeXe"
      },
      "execution_count": null,
      "outputs": []
    },
    {
      "cell_type": "markdown",
      "source": [
        "\n",
        "\n",
        "1. Define computational cell (simulation region)\n",
        "2. Define materials\n",
        "3. Define geometry\n",
        "4. Define current sources\n",
        "5. Boundary conditions\n",
        "6. Define monitor fields\n",
        "7. Create simulation objects\n",
        "\n"
      ],
      "metadata": {
        "id": "znsFUfGPCLKd"
      }
    },
    {
      "cell_type": "code",
      "source": [
        "resolution = 10 # 10 um/pixels which corresponds to around 67 pixels/wavelength, or around 20 pixels/wavelength in the high-index material\n",
        "\n",
        "sx = 16  # size of cell in X direction\n",
        "sy = 8   # size of cell in Y direction\n",
        "\n",
        "pad = 4  # padding distance between waveguide and cell edge\n",
        "w   = 1  # width of waveguide\n",
        "\n",
        "dpml = 1.0\n",
        "\n",
        "wvg_xcen =  0.5*(sx-w-2*pad)  # x center of horiz. wvg\n",
        "wvg_ycen = -0.5*(sy-w-2*pad)  # y center of vert. wvg\n",
        "\n",
        "# 0.15 corresponds to a vacuum wavelength of about 1/0.15=6.67 μm or ~2 μm for Si\n",
        "# The current is located at (-7,0), which is 1 μm to the right of the left edge of the cell\n",
        "fcen = 0.15  # pulse center frequency\n",
        "df = 0.1     # pulse width (in frequency)\n",
        "nfreq = 100  # number of frequencies at which to compute flux"
      ],
      "metadata": {
        "id": "Q9fr_cNWUXmL"
      },
      "execution_count": null,
      "outputs": []
    },
    {
      "cell_type": "markdown",
      "source": [
        "### Simulation region"
      ],
      "metadata": {
        "id": "Z9kyp5MJFHmX"
      }
    },
    {
      "cell_type": "code",
      "source": [
        "cell = mp.Vector3(sx, sy, 0) # (x, y, z) size in um -> 16 um x 8 um (2D)"
      ],
      "metadata": {
        "id": "B_Ts9kJ1wdWD"
      },
      "execution_count": null,
      "outputs": []
    },
    {
      "cell_type": "markdown",
      "source": [
        "### Material"
      ],
      "metadata": {
        "id": "dFzvUh_BFPlI"
      }
    },
    {
      "cell_type": "code",
      "source": [
        "from meep.materials import Si ## Problem!"
      ],
      "metadata": {
        "id": "gbucwdxZFRyQ"
      },
      "execution_count": null,
      "outputs": []
    },
    {
      "cell_type": "markdown",
      "source": [
        "### Geometry"
      ],
      "metadata": {
        "id": "MMwb7wH2FKZ-"
      }
    },
    {
      "cell_type": "code",
      "source": [
        "geometry = [mp.Block(size=mp.Vector3(mp.inf,w,mp.inf),\n",
        "                     center=mp.Vector3(0,wvg_ycen,0),\n",
        "                      material=mp.Medium(epsilon=12))]"
      ],
      "metadata": {
        "id": "ASf59GQMFNex"
      },
      "execution_count": null,
      "outputs": []
    },
    {
      "cell_type": "markdown",
      "source": [
        "### Current sources"
      ],
      "metadata": {
        "id": "jr20p4M6F71L"
      }
    },
    {
      "cell_type": "code",
      "source": [
        "sources = [mp.Source(mp.ContinuousSource(fcen,fwidth=df),\n",
        "                     component=mp.Ez,\n",
        "                     center=mp.Vector3(-0.5*sx+dpml,wvg_ycen,0),\n",
        "                     size=mp.Vector3(0,w,0))]\n",
        "\n",
        "# 0.15 corresponds to a vacuum wavelength of about 1/0.15=6.67 μm or ~2 μm for Si\n",
        "# The current is located at (-7,0), which is 1 μm to the right of the left edge of the cell\n",
        "#sources = [mp.Source(mp.ContinuousSource(frequency=0.15),\n",
        "#                     component=mp.Ez,\n",
        "#                     center=mp.Vector3(-7,0))]"
      ],
      "metadata": {
        "id": "I3gT2ZuPF97F"
      },
      "execution_count": null,
      "outputs": []
    },
    {
      "cell_type": "markdown",
      "source": [
        "### Boundary conditions"
      ],
      "metadata": {
        "id": "JHKHB7xgIYau"
      }
    },
    {
      "cell_type": "code",
      "source": [
        "## To add an absorbing layer of thickness 1 μm around all sides of the cell\n",
        "pml_layers = [mp.PML(dpml)] ## PML layers on all axis\n",
        "# pml_layers = [mp.PML(thickness=dpml,direction=mp.X)] ## PML layers on x axis"
      ],
      "metadata": {
        "id": "u4v6VB_mIX2H"
      },
      "execution_count": null,
      "outputs": []
    },
    {
      "cell_type": "markdown",
      "source": [
        "### Simulation objects"
      ],
      "metadata": {
        "id": "P2eGHSuiKjLm"
      }
    },
    {
      "cell_type": "code",
      "source": [
        "sim = mp.Simulation(cell_size=cell,\n",
        "                    boundary_layers=pml_layers,\n",
        "                    geometry=geometry,\n",
        "                    sources=sources,\n",
        "                    resolution=resolution)"
      ],
      "metadata": {
        "id": "2r2s0GeYKnZN"
      },
      "execution_count": null,
      "outputs": []
    },
    {
      "cell_type": "code",
      "source": [
        "# reflected flux\n",
        "refl_fr = mp.FluxRegion(center=mp.Vector3(-0.5*sx+dpml+0.5,wvg_ycen,0), size=mp.Vector3(0,2*w,0))\n",
        "refl = sim.add_flux(fcen, df, nfreq, refl_fr)\n",
        "\n",
        "# transmitted flux\n",
        "tran_fr = mp.FluxRegion(center=mp.Vector3(0.5*sx-dpml,wvg_ycen,0), size=mp.Vector3(0,2*w,0))\n",
        "tran = sim.add_flux(fcen, df, nfreq, tran_fr)"
      ],
      "metadata": {
        "id": "07kBVLt7Tk46"
      },
      "execution_count": null,
      "outputs": []
    },
    {
      "cell_type": "code",
      "source": [
        "pt = mp.Vector3(0.5 * sx - dpml - 0.5, wvg_ycen)\n",
        "\n",
        "sim.run(until_after_sources=mp.stop_when_fields_decayed(50, mp.Ez, pt, 1e-3))\n",
        "\n",
        "# for normalization run, save flux fields data for reflection plane\n",
        "straight_refl_data = sim.get_flux_data(refl)\n",
        "\n",
        "# save incident power for transmission plane\n",
        "straight_tran_flux = mp.get_fluxes(tran)"
      ],
      "metadata": {
        "id": "u_PnUreIfmo_"
      },
      "execution_count": null,
      "outputs": []
    },
    {
      "cell_type": "code",
      "source": [
        "f = plt.figure(dpi=100)\n",
        "sim.plot2D(ax=f.gca())\n",
        "plt.show()"
      ],
      "metadata": {
        "colab": {
          "base_uri": "https://localhost:8080/",
          "height": 389
        },
        "id": "8ox_BJtiKvT8",
        "outputId": "456c3754-25b7-4829-9359-5e4cd92f9ca6"
      },
      "execution_count": null,
      "outputs": [
        {
          "output_type": "stream",
          "name": "stdout",
          "text": [
            "     block, center = (0,0.5,0)\n",
            "          size (1e+20,1,1e+20)\n",
            "          axes (1,0,0), (0,1,0), (0,0,1)\n",
            "          dielectric constant epsilon diagonal = (12,12,12)\n"
          ]
        },
        {
          "output_type": "display_data",
          "data": {
            "text/plain": [
              "<Figure size 600x400 with 1 Axes>"
            ],
            "image/png": "[encoded data removed]"
          },
          "metadata": {
            "needs_background": "light"
          }
        }
      ]
    },
    {
      "cell_type": "code",
      "source": [
        "sim.run(until=200)"
      ],
      "metadata": {
        "colab": {
          "base_uri": "https://localhost:8080/",
          "height": 263,
          "referenced_widgets": [
            "a382e19592e143ae88c71cde232ef108",
            "9a8227f1a534494b94d9dae40f88f250",
            "b6b5a817135e4320be596099b830c61b"
          ]
        },
        "id": "v-Kk3drzLJdR",
        "outputId": "8488cd2e-66ae-4686-f0a4-a609a0bc686b"
      },
      "execution_count": null,
      "outputs": [
        {
          "output_type": "stream",
          "name": "stdout",
          "text": [
            "-----------\n",
            "Initializing structure...\n",
            "time for choose_chunkdivision = 0.00022912 s\n",
            "Working in 2D dimensions.\n",
            "Computational cell is 16 x 8 x 0 with resolution 10\n",
            "     block, center = (0,0.5,0)\n",
            "          size (1e+20,1,1e+20)\n",
            "          axes (1,0,0), (0,1,0), (0,0,1)\n",
            "          dielectric constant epsilon diagonal = (12,12,12)\n",
            "time for set_epsilon = 0.033576 s\n",
            "-----------\n"
          ]
        },
        {
          "output_type": "display_data",
          "data": {
            "text/plain": [
              "FloatProgress(value=0.0, description='0% done ', max=200.0)"
            ],
            "application/vnd.jupyter.widget-view+json": {
              "version_major": 2,
              "version_minor": 0,
              "model_id": "a382e19592e143ae88c71cde232ef108"
            }
          },
          "metadata": {}
        },
        {
          "output_type": "stream",
          "name": "stdout",
          "text": [
            "run 0 finished at t = 200.0 (4000 timesteps)\n"
          ]
        }
      ]
    },
    {
      "cell_type": "markdown",
      "source": [
        "## Analyse results"
      ],
      "metadata": {
        "id": "6E-hzRheLP3h"
      }
    },
    {
      "cell_type": "markdown",
      "source": [
        "### Dieletric"
      ],
      "metadata": {
        "id": "B3jq3bICLrv5"
      }
    },
    {
      "cell_type": "code",
      "source": [
        "eps_data = sim.get_array(center=mp.Vector3(), size=cell, component=mp.Dielectric)\n",
        "plt.figure()\n",
        "plt.imshow(eps_data.transpose(), interpolation='spline36', cmap='binary')\n",
        "plt.axis('off')\n",
        "plt.show()"
      ],
      "metadata": {
        "colab": {
          "base_uri": "https://localhost:8080/",
          "height": 198
        },
        "id": "38RWv_KBLSK6",
        "outputId": "f37fd58b-5fd3-4057-c396-b72b2650039d"
      },
      "execution_count": null,
      "outputs": [
        {
          "output_type": "display_data",
          "data": {
            "text/plain": [
              "<Figure size 432x288 with 1 Axes>"
            ],
            "image/png": "[encoded data removed]"
          },
          "metadata": {
            "needs_background": "light"
          }
        }
      ]
    },
    {
      "cell_type": "markdown",
      "source": [
        "### Ez field"
      ],
      "metadata": {
        "id": "ZX3f0hm4LtOu"
      }
    },
    {
      "cell_type": "code",
      "source": [
        "ez_data = sim.get_array(center=mp.Vector3(), size=cell, component=mp.Ez)\n",
        "plt.figure()\n",
        "plt.imshow(eps_data.transpose(), interpolation='spline36', cmap='binary')\n",
        "plt.imshow(ez_data.transpose(), interpolation='spline36', cmap='RdBu', alpha=0.9)\n",
        "plt.axis('off')\n",
        "plt.show()"
      ],
      "metadata": {
        "colab": {
          "base_uri": "https://localhost:8080/",
          "height": 198
        },
        "id": "t3HrNy7eLqwn",
        "outputId": "dd34359a-e427-495f-f5d1-70d7711dc0b3"
      },
      "execution_count": null,
      "outputs": [
        {
          "output_type": "display_data",
          "data": {
            "text/plain": [
              "<Figure size 432x288 with 1 Axes>"
            ],
            "image/png": "[encoded data removed]"
          },
          "metadata": {
            "needs_background": "light"
          }
        }
      ]
    }
  ]
}