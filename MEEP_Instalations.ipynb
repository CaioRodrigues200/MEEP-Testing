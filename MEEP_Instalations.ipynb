{
 "cells": [
  {
   "cell_type": "markdown",
   "metadata": {},
   "source": [
    "**This installation proccedure was made in ubuntu 24.04 LTS**"
   ]
  },
  {
   "cell_type": "markdown",
   "metadata": {},
   "source": [
    "# Miniconda installation"
   ]
  },
  {
   "cell_type": "code",
   "execution_count": null,
   "metadata": {},
   "outputs": [],
   "source": [
    "!rm Miniconda3_Files\n",
    "\n",
    "!wget -c https://repo.continuum.io/miniconda/Miniconda3-latest-Linux-x86_64.sh\n",
    "!mkdir Miniconda3_Files\n",
    "!chmod +x Miniconda3_Files/Miniconda3-latest-Linux-x86_64.sh\n",
    "!bash Miniconda3-latest-Linux-x86_64.sh -b -u -p /home/caio/Documentos/GitHub/MEEP-Testing/Miniconda3_Files\n",
    "\n",
    "!rm Miniconda3-latest-Linux-x86_64.sh"
   ]
  },
  {
   "cell_type": "markdown",
   "metadata": {},
   "source": [
    "# MEEP instalation"
   ]
  },
  {
   "cell_type": "markdown",
   "metadata": {},
   "source": [
    "For PyMeep installation, it will be created a new enviroment called \"mp\""
   ]
  },
  {
   "cell_type": "code",
   "execution_count": null,
   "metadata": {},
   "outputs": [],
   "source": [
    "import os\n",
    "if os.path.isdir('/content/anaconda'): root_path = '/content/anaconda'\n",
    "else: root_path = '/home/fotonica01/Documents/GitHub/MEEP-Testing/Miniconda3_Files'\n",
    "os.environ['PATH'] += f\":{root_path}/bin\"\n",
    "!conda create -n mp -c conda-forge pymeep python=3.10 -y\n",
    "print(\">> \", root_path)"
   ]
  },
  {
   "cell_type": "markdown",
   "metadata": {},
   "source": [
    "# HDF5 installation"
   ]
  },
  {
   "cell_type": "code",
   "execution_count": null,
   "metadata": {},
   "outputs": [],
   "source": [
    "# Install hdf5 \n",
    "!wget https://support.hdfgroup.org/ftp/HDF5/releases/hdf5-1.8/hdf5-1.8.14/src/hdf5-1.8.14.tar.gz\n",
    "!tar xvzf hdf5-1.8.14.tar.gz"
   ]
  },
  {
   "cell_type": "markdown",
   "metadata": {},
   "source": [
    "Recommended to put the *hdf5-1.8.14* folder **outside this repository**. Enter *hdf5-1.8.14* folder and run in cmd:\n",
    "\n",
    "- CXX=icpc CC=icc FC=ifort ./configure --enable-fortran --enable-cxx; make -j 4 \n",
    "\n",
    "- sudo make check \n",
    "\n",
    "- sudo make install\n",
    "\n",
    "- sudo make check-install"
   ]
  },
  {
   "cell_type": "code",
   "execution_count": null,
   "metadata": {},
   "outputs": [],
   "source": [
    "conda install h5py  # Python h5 library"
   ]
  },
  {
   "cell_type": "markdown",
   "metadata": {},
   "source": [
    "# H5utils installation"
   ]
  },
  {
   "cell_type": "code",
   "execution_count": null,
   "metadata": {},
   "outputs": [],
   "source": [
    "# Install h5utils \n",
    "!git clone https://github.com/stevengj/h5utils.git"
   ]
  },
  {
   "cell_type": "markdown",
   "metadata": {},
   "source": [
    "Recommended to put the *h5utils* folder **outside this repository**. Enter *h5utils* folder and run in cmd:\n",
    "\n",
    "- sh autogen.sh CC=mpicc LIBS=-ldl\n",
    "\n",
    "- make && sudo make install"
   ]
  },
  {
   "cell_type": "markdown",
   "metadata": {},
   "source": [
    "# Magick installation (*convert* function)"
   ]
  },
  {
   "cell_type": "markdown",
   "metadata": {},
   "source": [
    "Just run:\n",
    "\n",
    "- sudo apt install imagemagick"
   ]
  }
 ],
 "metadata": {
  "kernelspec": {
   "display_name": "mp",
   "language": "python",
   "name": "python3"
  },
  "language_info": {
   "codemirror_mode": {
    "name": "ipython",
    "version": 3
   },
   "file_extension": ".py",
   "mimetype": "text/x-python",
   "name": "python",
   "nbconvert_exporter": "python",
   "pygments_lexer": "ipython3",
   "version": "3.12.2"
  }
 },
 "nbformat": 4,
 "nbformat_minor": 2
}
