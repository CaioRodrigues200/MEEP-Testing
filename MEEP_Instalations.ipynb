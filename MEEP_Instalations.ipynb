{
 "cells": [
  {
   "cell_type": "code",
   "execution_count": 10,
   "metadata": {},
   "outputs": [
    {
     "name": "stdout",
     "output_type": "stream",
     "text": [
      "--2024-07-15 15:03:41--  https://imagemagick.org/archive/linux/CentOS\n",
      "Resolving imagemagick.org (imagemagick.org)... 50.251.58.13\n",
      "Connecting to imagemagick.org (imagemagick.org)|50.251.58.13|:443... connected.\n",
      "HTTP request sent, awaiting response... 301 Moved Permanently\n",
      "Location: https://imagemagick.org/archive/linux/CentOS/ [following]\n",
      "--2024-07-15 15:03:42--  https://imagemagick.org/archive/linux/CentOS/\n",
      "Reusing existing connection to imagemagick.org:443.\n",
      "HTTP request sent, awaiting response... 416 Requested Range Not Satisfiable\n",
      "\n",
      "    The file is already fully retrieved; nothing to do.\n",
      "\n",
      "mkdir: cannot create directory ‘Magick’: File exists\n"
     ]
    }
   ],
   "source": [
    "!wget -c https://imagemagick.org/archive/binaries/magick\n",
    "!mkdir Magick\n",
    "!mv magick Magick"
   ]
  },
  {
   "cell_type": "code",
   "execution_count": 4,
   "metadata": {},
   "outputs": [
    {
     "ename": "SyntaxError",
     "evalue": "invalid syntax (2173642619.py, line 1)",
     "output_type": "error",
     "traceback": [
      "\u001b[0;36m  Cell \u001b[0;32mIn[4], line 1\u001b[0;36m\u001b[0m\n\u001b[0;31m    magick logo: logo.gif\u001b[0m\n\u001b[0m           ^\u001b[0m\n\u001b[0;31mSyntaxError\u001b[0m\u001b[0;31m:\u001b[0m invalid syntax\n"
     ]
    }
   ],
   "source": [
    "magick logo: logo.gif\n",
    "identify logo.gif\n",
    "display logo.gif"
   ]
  },
  {
   "cell_type": "code",
   "execution_count": 5,
   "metadata": {},
   "outputs": [],
   "source": [
    "root_path = 'miniconda3'\n",
    "import sys\n",
    "sys.path.append(f'{root_path}envs/mp/lib/python3.12.4/site-packages/')\n",
    "\n",
    "import meep as mp\n",
    "import numpy as np\n",
    "import matplotlib.pyplot as plt\n",
    "from IPython.display import clear_output, Math, HTML"
   ]
  },
  {
   "cell_type": "code",
   "execution_count": 1,
   "metadata": {},
   "outputs": [
    {
     "name": "stdout",
     "output_type": "stream",
     "text": [
      "Retrieving notices: ...working... done\n",
      "Channels:\n",
      " - defaults\n",
      " - conda-forge\n",
      "Platform: linux-64\n",
      "Collecting package metadata (repodata.json): done\n",
      "Solving environment: done\n",
      "\n",
      "## Package Plan ##\n",
      "\n",
      "  environment location: /home/caiorod/MEEP/miniconda3/envs/mp\n",
      "\n",
      "  added / updated specs:\n",
      "    - h5py\n",
      "\n",
      "\n",
      "The following packages will be downloaded:\n",
      "\n",
      "    package                    |            build\n",
      "    ---------------------------|-----------------\n",
      "    ca-certificates-2024.7.2   |       h06a4308_0         127 KB\n",
      "    certifi-2024.7.4           |   py38h06a4308_0         158 KB\n",
      "    ------------------------------------------------------------\n",
      "                                           Total:         285 KB\n",
      "\n",
      "The following packages will be UPDATED:\n",
      "\n",
      "  ca-certificates    conda-forge::ca-certificates-2024.6.2~ --> pkgs/main::ca-certificates-2024.7.2-h06a4308_0 \n",
      "  certifi            conda-forge/noarch::certifi-2024.6.2-~ --> pkgs/main/linux-64::certifi-2024.7.4-py38h06a4308_0 \n",
      "\n",
      "\n",
      "\n",
      "Downloading and Extracting Packages:\n",
      "certifi-2024.7.4     | 158 KB    |                                       |   0% \n",
      "certifi-2024.7.4     | 158 KB    | ###7                                  |  10% \u001b[A\n",
      "certifi-2024.7.4     | 158 KB    | #############################9        |  81% \u001b[A\n",
      "ca-certificates-2024 | 127 KB    | ################################7     |  89% \u001b[A\n",
      "                                                                                \u001b[A\n",
      "                                                                                \u001b[A\n",
      "Preparing transaction: done\n",
      "Verifying transaction: done\n",
      "Executing transaction: done\n",
      "\n",
      "Note: you may need to restart the kernel to use updated packages.\n"
     ]
    }
   ],
   "source": [
    "conda install h5py"
   ]
  }
 ],
 "metadata": {
  "kernelspec": {
   "display_name": "mp",
   "language": "python",
   "name": "python3"
  },
  "language_info": {
   "codemirror_mode": {
    "name": "ipython",
    "version": 3
   },
   "file_extension": ".py",
   "mimetype": "text/x-python",
   "name": "python",
   "nbconvert_exporter": "python",
   "pygments_lexer": "ipython3",
   "version": "3.8.19"
  }
 },
 "nbformat": 4,
 "nbformat_minor": 2
}
