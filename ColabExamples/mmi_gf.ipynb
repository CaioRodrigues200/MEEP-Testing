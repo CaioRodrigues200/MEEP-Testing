{
  "cells": [
    {
      "cell_type": "markdown",
      "metadata": {
        "id": "Yh6j-ByrjJv1"
      },
      "source": [
        "# Mamba installation"
      ]
    },
    {
      "cell_type": "code",
      "execution_count": 2,
      "metadata": {
        "colab": {
          "base_uri": "https://localhost:8080/"
        },
        "id": "iXQj0V5EhTbz",
        "outputId": "6de14b0f-cc39-4750-ccff-e831931188b3"
      },
      "outputs": [
        {
          "name": "stdout",
          "output_type": "stream",
          "text": [
            "Collecting condacolab\n",
            "  Downloading condacolab-0.1.9-py3-none-any.whl.metadata (5.6 kB)\n",
            "Downloading condacolab-0.1.9-py3-none-any.whl (7.2 kB)\n",
            "Installing collected packages: condacolab\n",
            "Successfully installed condacolab-0.1.9\n"
          ]
        }
      ],
      "source": [
        "!pip install condacolab"
      ]
    },
    {
      "cell_type": "code",
      "execution_count": null,
      "metadata": {
        "colab": {
          "base_uri": "https://localhost:8080/"
        },
        "id": "6TCSEQKxhTb1",
        "outputId": "36d5f5ff-7f2a-4790-f1fa-bd4307b00cbd"
      },
      "outputs": [
        {
          "name": "stdout",
          "output_type": "stream",
          "text": [
            "✨🍰✨ Everything looks OK!\n"
          ]
        }
      ],
      "source": [
        "import condacolab\n",
        "condacolab.install()"
      ]
    },
    {
      "cell_type": "code",
      "execution_count": null,
      "metadata": {
        "colab": {
          "base_uri": "https://localhost:8080/"
        },
        "id": "oDnDnq8mhTb1",
        "outputId": "17e9812d-8154-466f-9407-d6ecd7d0311a"
      },
      "outputs": [
        {
          "name": "stdout",
          "output_type": "stream",
          "text": [
            "✨🍰✨ Everything looks OK!\n"
          ]
        }
      ],
      "source": [
        "import condacolab\n",
        "condacolab.check()"
      ]
    },
    {
      "cell_type": "markdown",
      "metadata": {
        "id": "M1lQKOXErmDN"
      },
      "source": [
        "# Install GDSFACTORY and MEEP"
      ]
    },
    {
      "cell_type": "code",
      "execution_count": 4,
      "metadata": {
        "colab": {
          "base_uri": "https://localhost:8080/"
        },
        "id": "TjDyC5EXfc7d",
        "outputId": "81060fc3-8e1c-4635-ceb1-e2f0372cb985"
      },
      "outputs": [
        {
          "name": "stdout",
          "output_type": "stream",
          "text": [
            "Collecting gdsfactory\n",
            "  Downloading gdsfactory-8.6.5-py3-none-any.whl.metadata (11 kB)\n",
            "Requirement already satisfied: jinja2<4 in ./Miniconda3_Files/envs/mp/lib/python3.10/site-packages (from gdsfactory) (3.1.4)\n",
            "Collecting loguru<1 (from gdsfactory)\n",
            "  Downloading loguru-0.7.2-py3-none-any.whl.metadata (23 kB)\n",
            "Requirement already satisfied: matplotlib<4 in ./Miniconda3_Files/envs/mp/lib/python3.10/site-packages (from gdsfactory) (3.9.1)\n",
            "Requirement already satisfied: numpy<2 in ./Miniconda3_Files/envs/mp/lib/python3.10/site-packages (from gdsfactory) (1.26.4)\n",
            "Collecting orjson<4 (from gdsfactory)\n",
            "  Downloading orjson-3.10.6-cp310-cp310-manylinux_2_17_x86_64.manylinux2014_x86_64.whl.metadata (50 kB)\n",
            "\u001b[2K     \u001b[90m━━━━━━━━━━━━━━━━━━━━━━━━━━━━━━━━━━━━━━━\u001b[0m \u001b[32m50.4/50.4 kB\u001b[0m \u001b[31m882.3 kB/s\u001b[0m eta \u001b[36m0:00:00\u001b[0ma \u001b[36m0:00:01\u001b[0m\n",
            "\u001b[?25hRequirement already satisfied: pandas<3 in ./Miniconda3_Files/envs/mp/lib/python3.10/site-packages (from gdsfactory) (2.2.2)\n",
            "Collecting pydantic<2.9,>=2.6 (from gdsfactory)\n",
            "  Downloading pydantic-2.8.2-py3-none-any.whl.metadata (125 kB)\n",
            "\u001b[2K     \u001b[90m━━━━━━━━━━━━━━━━━━━━━━━━━━━━━━━━━━━━━━━\u001b[0m \u001b[32m125.2/125.2 kB\u001b[0m \u001b[31m1.9 MB/s\u001b[0m eta \u001b[36m0:00:00\u001b[0ma \u001b[36m0:00:01\u001b[0m\n",
            "\u001b[?25hCollecting pydantic-settings<3 (from gdsfactory)\n",
            "  Downloading pydantic_settings-2.4.0-py3-none-any.whl.metadata (3.5 kB)\n",
            "Collecting pydantic-extra-types<3 (from gdsfactory)\n",
            "  Downloading pydantic_extra_types-2.9.0-py3-none-any.whl.metadata (3.4 kB)\n",
            "Requirement already satisfied: pyyaml in ./Miniconda3_Files/envs/mp/lib/python3.10/site-packages (from gdsfactory) (6.0.1)\n",
            "Collecting qrcode (from gdsfactory)\n",
            "  Downloading qrcode-7.4.2-py3-none-any.whl.metadata (17 kB)\n",
            "Collecting rectpack<1 (from gdsfactory)\n",
            "  Downloading rectpack-0.2.2.tar.gz (17 kB)\n",
            "  Preparing metadata (setup.py) ... \u001b[?25ldone\n",
            "\u001b[?25hCollecting rich<14 (from gdsfactory)\n",
            "  Downloading rich-13.7.1-py3-none-any.whl.metadata (18 kB)\n",
            "Requirement already satisfied: scipy<2 in ./Miniconda3_Files/envs/mp/lib/python3.10/site-packages (from gdsfactory) (1.14.0)\n",
            "Collecting shapely<3 (from gdsfactory)\n",
            "  Downloading shapely-2.0.5-cp310-cp310-manylinux_2_17_x86_64.manylinux2014_x86_64.whl.metadata (7.0 kB)\n",
            "Collecting toolz<1 (from gdsfactory)\n",
            "  Downloading toolz-0.12.1-py3-none-any.whl.metadata (5.1 kB)\n",
            "Collecting types-PyYAML (from gdsfactory)\n",
            "  Downloading types_PyYAML-6.0.12.20240724-py3-none-any.whl.metadata (1.6 kB)\n",
            "Collecting typer<1 (from gdsfactory)\n",
            "  Downloading typer-0.12.3-py3-none-any.whl.metadata (15 kB)\n",
            "Collecting watchdog<5 (from gdsfactory)\n",
            "  Downloading watchdog-4.0.1-py3-none-manylinux2014_x86_64.whl.metadata (37 kB)\n",
            "Collecting kfactory==0.18.4 (from kfactory[ipy]==0.18.4->gdsfactory)\n",
            "  Downloading kfactory-0.18.4-py3-none-any.whl.metadata (4.4 kB)\n",
            "Collecting freetype-py (from gdsfactory)\n",
            "  Downloading freetype_py-2.4.0-py3-none-manylinux_2_5_x86_64.manylinux1_x86_64.manylinux_2_12_x86_64.manylinux2010_x86_64.whl.metadata (6.3 kB)\n",
            "Collecting mapbox_earcut (from gdsfactory)\n",
            "  Downloading mapbox_earcut-1.0.2-cp310-cp310-manylinux_2_17_x86_64.manylinux2014_x86_64.whl.metadata (2.1 kB)\n",
            "Collecting networkx (from gdsfactory)\n",
            "  Downloading networkx-3.3-py3-none-any.whl.metadata (5.1 kB)\n",
            "Collecting scikit-image (from gdsfactory)\n",
            "  Downloading scikit_image-0.24.0-cp310-cp310-manylinux_2_17_x86_64.manylinux2014_x86_64.whl.metadata (14 kB)\n",
            "Collecting trimesh<4.5,>=4.4.1 (from gdsfactory)\n",
            "  Downloading trimesh-4.4.3-py3-none-any.whl.metadata (18 kB)\n",
            "Requirement already satisfied: ipykernel in /home/fotonica01/.local/lib/python3.10/site-packages (from gdsfactory) (6.29.5)\n",
            "Requirement already satisfied: attrs in ./Miniconda3_Files/envs/mp/lib/python3.10/site-packages (from gdsfactory) (24.1.0)\n",
            "Collecting aenum (from kfactory==0.18.4->kfactory[ipy]==0.18.4->gdsfactory)\n",
            "  Downloading aenum-3.1.15-py3-none-any.whl.metadata (3.7 kB)\n",
            "Collecting cachetools>=5.2.0 (from kfactory==0.18.4->kfactory[ipy]==0.18.4->gdsfactory)\n",
            "  Downloading cachetools-5.4.0-py3-none-any.whl.metadata (5.3 kB)\n",
            "Collecting gitpython (from kfactory==0.18.4->kfactory[ipy]==0.18.4->gdsfactory)\n",
            "  Downloading GitPython-3.1.43-py3-none-any.whl.metadata (13 kB)\n",
            "Collecting klayout>=0.29.3 (from kfactory==0.18.4->kfactory[ipy]==0.18.4->gdsfactory)\n",
            "  Downloading klayout-0.29.5-cp310-cp310-manylinux_2_17_x86_64.manylinux2014_x86_64.whl.metadata (782 bytes)\n",
            "Collecting rectangle-packer (from kfactory==0.18.4->kfactory[ipy]==0.18.4->gdsfactory)\n",
            "  Downloading rectangle_packer-2.0.2-cp310-cp310-manylinux_2_5_x86_64.manylinux1_x86_64.manylinux_2_17_x86_64.manylinux2014_x86_64.whl.metadata (5.4 kB)\n",
            "Collecting requests (from kfactory==0.18.4->kfactory[ipy]==0.18.4->gdsfactory)\n",
            "  Downloading requests-2.32.3-py3-none-any.whl.metadata (4.6 kB)\n",
            "Collecting ruamel.yaml (from kfactory==0.18.4->kfactory[ipy]==0.18.4->gdsfactory)\n",
            "  Downloading ruamel.yaml-0.18.6-py3-none-any.whl.metadata (23 kB)\n",
            "Requirement already satisfied: tomli in ./Miniconda3_Files/envs/mp/lib/python3.10/site-packages (from kfactory==0.18.4->kfactory[ipy]==0.18.4->gdsfactory) (2.0.1)\n",
            "Requirement already satisfied: ipython in /home/fotonica01/.local/lib/python3.10/site-packages (from kfactory[ipy]==0.18.4->gdsfactory) (8.26.0)\n",
            "Collecting ipywidgets (from kfactory[ipy]==0.18.4->gdsfactory)\n",
            "  Downloading ipywidgets-8.1.3-py3-none-any.whl.metadata (2.4 kB)\n",
            "Collecting ipytree (from kfactory[ipy]==0.18.4->gdsfactory)\n",
            "  Downloading ipytree-0.2.2-py2.py3-none-any.whl.metadata (849 bytes)\n",
            "Collecting ipyevents (from kfactory[ipy]==0.18.4->gdsfactory)\n",
            "  Downloading ipyevents-2.0.2-py3-none-any.whl.metadata (2.9 kB)\n",
            "Requirement already satisfied: MarkupSafe>=2.0 in ./Miniconda3_Files/envs/mp/lib/python3.10/site-packages (from jinja2<4->gdsfactory) (2.1.5)\n",
            "Requirement already satisfied: contourpy>=1.0.1 in ./Miniconda3_Files/envs/mp/lib/python3.10/site-packages (from matplotlib<4->gdsfactory) (1.2.1)\n",
            "Requirement already satisfied: cycler>=0.10 in ./Miniconda3_Files/envs/mp/lib/python3.10/site-packages (from matplotlib<4->gdsfactory) (0.12.1)\n",
            "Requirement already satisfied: fonttools>=4.22.0 in ./Miniconda3_Files/envs/mp/lib/python3.10/site-packages (from matplotlib<4->gdsfactory) (4.53.1)\n",
            "Requirement already satisfied: kiwisolver>=1.3.1 in ./Miniconda3_Files/envs/mp/lib/python3.10/site-packages (from matplotlib<4->gdsfactory) (1.4.5)\n",
            "Requirement already satisfied: packaging>=20.0 in /home/fotonica01/.local/lib/python3.10/site-packages (from matplotlib<4->gdsfactory) (24.1)\n",
            "Requirement already satisfied: pillow>=8 in ./Miniconda3_Files/envs/mp/lib/python3.10/site-packages (from matplotlib<4->gdsfactory) (10.4.0)\n",
            "Requirement already satisfied: pyparsing>=2.3.1 in ./Miniconda3_Files/envs/mp/lib/python3.10/site-packages (from matplotlib<4->gdsfactory) (3.1.2)\n",
            "Requirement already satisfied: python-dateutil>=2.7 in /home/fotonica01/.local/lib/python3.10/site-packages (from matplotlib<4->gdsfactory) (2.9.0.post0)\n",
            "Requirement already satisfied: pytz>=2020.1 in ./Miniconda3_Files/envs/mp/lib/python3.10/site-packages (from pandas<3->gdsfactory) (2024.1)\n",
            "Requirement already satisfied: tzdata>=2022.7 in ./Miniconda3_Files/envs/mp/lib/python3.10/site-packages (from pandas<3->gdsfactory) (2024.1)\n",
            "Collecting annotated-types>=0.4.0 (from pydantic<2.9,>=2.6->gdsfactory)\n",
            "  Downloading annotated_types-0.7.0-py3-none-any.whl.metadata (15 kB)\n",
            "Collecting pydantic-core==2.20.1 (from pydantic<2.9,>=2.6->gdsfactory)\n",
            "  Downloading pydantic_core-2.20.1-cp310-cp310-manylinux_2_17_x86_64.manylinux2014_x86_64.whl.metadata (6.6 kB)\n",
            "Requirement already satisfied: typing-extensions>=4.6.1 in /home/fotonica01/.local/lib/python3.10/site-packages (from pydantic<2.9,>=2.6->gdsfactory) (4.12.2)\n",
            "Collecting python-dotenv>=0.21.0 (from pydantic-settings<3->gdsfactory)\n",
            "  Downloading python_dotenv-1.0.1-py3-none-any.whl.metadata (23 kB)\n",
            "Requirement already satisfied: markdown-it-py>=2.2.0 in ./Miniconda3_Files/envs/mp/lib/python3.10/site-packages (from rich<14->gdsfactory) (3.0.0)\n",
            "Requirement already satisfied: pygments<3.0.0,>=2.13.0 in /home/fotonica01/.local/lib/python3.10/site-packages (from rich<14->gdsfactory) (2.18.0)\n",
            "Collecting click>=8.0.0 (from typer<1->gdsfactory)\n",
            "  Downloading click-8.1.7-py3-none-any.whl.metadata (3.0 kB)\n",
            "Collecting shellingham>=1.3.0 (from typer<1->gdsfactory)\n",
            "  Downloading shellingham-1.5.4-py2.py3-none-any.whl.metadata (3.5 kB)\n",
            "Requirement already satisfied: comm>=0.1.1 in /home/fotonica01/.local/lib/python3.10/site-packages (from ipykernel->gdsfactory) (0.2.2)\n",
            "Requirement already satisfied: debugpy>=1.6.5 in /home/fotonica01/.local/lib/python3.10/site-packages (from ipykernel->gdsfactory) (1.8.2)\n",
            "Requirement already satisfied: jupyter-client>=6.1.12 in /home/fotonica01/.local/lib/python3.10/site-packages (from ipykernel->gdsfactory) (8.6.2)\n",
            "Requirement already satisfied: jupyter-core!=5.0.*,>=4.12 in /home/fotonica01/.local/lib/python3.10/site-packages (from ipykernel->gdsfactory) (5.7.2)\n",
            "Requirement already satisfied: matplotlib-inline>=0.1 in /home/fotonica01/.local/lib/python3.10/site-packages (from ipykernel->gdsfactory) (0.1.7)\n",
            "Requirement already satisfied: nest-asyncio in /home/fotonica01/.local/lib/python3.10/site-packages (from ipykernel->gdsfactory) (1.6.0)\n",
            "Requirement already satisfied: psutil in /home/fotonica01/.local/lib/python3.10/site-packages (from ipykernel->gdsfactory) (6.0.0)\n",
            "Requirement already satisfied: pyzmq>=24 in /home/fotonica01/.local/lib/python3.10/site-packages (from ipykernel->gdsfactory) (26.0.3)\n",
            "Requirement already satisfied: tornado>=6.1 in /home/fotonica01/.local/lib/python3.10/site-packages (from ipykernel->gdsfactory) (6.4.1)\n",
            "Requirement already satisfied: traitlets>=5.4.0 in /home/fotonica01/.local/lib/python3.10/site-packages (from ipykernel->gdsfactory) (5.14.3)\n",
            "Collecting pypng (from qrcode->gdsfactory)\n",
            "  Downloading pypng-0.20220715.0-py3-none-any.whl.metadata (13 kB)\n",
            "Collecting imageio>=2.33 (from scikit-image->gdsfactory)\n",
            "  Downloading imageio-2.34.2-py3-none-any.whl.metadata (4.9 kB)\n",
            "Collecting tifffile>=2022.8.12 (from scikit-image->gdsfactory)\n",
            "  Downloading tifffile-2024.7.24-py3-none-any.whl.metadata (31 kB)\n",
            "Collecting lazy-loader>=0.4 (from scikit-image->gdsfactory)\n",
            "  Downloading lazy_loader-0.4-py3-none-any.whl.metadata (7.6 kB)\n",
            "Requirement already satisfied: decorator in /home/fotonica01/.local/lib/python3.10/site-packages (from ipython->kfactory[ipy]==0.18.4->gdsfactory) (5.1.1)\n",
            "Requirement already satisfied: jedi>=0.16 in /home/fotonica01/.local/lib/python3.10/site-packages (from ipython->kfactory[ipy]==0.18.4->gdsfactory) (0.19.1)\n",
            "Requirement already satisfied: prompt-toolkit<3.1.0,>=3.0.41 in /home/fotonica01/.local/lib/python3.10/site-packages (from ipython->kfactory[ipy]==0.18.4->gdsfactory) (3.0.47)\n",
            "Requirement already satisfied: stack-data in /home/fotonica01/.local/lib/python3.10/site-packages (from ipython->kfactory[ipy]==0.18.4->gdsfactory) (0.6.3)\n",
            "Requirement already satisfied: exceptiongroup in /home/fotonica01/.local/lib/python3.10/site-packages (from ipython->kfactory[ipy]==0.18.4->gdsfactory) (1.2.2)\n",
            "Requirement already satisfied: pexpect>4.3 in /home/fotonica01/.local/lib/python3.10/site-packages (from ipython->kfactory[ipy]==0.18.4->gdsfactory) (4.9.0)\n",
            "Requirement already satisfied: platformdirs>=2.5 in /home/fotonica01/.local/lib/python3.10/site-packages (from jupyter-core!=5.0.*,>=4.12->ipykernel->gdsfactory) (4.2.2)\n",
            "Requirement already satisfied: mdurl~=0.1 in ./Miniconda3_Files/envs/mp/lib/python3.10/site-packages (from markdown-it-py>=2.2.0->rich<14->gdsfactory) (0.1.2)\n",
            "Requirement already satisfied: six>=1.5 in /home/fotonica01/.local/lib/python3.10/site-packages (from python-dateutil>=2.7->matplotlib<4->gdsfactory) (1.16.0)\n",
            "Collecting gitdb<5,>=4.0.1 (from gitpython->kfactory==0.18.4->kfactory[ipy]==0.18.4->gdsfactory)\n",
            "  Downloading gitdb-4.0.11-py3-none-any.whl.metadata (1.2 kB)\n",
            "Collecting widgetsnbextension~=4.0.11 (from ipywidgets->kfactory[ipy]==0.18.4->gdsfactory)\n",
            "  Downloading widgetsnbextension-4.0.11-py3-none-any.whl.metadata (1.6 kB)\n",
            "Collecting jupyterlab-widgets~=3.0.11 (from ipywidgets->kfactory[ipy]==0.18.4->gdsfactory)\n",
            "  Downloading jupyterlab_widgets-3.0.11-py3-none-any.whl.metadata (4.1 kB)\n",
            "Collecting charset-normalizer<4,>=2 (from requests->kfactory==0.18.4->kfactory[ipy]==0.18.4->gdsfactory)\n",
            "  Downloading charset_normalizer-3.3.2-cp310-cp310-manylinux_2_17_x86_64.manylinux2014_x86_64.whl.metadata (33 kB)\n",
            "Collecting idna<4,>=2.5 (from requests->kfactory==0.18.4->kfactory[ipy]==0.18.4->gdsfactory)\n",
            "  Downloading idna-3.7-py3-none-any.whl.metadata (9.9 kB)\n",
            "Collecting urllib3<3,>=1.21.1 (from requests->kfactory==0.18.4->kfactory[ipy]==0.18.4->gdsfactory)\n",
            "  Downloading urllib3-2.2.2-py3-none-any.whl.metadata (6.4 kB)\n",
            "Requirement already satisfied: certifi>=2017.4.17 in ./Miniconda3_Files/envs/mp/lib/python3.10/site-packages (from requests->kfactory==0.18.4->kfactory[ipy]==0.18.4->gdsfactory) (2024.7.4)\n",
            "Collecting ruamel.yaml.clib>=0.2.7 (from ruamel.yaml->kfactory==0.18.4->kfactory[ipy]==0.18.4->gdsfactory)\n",
            "  Downloading ruamel.yaml.clib-0.2.8-cp310-cp310-manylinux_2_17_x86_64.manylinux2014_x86_64.manylinux_2_24_x86_64.whl.metadata (2.2 kB)\n",
            "\u001b[33mWARNING: typer 0.12.3 does not provide the extra 'all'\u001b[0m\u001b[33m\n",
            "\u001b[0mCollecting smmap<6,>=3.0.1 (from gitdb<5,>=4.0.1->gitpython->kfactory==0.18.4->kfactory[ipy]==0.18.4->gdsfactory)\n",
            "  Downloading smmap-5.0.1-py3-none-any.whl.metadata (4.3 kB)\n",
            "Requirement already satisfied: parso<0.9.0,>=0.8.3 in /home/fotonica01/.local/lib/python3.10/site-packages (from jedi>=0.16->ipython->kfactory[ipy]==0.18.4->gdsfactory) (0.8.4)\n",
            "Requirement already satisfied: ptyprocess>=0.5 in /home/fotonica01/.local/lib/python3.10/site-packages (from pexpect>4.3->ipython->kfactory[ipy]==0.18.4->gdsfactory) (0.7.0)\n",
            "Requirement already satisfied: wcwidth in /home/fotonica01/.local/lib/python3.10/site-packages (from prompt-toolkit<3.1.0,>=3.0.41->ipython->kfactory[ipy]==0.18.4->gdsfactory) (0.2.13)\n",
            "Requirement already satisfied: executing>=1.2.0 in /home/fotonica01/.local/lib/python3.10/site-packages (from stack-data->ipython->kfactory[ipy]==0.18.4->gdsfactory) (2.0.1)\n",
            "Requirement already satisfied: asttokens>=2.1.0 in /home/fotonica01/.local/lib/python3.10/site-packages (from stack-data->ipython->kfactory[ipy]==0.18.4->gdsfactory) (2.4.1)\n",
            "Requirement already satisfied: pure-eval in /home/fotonica01/.local/lib/python3.10/site-packages (from stack-data->ipython->kfactory[ipy]==0.18.4->gdsfactory) (0.2.3)\n",
            "Downloading gdsfactory-8.6.5-py3-none-any.whl (634 kB)\n",
            "\u001b[2K   \u001b[90m━━━━━━━━━━━━━━━━━━━━━━━━━━━━━━━━━━━━━━━━\u001b[0m \u001b[32m634.3/634.3 kB\u001b[0m \u001b[31m6.1 MB/s\u001b[0m eta \u001b[36m0:00:00\u001b[0ma \u001b[36m0:00:01\u001b[0m\n",
            "\u001b[?25hDownloading kfactory-0.18.4-py3-none-any.whl (147 kB)\n",
            "\u001b[2K   \u001b[90m━━━━━━━━━━━━━━━━━━━━━━━━━━━━━━━━━━━━━━━━\u001b[0m \u001b[32m147.2/147.2 kB\u001b[0m \u001b[31m15.8 MB/s\u001b[0m eta \u001b[36m0:00:00\u001b[0m\n",
            "\u001b[?25hDownloading loguru-0.7.2-py3-none-any.whl (62 kB)\n",
            "\u001b[2K   \u001b[90m━━━━━━━━━━━━━━━━━━━━━━━━━━━━━━━━━━━━━━━━\u001b[0m \u001b[32m62.5/62.5 kB\u001b[0m \u001b[31m5.3 MB/s\u001b[0m eta \u001b[36m0:00:00\u001b[0m\n",
            "\u001b[?25hDownloading orjson-3.10.6-cp310-cp310-manylinux_2_17_x86_64.manylinux2014_x86_64.whl (141 kB)\n",
            "\u001b[2K   \u001b[90m━━━━━━━━━━━━━━━━━━━━━━━━━━━━━━━━━━━━━━━━\u001b[0m \u001b[32m141.1/141.1 kB\u001b[0m \u001b[31m11.6 MB/s\u001b[0m eta \u001b[36m0:00:00\u001b[0m\n",
            "\u001b[?25hDownloading pydantic-2.8.2-py3-none-any.whl (423 kB)\n",
            "\u001b[2K   \u001b[90m━━━━━━━━━━━━━━━━━━━━━━━━━━━━━━━━━━━━━━━━\u001b[0m \u001b[32m423.9/423.9 kB\u001b[0m \u001b[31m21.2 MB/s\u001b[0m eta \u001b[36m0:00:00\u001b[0m\n",
            "\u001b[?25hDownloading pydantic_core-2.20.1-cp310-cp310-manylinux_2_17_x86_64.manylinux2014_x86_64.whl (2.1 MB)\n",
            "\u001b[2K   \u001b[90m━━━━━━━━━━━━━━━━━━━━━━━━━━━━━━━━━━━━━━━━\u001b[0m \u001b[32m2.1/2.1 MB\u001b[0m \u001b[31m13.7 MB/s\u001b[0m eta \u001b[36m0:00:00\u001b[0m00:01\u001b[0m00:01\u001b[0m\n",
            "\u001b[?25hDownloading pydantic_extra_types-2.9.0-py3-none-any.whl (30 kB)\n",
            "Downloading pydantic_settings-2.4.0-py3-none-any.whl (23 kB)\n",
            "Downloading rich-13.7.1-py3-none-any.whl (240 kB)\n",
            "\u001b[2K   \u001b[90m━━━━━━━━━━━━━━━━━━━━━━━━━━━━━━━━━━━━━━━━\u001b[0m \u001b[32m240.7/240.7 kB\u001b[0m \u001b[31m16.4 MB/s\u001b[0m eta \u001b[36m0:00:00\u001b[0m\n",
            "\u001b[?25hDownloading shapely-2.0.5-cp310-cp310-manylinux_2_17_x86_64.manylinux2014_x86_64.whl (2.5 MB)\n",
            "\u001b[2K   \u001b[90m━━━━━━━━━━━━━━━━━━━━━━━━━━━━━━━━━━━━━━━━\u001b[0m \u001b[32m2.5/2.5 MB\u001b[0m \u001b[31m16.5 MB/s\u001b[0m eta \u001b[36m0:00:00\u001b[0m00:01\u001b[0m00:01\u001b[0m\n",
            "\u001b[?25hDownloading toolz-0.12.1-py3-none-any.whl (56 kB)\n",
            "\u001b[2K   \u001b[90m━━━━━━━━━━━━━━━━━━━━━━━━━━━━━━━━━━━━━━━━\u001b[0m \u001b[32m56.1/56.1 kB\u001b[0m \u001b[31m6.1 MB/s\u001b[0m eta \u001b[36m0:00:00\u001b[0m\n",
            "\u001b[?25hDownloading trimesh-4.4.3-py3-none-any.whl (695 kB)\n",
            "\u001b[2K   \u001b[90m━━━━━━━━━━━━━━━━━━━━━━━━━━━━━━━━━━━━━━━━\u001b[0m \u001b[32m695.9/695.9 kB\u001b[0m \u001b[31m16.5 MB/s\u001b[0m eta \u001b[36m0:00:00\u001b[0m00:01\u001b[0m\n",
            "\u001b[?25hDownloading typer-0.12.3-py3-none-any.whl (47 kB)\n",
            "\u001b[2K   \u001b[90m━━━━━━━━━━━━━━━━━━━━━━━━━━━━━━━━━━━━━━━━\u001b[0m \u001b[32m47.2/47.2 kB\u001b[0m \u001b[31m4.1 MB/s\u001b[0m eta \u001b[36m0:00:00\u001b[0m\n",
            "\u001b[?25hDownloading watchdog-4.0.1-py3-none-manylinux2014_x86_64.whl (83 kB)\n",
            "\u001b[2K   \u001b[90m━━━━━━━━━━━━━━━━━━━━━━━━━━━━━━━━━━━━━━━━\u001b[0m \u001b[32m83.0/83.0 kB\u001b[0m \u001b[31m7.2 MB/s\u001b[0m eta \u001b[36m0:00:00\u001b[0m\n",
            "\u001b[?25hDownloading freetype_py-2.4.0-py3-none-manylinux_2_5_x86_64.manylinux1_x86_64.manylinux_2_12_x86_64.manylinux2010_x86_64.whl (1.0 MB)\n",
            "\u001b[2K   \u001b[90m━━━━━━━━━━━━━━━━━━━━━━━━━━━━━━━━━━━━━━━━\u001b[0m \u001b[32m1.0/1.0 MB\u001b[0m \u001b[31m27.2 MB/s\u001b[0m eta \u001b[36m0:00:00\u001b[0m00:01\u001b[0m\n",
            "\u001b[?25hDownloading mapbox_earcut-1.0.2-cp310-cp310-manylinux_2_17_x86_64.manylinux2014_x86_64.whl (110 kB)\n",
            "\u001b[2K   \u001b[90m━━━━━━━━━━━━━━━━━━━━━━━━━━━━━━━━━━━━━━━━\u001b[0m \u001b[32m111.0/111.0 kB\u001b[0m \u001b[31m14.2 MB/s\u001b[0m eta \u001b[36m0:00:00\u001b[0m\n",
            "\u001b[?25hDownloading networkx-3.3-py3-none-any.whl (1.7 MB)\n",
            "\u001b[2K   \u001b[90m━━━━━━━━━━━━━━━━━━━━━━━━━━━━━━━━━━━━━━━━\u001b[0m \u001b[32m1.7/1.7 MB\u001b[0m \u001b[31m17.8 MB/s\u001b[0m eta \u001b[36m0:00:00\u001b[0ma \u001b[36m0:00:01\u001b[0m\n",
            "\u001b[?25hDownloading qrcode-7.4.2-py3-none-any.whl (46 kB)\n",
            "\u001b[2K   \u001b[90m━━━━━━━━━━━━━━━━━━━━━━━━━━━━━━━━━━━━━━━━\u001b[0m \u001b[32m46.2/46.2 kB\u001b[0m \u001b[31m5.9 MB/s\u001b[0m eta \u001b[36m0:00:00\u001b[0m\n",
            "\u001b[?25hDownloading scikit_image-0.24.0-cp310-cp310-manylinux_2_17_x86_64.manylinux2014_x86_64.whl (14.9 MB)\n",
            "\u001b[2K   \u001b[90m━━━━━━━━━━━━━━━━━━━━━━━━━━━━━━━━━━━━━━━━\u001b[0m \u001b[32m14.9/14.9 MB\u001b[0m \u001b[31m12.5 MB/s\u001b[0m eta \u001b[36m0:00:00\u001b[0m00:01\u001b[0m00:01\u001b[0m\n",
            "\u001b[?25hDownloading types_PyYAML-6.0.12.20240724-py3-none-any.whl (15 kB)\n",
            "Downloading annotated_types-0.7.0-py3-none-any.whl (13 kB)\n",
            "Downloading cachetools-5.4.0-py3-none-any.whl (9.5 kB)\n",
            "Downloading click-8.1.7-py3-none-any.whl (97 kB)\n",
            "\u001b[2K   \u001b[90m━━━━━━━━━━━━━━━━━━━━━━━━━━━━━━━━━━━━━━━━\u001b[0m \u001b[32m97.9/97.9 kB\u001b[0m \u001b[31m8.5 MB/s\u001b[0m eta \u001b[36m0:00:00\u001b[0m\n",
            "\u001b[?25hDownloading imageio-2.34.2-py3-none-any.whl (313 kB)\n",
            "\u001b[2K   \u001b[90m━━━━━━━━━━━━━━━━━━━━━━━━━━━━━━━━━━━━━━━━\u001b[0m \u001b[32m313.5/313.5 kB\u001b[0m \u001b[31m10.8 MB/s\u001b[0m eta \u001b[36m0:00:00\u001b[0m\n",
            "\u001b[?25hDownloading klayout-0.29.5-cp310-cp310-manylinux_2_17_x86_64.manylinux2014_x86_64.whl (23.4 MB)\n",
            "\u001b[2K   \u001b[90m━━━━━━━━━━━━━━━━━━━━━━━━━━━━━━━━━━━━━━━━\u001b[0m \u001b[32m23.4/23.4 MB\u001b[0m \u001b[31m4.5 MB/s\u001b[0m eta \u001b[36m0:00:00\u001b[0m00:01\u001b[0m00:01\u001b[0m\n",
            "\u001b[?25hDownloading lazy_loader-0.4-py3-none-any.whl (12 kB)\n",
            "Downloading python_dotenv-1.0.1-py3-none-any.whl (19 kB)\n",
            "Downloading shellingham-1.5.4-py2.py3-none-any.whl (9.8 kB)\n",
            "Downloading tifffile-2024.7.24-py3-none-any.whl (226 kB)\n",
            "\u001b[2K   \u001b[90m━━━━━━━━━━━━━━━━━━━━━━━━━━━━━━━━━━━━━━━━\u001b[0m \u001b[32m226.2/226.2 kB\u001b[0m \u001b[31m8.9 MB/s\u001b[0m eta \u001b[36m0:00:00\u001b[0m\n",
            "\u001b[?25hDownloading aenum-3.1.15-py3-none-any.whl (137 kB)\n",
            "\u001b[2K   \u001b[90m━━━━━━━━━━━━━━━━━━━━━━━━━━━━━━━━━━━━━━━━\u001b[0m \u001b[32m137.6/137.6 kB\u001b[0m \u001b[31m6.9 MB/s\u001b[0m eta \u001b[36m0:00:00\u001b[0m\n",
            "\u001b[?25hDownloading GitPython-3.1.43-py3-none-any.whl (207 kB)\n",
            "\u001b[2K   \u001b[90m━━━━━━━━━━━━━━━━━━━━━━━━━━━━━━━━━━━━━━━━\u001b[0m \u001b[32m207.3/207.3 kB\u001b[0m \u001b[31m7.5 MB/s\u001b[0m eta \u001b[36m0:00:00\u001b[0m\n",
            "\u001b[?25hDownloading ipyevents-2.0.2-py3-none-any.whl (101 kB)\n",
            "\u001b[2K   \u001b[90m━━━━━━━━━━━━━━━━━━━━━━━━━━━━━━━━━━━━━━━━\u001b[0m \u001b[32m101.8/101.8 kB\u001b[0m \u001b[31m9.3 MB/s\u001b[0m eta \u001b[36m0:00:00\u001b[0m\n",
            "\u001b[?25hDownloading ipywidgets-8.1.3-py3-none-any.whl (139 kB)\n",
            "\u001b[2K   \u001b[90m━━━━━━━━━━━━━━━━━━━━━━━━━━━━━━━━━━━━━━━━\u001b[0m \u001b[32m139.4/139.4 kB\u001b[0m \u001b[31m7.4 MB/s\u001b[0m eta \u001b[36m0:00:00\u001b[0m\n",
            "\u001b[?25hDownloading ipytree-0.2.2-py2.py3-none-any.whl (1.3 MB)\n",
            "\u001b[2K   \u001b[90m━━━━━━━━━━━━━━━━━━━━━━━━━━━━━━━━━━━━━━━━\u001b[0m \u001b[32m1.3/1.3 MB\u001b[0m \u001b[31m7.9 MB/s\u001b[0m eta \u001b[36m0:00:00\u001b[0ma \u001b[36m0:00:01\u001b[0mm\n",
            "\u001b[?25hDownloading pypng-0.20220715.0-py3-none-any.whl (58 kB)\n",
            "\u001b[2K   \u001b[90m━━━━━━━━━━━━━━━━━━━━━━━━━━━━━━━━━━━━━━━━\u001b[0m \u001b[32m58.1/58.1 kB\u001b[0m \u001b[31m5.9 MB/s\u001b[0m eta \u001b[36m0:00:00\u001b[0m\n",
            "\u001b[?25hDownloading rectangle_packer-2.0.2-cp310-cp310-manylinux_2_5_x86_64.manylinux1_x86_64.manylinux_2_17_x86_64.manylinux2014_x86_64.whl (305 kB)\n",
            "\u001b[2K   \u001b[90m━━━━━━━━━━━━━━━━━━━━━━━━━━━━━━━━━━━━━━━━\u001b[0m \u001b[32m305.6/305.6 kB\u001b[0m \u001b[31m8.2 MB/s\u001b[0m eta \u001b[36m0:00:00\u001b[0mta \u001b[36m0:00:01\u001b[0m\n",
            "\u001b[?25hDownloading requests-2.32.3-py3-none-any.whl (64 kB)\n",
            "\u001b[2K   \u001b[90m━━━━━━━━━━━━━━━━━━━━━━━━━━━━━━━━━━━━━━━━\u001b[0m \u001b[32m64.9/64.9 kB\u001b[0m \u001b[31m5.8 MB/s\u001b[0m eta \u001b[36m0:00:00\u001b[0m\n",
            "\u001b[?25hDownloading ruamel.yaml-0.18.6-py3-none-any.whl (117 kB)\n",
            "\u001b[2K   \u001b[90m━━━━━━━━━━━━━━━━━━━━━━━━━━━━━━━━━━━━━━━━\u001b[0m \u001b[32m117.8/117.8 kB\u001b[0m \u001b[31m6.6 MB/s\u001b[0m eta \u001b[36m0:00:00\u001b[0m\n",
            "\u001b[?25hDownloading charset_normalizer-3.3.2-cp310-cp310-manylinux_2_17_x86_64.manylinux2014_x86_64.whl (142 kB)\n",
            "\u001b[2K   \u001b[90m━━━━━━━━━━━━━━━━━━━━━━━━━━━━━━━━━━━━━━━━\u001b[0m \u001b[32m142.1/142.1 kB\u001b[0m \u001b[31m6.8 MB/s\u001b[0m eta \u001b[36m0:00:00\u001b[0m\n",
            "\u001b[?25hDownloading gitdb-4.0.11-py3-none-any.whl (62 kB)\n",
            "\u001b[2K   \u001b[90m━━━━━━━━━━━━━━━━━━━━━━━━━━━━━━━━━━━━━━━━\u001b[0m \u001b[32m62.7/62.7 kB\u001b[0m \u001b[31m6.6 MB/s\u001b[0m eta \u001b[36m0:00:00\u001b[0m\n",
            "\u001b[?25hDownloading idna-3.7-py3-none-any.whl (66 kB)\n",
            "\u001b[2K   \u001b[90m━━━━━━━━━━━━━━━━━━━━━━━━━━━━━━━━━━━━━━━━\u001b[0m \u001b[32m66.8/66.8 kB\u001b[0m \u001b[31m4.6 MB/s\u001b[0m eta \u001b[36m0:00:00\u001b[0m\n",
            "\u001b[?25hDownloading jupyterlab_widgets-3.0.11-py3-none-any.whl (214 kB)\n",
            "\u001b[2K   \u001b[90m━━━━━━━━━━━━━━━━━━━━━━━━━━━━━━━━━━━━━━━━\u001b[0m \u001b[32m214.4/214.4 kB\u001b[0m \u001b[31m6.6 MB/s\u001b[0m eta \u001b[36m0:00:00\u001b[0m\n",
            "\u001b[?25hDownloading ruamel.yaml.clib-0.2.8-cp310-cp310-manylinux_2_17_x86_64.manylinux2014_x86_64.manylinux_2_24_x86_64.whl (526 kB)\n",
            "\u001b[2K   \u001b[90m━━━━━━━━━━━━━━━━━━━━━━━━━━━━━━━━━━━━━━━━\u001b[0m \u001b[32m526.7/526.7 kB\u001b[0m \u001b[31m6.1 MB/s\u001b[0m eta \u001b[36m0:00:00\u001b[0m00:01\u001b[0m:00:01\u001b[0m\n",
            "\u001b[?25hDownloading urllib3-2.2.2-py3-none-any.whl (121 kB)\n",
            "\u001b[2K   \u001b[90m━━━━━━━━━━━━━━━━━━━━━━━━━━━━━━━━━━━━━━━━\u001b[0m \u001b[32m121.4/121.4 kB\u001b[0m \u001b[31m6.9 MB/s\u001b[0m eta \u001b[36m0:00:00\u001b[0m\n",
            "\u001b[?25hDownloading widgetsnbextension-4.0.11-py3-none-any.whl (2.3 MB)\n",
            "\u001b[2K   \u001b[90m━━━━━━━━━━━━━━━━━━━━━━━━━━━━━━━━━━━━━━━━\u001b[0m \u001b[32m2.3/2.3 MB\u001b[0m \u001b[31m7.0 MB/s\u001b[0m eta \u001b[36m0:00:00\u001b[0m00:01\u001b[0m00:01\u001b[0m\n",
            "\u001b[?25hDownloading smmap-5.0.1-py3-none-any.whl (24 kB)\n",
            "Building wheels for collected packages: rectpack\n",
            "  Building wheel for rectpack (setup.py) ... \u001b[?25ldone\n",
            "\u001b[?25h  Created wheel for rectpack: filename=rectpack-0.2.2-py3-none-any.whl size=19334 sha256=23fbc24c357fae4668be987c695da95fe864bc18abdb504d2d6935a225d6a6e7\n",
            "  Stored in directory: /home/fotonica01/.cache/pip/wheels/e9/ea/e9/cd0237c0ccb9cb7312bb94cc023689592c4f07e4f3b1b9dd00\n",
            "Successfully built rectpack\n",
            "Installing collected packages: rectpack, rectangle-packer, pypng, klayout, aenum, widgetsnbextension, watchdog, urllib3, types-PyYAML, trimesh, toolz, tifffile, smmap, shellingham, shapely, ruamel.yaml.clib, qrcode, python-dotenv, pydantic-core, orjson, networkx, mapbox_earcut, loguru, lazy-loader, jupyterlab-widgets, imageio, idna, freetype-py, click, charset-normalizer, cachetools, annotated-types, scikit-image, ruamel.yaml, rich, requests, pydantic, gitdb, typer, pydantic-settings, pydantic-extra-types, gitpython, ipywidgets, kfactory, ipytree, ipyevents, gdsfactory\n",
            "Successfully installed aenum-3.1.15 annotated-types-0.7.0 cachetools-5.4.0 charset-normalizer-3.3.2 click-8.1.7 freetype-py-2.4.0 gdsfactory-8.6.5 gitdb-4.0.11 gitpython-3.1.43 idna-3.7 imageio-2.34.2 ipyevents-2.0.2 ipytree-0.2.2 ipywidgets-8.1.3 jupyterlab-widgets-3.0.11 kfactory-0.18.4 klayout-0.29.5 lazy-loader-0.4 loguru-0.7.2 mapbox_earcut-1.0.2 networkx-3.3 orjson-3.10.6 pydantic-2.8.2 pydantic-core-2.20.1 pydantic-extra-types-2.9.0 pydantic-settings-2.4.0 pypng-0.20220715.0 python-dotenv-1.0.1 qrcode-7.4.2 rectangle-packer-2.0.2 rectpack-0.2.2 requests-2.32.3 rich-13.7.1 ruamel.yaml-0.18.6 ruamel.yaml.clib-0.2.8 scikit-image-0.24.0 shapely-2.0.5 shellingham-1.5.4 smmap-5.0.1 tifffile-2024.7.24 toolz-0.12.1 trimesh-4.4.3 typer-0.12.3 types-PyYAML-6.0.12.20240724 urllib3-2.2.2 watchdog-4.0.1 widgetsnbextension-4.0.11\n"
          ]
        }
      ],
      "source": [
        "!pip install gdsfactory"
      ]
    },
    {
      "cell_type": "code",
      "execution_count": 5,
      "metadata": {
        "colab": {
          "base_uri": "https://localhost:8080/"
        },
        "id": "09Xqe7QCfc9z",
        "outputId": "68c3e1b7-5f75-4f53-f65d-172feab809d9"
      },
      "outputs": [
        {
          "name": "stdout",
          "output_type": "stream",
          "text": [
            "Requirement already satisfied: gdsfactory in ./Miniconda3_Files/envs/mp/lib/python3.10/site-packages (8.6.5)\n",
            "Requirement already satisfied: jinja2<4 in ./Miniconda3_Files/envs/mp/lib/python3.10/site-packages (from gdsfactory) (3.1.4)\n",
            "Requirement already satisfied: loguru<1 in ./Miniconda3_Files/envs/mp/lib/python3.10/site-packages (from gdsfactory) (0.7.2)\n",
            "Requirement already satisfied: matplotlib<4 in ./Miniconda3_Files/envs/mp/lib/python3.10/site-packages (from gdsfactory) (3.9.1)\n",
            "Requirement already satisfied: numpy<2 in ./Miniconda3_Files/envs/mp/lib/python3.10/site-packages (from gdsfactory) (1.26.4)\n",
            "Requirement already satisfied: orjson<4 in ./Miniconda3_Files/envs/mp/lib/python3.10/site-packages (from gdsfactory) (3.10.6)\n",
            "Requirement already satisfied: pandas<3 in ./Miniconda3_Files/envs/mp/lib/python3.10/site-packages (from gdsfactory) (2.2.2)\n",
            "Requirement already satisfied: pydantic<2.9,>=2.6 in ./Miniconda3_Files/envs/mp/lib/python3.10/site-packages (from gdsfactory) (2.8.2)\n",
            "Requirement already satisfied: pydantic-settings<3 in ./Miniconda3_Files/envs/mp/lib/python3.10/site-packages (from gdsfactory) (2.4.0)\n",
            "Requirement already satisfied: pydantic-extra-types<3 in ./Miniconda3_Files/envs/mp/lib/python3.10/site-packages (from gdsfactory) (2.9.0)\n",
            "Requirement already satisfied: pyyaml in ./Miniconda3_Files/envs/mp/lib/python3.10/site-packages (from gdsfactory) (6.0.1)\n",
            "Requirement already satisfied: qrcode in ./Miniconda3_Files/envs/mp/lib/python3.10/site-packages (from gdsfactory) (7.4.2)\n",
            "Requirement already satisfied: rectpack<1 in ./Miniconda3_Files/envs/mp/lib/python3.10/site-packages (from gdsfactory) (0.2.2)\n",
            "Requirement already satisfied: rich<14 in ./Miniconda3_Files/envs/mp/lib/python3.10/site-packages (from gdsfactory) (13.7.1)\n",
            "Requirement already satisfied: scipy<2 in ./Miniconda3_Files/envs/mp/lib/python3.10/site-packages (from gdsfactory) (1.14.0)\n",
            "Requirement already satisfied: shapely<3 in ./Miniconda3_Files/envs/mp/lib/python3.10/site-packages (from gdsfactory) (2.0.5)\n",
            "Requirement already satisfied: toolz<1 in ./Miniconda3_Files/envs/mp/lib/python3.10/site-packages (from gdsfactory) (0.12.1)\n",
            "Requirement already satisfied: types-PyYAML in ./Miniconda3_Files/envs/mp/lib/python3.10/site-packages (from gdsfactory) (6.0.12.20240724)\n",
            "Requirement already satisfied: typer<1 in ./Miniconda3_Files/envs/mp/lib/python3.10/site-packages (from gdsfactory) (0.12.3)\n",
            "Requirement already satisfied: watchdog<5 in ./Miniconda3_Files/envs/mp/lib/python3.10/site-packages (from gdsfactory) (4.0.1)\n",
            "Requirement already satisfied: kfactory==0.18.4 in ./Miniconda3_Files/envs/mp/lib/python3.10/site-packages (from kfactory[ipy]==0.18.4->gdsfactory) (0.18.4)\n",
            "Requirement already satisfied: freetype-py in ./Miniconda3_Files/envs/mp/lib/python3.10/site-packages (from gdsfactory) (2.4.0)\n",
            "Requirement already satisfied: mapbox_earcut in ./Miniconda3_Files/envs/mp/lib/python3.10/site-packages (from gdsfactory) (1.0.2)\n",
            "Requirement already satisfied: networkx in ./Miniconda3_Files/envs/mp/lib/python3.10/site-packages (from gdsfactory) (3.3)\n",
            "Requirement already satisfied: scikit-image in ./Miniconda3_Files/envs/mp/lib/python3.10/site-packages (from gdsfactory) (0.24.0)\n",
            "Requirement already satisfied: trimesh<4.5,>=4.4.1 in ./Miniconda3_Files/envs/mp/lib/python3.10/site-packages (from gdsfactory) (4.4.3)\n",
            "Requirement already satisfied: ipykernel in /home/fotonica01/.local/lib/python3.10/site-packages (from gdsfactory) (6.29.5)\n",
            "Requirement already satisfied: attrs in ./Miniconda3_Files/envs/mp/lib/python3.10/site-packages (from gdsfactory) (24.1.0)\n",
            "Requirement already satisfied: aenum in ./Miniconda3_Files/envs/mp/lib/python3.10/site-packages (from kfactory==0.18.4->kfactory[ipy]==0.18.4->gdsfactory) (3.1.15)\n",
            "Requirement already satisfied: cachetools>=5.2.0 in ./Miniconda3_Files/envs/mp/lib/python3.10/site-packages (from kfactory==0.18.4->kfactory[ipy]==0.18.4->gdsfactory) (5.4.0)\n",
            "Requirement already satisfied: gitpython in ./Miniconda3_Files/envs/mp/lib/python3.10/site-packages (from kfactory==0.18.4->kfactory[ipy]==0.18.4->gdsfactory) (3.1.43)\n",
            "Requirement already satisfied: klayout>=0.29.3 in ./Miniconda3_Files/envs/mp/lib/python3.10/site-packages (from kfactory==0.18.4->kfactory[ipy]==0.18.4->gdsfactory) (0.29.5)\n",
            "Requirement already satisfied: rectangle-packer in ./Miniconda3_Files/envs/mp/lib/python3.10/site-packages (from kfactory==0.18.4->kfactory[ipy]==0.18.4->gdsfactory) (2.0.2)\n",
            "Requirement already satisfied: requests in ./Miniconda3_Files/envs/mp/lib/python3.10/site-packages (from kfactory==0.18.4->kfactory[ipy]==0.18.4->gdsfactory) (2.32.3)\n",
            "Requirement already satisfied: ruamel.yaml in ./Miniconda3_Files/envs/mp/lib/python3.10/site-packages (from kfactory==0.18.4->kfactory[ipy]==0.18.4->gdsfactory) (0.18.6)\n",
            "Requirement already satisfied: tomli in ./Miniconda3_Files/envs/mp/lib/python3.10/site-packages (from kfactory==0.18.4->kfactory[ipy]==0.18.4->gdsfactory) (2.0.1)\n",
            "Requirement already satisfied: ipython in /home/fotonica01/.local/lib/python3.10/site-packages (from kfactory[ipy]==0.18.4->gdsfactory) (8.26.0)\n",
            "Requirement already satisfied: ipywidgets in ./Miniconda3_Files/envs/mp/lib/python3.10/site-packages (from kfactory[ipy]==0.18.4->gdsfactory) (8.1.3)\n",
            "Requirement already satisfied: ipytree in ./Miniconda3_Files/envs/mp/lib/python3.10/site-packages (from kfactory[ipy]==0.18.4->gdsfactory) (0.2.2)\n",
            "Requirement already satisfied: ipyevents in ./Miniconda3_Files/envs/mp/lib/python3.10/site-packages (from kfactory[ipy]==0.18.4->gdsfactory) (2.0.2)\n",
            "Requirement already satisfied: MarkupSafe>=2.0 in ./Miniconda3_Files/envs/mp/lib/python3.10/site-packages (from jinja2<4->gdsfactory) (2.1.5)\n",
            "Requirement already satisfied: contourpy>=1.0.1 in ./Miniconda3_Files/envs/mp/lib/python3.10/site-packages (from matplotlib<4->gdsfactory) (1.2.1)\n",
            "Requirement already satisfied: cycler>=0.10 in ./Miniconda3_Files/envs/mp/lib/python3.10/site-packages (from matplotlib<4->gdsfactory) (0.12.1)\n",
            "Requirement already satisfied: fonttools>=4.22.0 in ./Miniconda3_Files/envs/mp/lib/python3.10/site-packages (from matplotlib<4->gdsfactory) (4.53.1)\n",
            "Requirement already satisfied: kiwisolver>=1.3.1 in ./Miniconda3_Files/envs/mp/lib/python3.10/site-packages (from matplotlib<4->gdsfactory) (1.4.5)\n",
            "Requirement already satisfied: packaging>=20.0 in /home/fotonica01/.local/lib/python3.10/site-packages (from matplotlib<4->gdsfactory) (24.1)\n",
            "Requirement already satisfied: pillow>=8 in ./Miniconda3_Files/envs/mp/lib/python3.10/site-packages (from matplotlib<4->gdsfactory) (10.4.0)\n",
            "Requirement already satisfied: pyparsing>=2.3.1 in ./Miniconda3_Files/envs/mp/lib/python3.10/site-packages (from matplotlib<4->gdsfactory) (3.1.2)\n",
            "Requirement already satisfied: python-dateutil>=2.7 in /home/fotonica01/.local/lib/python3.10/site-packages (from matplotlib<4->gdsfactory) (2.9.0.post0)\n",
            "Requirement already satisfied: pytz>=2020.1 in ./Miniconda3_Files/envs/mp/lib/python3.10/site-packages (from pandas<3->gdsfactory) (2024.1)\n",
            "Requirement already satisfied: tzdata>=2022.7 in ./Miniconda3_Files/envs/mp/lib/python3.10/site-packages (from pandas<3->gdsfactory) (2024.1)\n",
            "Requirement already satisfied: annotated-types>=0.4.0 in ./Miniconda3_Files/envs/mp/lib/python3.10/site-packages (from pydantic<2.9,>=2.6->gdsfactory) (0.7.0)\n",
            "Requirement already satisfied: pydantic-core==2.20.1 in ./Miniconda3_Files/envs/mp/lib/python3.10/site-packages (from pydantic<2.9,>=2.6->gdsfactory) (2.20.1)\n",
            "Requirement already satisfied: typing-extensions>=4.6.1 in /home/fotonica01/.local/lib/python3.10/site-packages (from pydantic<2.9,>=2.6->gdsfactory) (4.12.2)\n",
            "Requirement already satisfied: python-dotenv>=0.21.0 in ./Miniconda3_Files/envs/mp/lib/python3.10/site-packages (from pydantic-settings<3->gdsfactory) (1.0.1)\n",
            "Requirement already satisfied: markdown-it-py>=2.2.0 in ./Miniconda3_Files/envs/mp/lib/python3.10/site-packages (from rich<14->gdsfactory) (3.0.0)\n",
            "Requirement already satisfied: pygments<3.0.0,>=2.13.0 in /home/fotonica01/.local/lib/python3.10/site-packages (from rich<14->gdsfactory) (2.18.0)\n",
            "Requirement already satisfied: click>=8.0.0 in ./Miniconda3_Files/envs/mp/lib/python3.10/site-packages (from typer<1->gdsfactory) (8.1.7)\n",
            "Requirement already satisfied: shellingham>=1.3.0 in ./Miniconda3_Files/envs/mp/lib/python3.10/site-packages (from typer<1->gdsfactory) (1.5.4)\n",
            "Requirement already satisfied: comm>=0.1.1 in /home/fotonica01/.local/lib/python3.10/site-packages (from ipykernel->gdsfactory) (0.2.2)\n",
            "Requirement already satisfied: debugpy>=1.6.5 in /home/fotonica01/.local/lib/python3.10/site-packages (from ipykernel->gdsfactory) (1.8.2)\n",
            "Requirement already satisfied: jupyter-client>=6.1.12 in /home/fotonica01/.local/lib/python3.10/site-packages (from ipykernel->gdsfactory) (8.6.2)\n",
            "Requirement already satisfied: jupyter-core!=5.0.*,>=4.12 in /home/fotonica01/.local/lib/python3.10/site-packages (from ipykernel->gdsfactory) (5.7.2)\n",
            "Requirement already satisfied: matplotlib-inline>=0.1 in /home/fotonica01/.local/lib/python3.10/site-packages (from ipykernel->gdsfactory) (0.1.7)\n",
            "Requirement already satisfied: nest-asyncio in /home/fotonica01/.local/lib/python3.10/site-packages (from ipykernel->gdsfactory) (1.6.0)\n",
            "Requirement already satisfied: psutil in /home/fotonica01/.local/lib/python3.10/site-packages (from ipykernel->gdsfactory) (6.0.0)\n",
            "Requirement already satisfied: pyzmq>=24 in /home/fotonica01/.local/lib/python3.10/site-packages (from ipykernel->gdsfactory) (26.0.3)\n",
            "Requirement already satisfied: tornado>=6.1 in /home/fotonica01/.local/lib/python3.10/site-packages (from ipykernel->gdsfactory) (6.4.1)\n",
            "Requirement already satisfied: traitlets>=5.4.0 in /home/fotonica01/.local/lib/python3.10/site-packages (from ipykernel->gdsfactory) (5.14.3)\n",
            "Requirement already satisfied: pypng in ./Miniconda3_Files/envs/mp/lib/python3.10/site-packages (from qrcode->gdsfactory) (0.20220715.0)\n",
            "Requirement already satisfied: imageio>=2.33 in ./Miniconda3_Files/envs/mp/lib/python3.10/site-packages (from scikit-image->gdsfactory) (2.34.2)\n",
            "Requirement already satisfied: tifffile>=2022.8.12 in ./Miniconda3_Files/envs/mp/lib/python3.10/site-packages (from scikit-image->gdsfactory) (2024.7.24)\n",
            "Requirement already satisfied: lazy-loader>=0.4 in ./Miniconda3_Files/envs/mp/lib/python3.10/site-packages (from scikit-image->gdsfactory) (0.4)\n",
            "Requirement already satisfied: decorator in /home/fotonica01/.local/lib/python3.10/site-packages (from ipython->kfactory[ipy]==0.18.4->gdsfactory) (5.1.1)\n",
            "Requirement already satisfied: jedi>=0.16 in /home/fotonica01/.local/lib/python3.10/site-packages (from ipython->kfactory[ipy]==0.18.4->gdsfactory) (0.19.1)\n",
            "Requirement already satisfied: prompt-toolkit<3.1.0,>=3.0.41 in /home/fotonica01/.local/lib/python3.10/site-packages (from ipython->kfactory[ipy]==0.18.4->gdsfactory) (3.0.47)\n",
            "Requirement already satisfied: stack-data in /home/fotonica01/.local/lib/python3.10/site-packages (from ipython->kfactory[ipy]==0.18.4->gdsfactory) (0.6.3)\n",
            "Requirement already satisfied: exceptiongroup in /home/fotonica01/.local/lib/python3.10/site-packages (from ipython->kfactory[ipy]==0.18.4->gdsfactory) (1.2.2)\n",
            "Requirement already satisfied: pexpect>4.3 in /home/fotonica01/.local/lib/python3.10/site-packages (from ipython->kfactory[ipy]==0.18.4->gdsfactory) (4.9.0)\n",
            "Requirement already satisfied: platformdirs>=2.5 in /home/fotonica01/.local/lib/python3.10/site-packages (from jupyter-core!=5.0.*,>=4.12->ipykernel->gdsfactory) (4.2.2)\n",
            "Requirement already satisfied: mdurl~=0.1 in ./Miniconda3_Files/envs/mp/lib/python3.10/site-packages (from markdown-it-py>=2.2.0->rich<14->gdsfactory) (0.1.2)\n",
            "Requirement already satisfied: six>=1.5 in /home/fotonica01/.local/lib/python3.10/site-packages (from python-dateutil>=2.7->matplotlib<4->gdsfactory) (1.16.0)\n",
            "Requirement already satisfied: gitdb<5,>=4.0.1 in ./Miniconda3_Files/envs/mp/lib/python3.10/site-packages (from gitpython->kfactory==0.18.4->kfactory[ipy]==0.18.4->gdsfactory) (4.0.11)\n",
            "Requirement already satisfied: widgetsnbextension~=4.0.11 in ./Miniconda3_Files/envs/mp/lib/python3.10/site-packages (from ipywidgets->kfactory[ipy]==0.18.4->gdsfactory) (4.0.11)\n",
            "Requirement already satisfied: jupyterlab-widgets~=3.0.11 in ./Miniconda3_Files/envs/mp/lib/python3.10/site-packages (from ipywidgets->kfactory[ipy]==0.18.4->gdsfactory) (3.0.11)\n",
            "Requirement already satisfied: charset-normalizer<4,>=2 in ./Miniconda3_Files/envs/mp/lib/python3.10/site-packages (from requests->kfactory==0.18.4->kfactory[ipy]==0.18.4->gdsfactory) (3.3.2)\n",
            "Requirement already satisfied: idna<4,>=2.5 in ./Miniconda3_Files/envs/mp/lib/python3.10/site-packages (from requests->kfactory==0.18.4->kfactory[ipy]==0.18.4->gdsfactory) (3.7)\n",
            "Requirement already satisfied: urllib3<3,>=1.21.1 in ./Miniconda3_Files/envs/mp/lib/python3.10/site-packages (from requests->kfactory==0.18.4->kfactory[ipy]==0.18.4->gdsfactory) (2.2.2)\n",
            "Requirement already satisfied: certifi>=2017.4.17 in ./Miniconda3_Files/envs/mp/lib/python3.10/site-packages (from requests->kfactory==0.18.4->kfactory[ipy]==0.18.4->gdsfactory) (2024.7.4)\n",
            "Requirement already satisfied: ruamel.yaml.clib>=0.2.7 in ./Miniconda3_Files/envs/mp/lib/python3.10/site-packages (from ruamel.yaml->kfactory==0.18.4->kfactory[ipy]==0.18.4->gdsfactory) (0.2.8)\n",
            "\u001b[33mWARNING: typer 0.12.3 does not provide the extra 'all'\u001b[0m\u001b[33m\n",
            "\u001b[0mRequirement already satisfied: smmap<6,>=3.0.1 in ./Miniconda3_Files/envs/mp/lib/python3.10/site-packages (from gitdb<5,>=4.0.1->gitpython->kfactory==0.18.4->kfactory[ipy]==0.18.4->gdsfactory) (5.0.1)\n",
            "Requirement already satisfied: parso<0.9.0,>=0.8.3 in /home/fotonica01/.local/lib/python3.10/site-packages (from jedi>=0.16->ipython->kfactory[ipy]==0.18.4->gdsfactory) (0.8.4)\n",
            "Requirement already satisfied: ptyprocess>=0.5 in /home/fotonica01/.local/lib/python3.10/site-packages (from pexpect>4.3->ipython->kfactory[ipy]==0.18.4->gdsfactory) (0.7.0)\n",
            "Requirement already satisfied: wcwidth in /home/fotonica01/.local/lib/python3.10/site-packages (from prompt-toolkit<3.1.0,>=3.0.41->ipython->kfactory[ipy]==0.18.4->gdsfactory) (0.2.13)\n",
            "Requirement already satisfied: executing>=1.2.0 in /home/fotonica01/.local/lib/python3.10/site-packages (from stack-data->ipython->kfactory[ipy]==0.18.4->gdsfactory) (2.0.1)\n",
            "Requirement already satisfied: asttokens>=2.1.0 in /home/fotonica01/.local/lib/python3.10/site-packages (from stack-data->ipython->kfactory[ipy]==0.18.4->gdsfactory) (2.4.1)\n",
            "Requirement already satisfied: pure-eval in /home/fotonica01/.local/lib/python3.10/site-packages (from stack-data->ipython->kfactory[ipy]==0.18.4->gdsfactory) (0.2.3)\n"
          ]
        }
      ],
      "source": [
        "!pip install gdsfactory --upgrade"
      ]
    },
    {
      "cell_type": "code",
      "execution_count": null,
      "metadata": {
        "colab": {
          "base_uri": "https://localhost:8080/"
        },
        "id": "nWCqbuLxfdAN",
        "outputId": "aa492afa-068c-4876-8a09-d927c3e1ec1c"
      },
      "outputs": [
        {
          "name": "stdout",
          "output_type": "stream",
          "text": [
            "\n",
            "                  __    __    __    __\n",
            "                 /  \\  /  \\  /  \\  /  \\\n",
            "                /    \\/    \\/    \\/    \\\n",
            "███████████████/  /██/  /██/  /██/  /████████████████████████\n",
            "              /  / \\   / \\   / \\   / \\  \\____\n",
            "             /  /   \\_/   \\_/   \\_/   \\    o \\__,\n",
            "            / _/                       \\_____/  `\n",
            "            |/\n",
            "        ███╗   ███╗ █████╗ ███╗   ███╗██████╗  █████╗\n",
            "        ████╗ ████║██╔══██╗████╗ ████║██╔══██╗██╔══██╗\n",
            "        ██╔████╔██║███████║██╔████╔██║██████╔╝███████║\n",
            "        ██║╚██╔╝██║██╔══██║██║╚██╔╝██║██╔══██╗██╔══██║\n",
            "        ██║ ╚═╝ ██║██║  ██║██║ ╚═╝ ██║██████╔╝██║  ██║\n",
            "        ╚═╝     ╚═╝╚═╝  ╚═╝╚═╝     ╚═╝╚═════╝ ╚═╝  ╚═╝\n",
            "\n",
            "        mamba (0.25.0) supported by @QuantStack\n",
            "\n",
            "        GitHub:  https://github.com/mamba-org/mamba\n",
            "        Twitter: https://twitter.com/QuantStack\n",
            "\n",
            "█████████████████████████████████████████████████████████████\n",
            "\n",
            "\n",
            "Looking for: ['pymeep=[build=mpi_mpich_*]']\n",
            "\n",
            "conda-forge/linux-64                                        Using cache\n",
            "conda-forge/noarch                                          Using cache\n",
            "\n",
            "Pinned packages:\n",
            "  - python 3.7.*\n",
            "  - python 3.7.*\n",
            "  - python_abi 3.7.* *cp37*\n",
            "  - cudatoolkit 11.2.*\n",
            "\n",
            "\n",
            "Transaction\n",
            "\n",
            "  Prefix: /usr/local\n",
            "\n",
            "  Updating specs:\n",
            "\n",
            "   - pymeep=*[build=mpi_mpich_*]\n",
            "   - ca-certificates\n",
            "   - certifi\n",
            "   - openssl\n",
            "\n",
            "\n",
            "  Package            Version  Build                     Channel                   Size\n",
            "────────────────────────────────────────────────────────────────────────────────────────\n",
            "  Install:\n",
            "────────────────────────────────────────────────────────────────────────────────────────\n",
            "\n",
            "\u001b[32m  + cached-property\u001b[00m    1.5.2  hd8ed1ab_1                conda-forge/noarch         4kB\n",
            "\u001b[32m  + cached_property\u001b[00m    1.5.2  pyha770c72_1              conda-forge/noarch        11kB\n",
            "\u001b[32m  + fftw           \u001b[00m   3.3.10  mpi_mpich_h3e343da_5      conda-forge/linux-64       2MB\n",
            "\u001b[32m  + gsl            \u001b[00m      2.7  he838d99_0                conda-forge/linux-64       3MB\n",
            "\u001b[32m  + h5py           \u001b[00m    3.7.0  mpi_mpich_py37hc1f56ba_0  conda-forge/linux-64       1MB\n",
            "\u001b[32m  + harminv        \u001b[00m    1.4.1  hbf3b5f1_1007             conda-forge/linux-64      54kB\n",
            "\u001b[32m  + hdf5           \u001b[00m   1.12.1  mpi_mpich_h08b82f9_4      conda-forge/linux-64       4MB\n",
            "\u001b[32m  + libctl         \u001b[00m    4.5.1  h7f98852_0                conda-forge/linux-64     117kB\n",
            "\u001b[32m  + libgdsii       \u001b[00m     0.21  h4bd325d_4                conda-forge/linux-64      87kB\n",
            "\u001b[32m  + mpb            \u001b[00m   1.11.1  mpi_mpich_h6f879dd_4      conda-forge/linux-64      67kB\n",
            "\u001b[32m  + mpi            \u001b[00m      1.0  mpich                     conda-forge/linux-64       4kB\n",
            "\u001b[32m  + mpi4py         \u001b[00m    3.1.3  py37h52370cb_2            conda-forge/linux-64     617kB\n",
            "\u001b[32m  + mpich          \u001b[00m    4.0.3  h846660c_100              conda-forge/linux-64       6MB\n",
            "\u001b[32m  + pymeep         \u001b[00m   1.24.0  mpi_mpich_py37h1234567_1  conda-forge/linux-64       2MB\n",
            "\u001b[32m  + zlib           \u001b[00m   1.2.12  h166bdaf_2                conda-forge/linux-64      93kB\n",
            "\n",
            "  Summary:\n",
            "\n",
            "  Install: 15 packages\n",
            "\n",
            "  Total download: 20MB\n",
            "\n",
            "────────────────────────────────────────────────────────────────────────────────────────\n",
            "\n",
            "\u001b[?25l\u001b[2K\u001b[0G[+] 0.0s\n",
            "Downloading  (5)   0%\n",
            "Extracting         0%\u001b[2K\u001b[1A\u001b[2K\u001b[1A\u001b[2K\u001b[0G[+] 0.1s\n",
            "Downloading  (5)   0%\n",
            "Extracting         0%\u001b[2K\u001b[1A\u001b[2K\u001b[1A\u001b[2K\u001b[0G[+] 0.2s\n",
            "Downloading  (5)   0%\n",
            "Extracting         0%\u001b[2K\u001b[1A\u001b[2K\u001b[1A\u001b[2K\u001b[0Gzlib                                                93.2kB @ 450.1kB/s  0.2s\n",
            "[+] 0.3s\n",
            "Downloading  (5)   1%\n",
            "Extracting   (1)  ⣾  \u001b[2K\u001b[1A\u001b[2K\u001b[1A\u001b[2K\u001b[0Glibctl                                             117.0kB @ 363.0kB/s  0.3s\n",
            "mpb                                                 67.4kB @ 204.1kB/s  0.1s\n",
            "harminv                                             53.8kB @ 151.5kB/s  0.4s\n",
            "gsl                                                  3.4MB @   8.5MB/s  0.4s\n",
            "[+] 0.4s\n",
            "Downloading  (5)  19%\n",
            "Extracting   (4)  ⣾  \u001b[2K\u001b[1A\u001b[2K\u001b[1A\u001b[2K\u001b[0G[+] 0.5s\n",
            "Downloading  (5)  19%\n",
            "Extracting   (5)  ⣾  \u001b[2K\u001b[1A\u001b[2K\u001b[1A\u001b[2K\u001b[0Glibgdsii                                            86.7kB @ 151.6kB/s  0.6s\n",
            "[+] 0.6s\n",
            "Downloading  (5)  20%\n",
            "Extracting   (5)  ⣾  \u001b[2K\u001b[1A\u001b[2K\u001b[1A\u001b[2K\u001b[0G[+] 0.7s\n",
            "Downloading  (5)  21%\n",
            "Extracting   (5)  ⣾  \u001b[2K\u001b[1A\u001b[2K\u001b[1A\u001b[2K\u001b[0Gh5py                                                 1.3MB @   1.7MB/s  0.5s\n",
            "[+] 0.8s\n",
            "Downloading  (5)  29%\n",
            "Extracting   (5)  ⣾  \u001b[2K\u001b[1A\u001b[2K\u001b[1A\u001b[2K\u001b[0G[+] 0.9s\n",
            "Downloading  (5)  34%\n",
            "Extracting   (6)  ⣾  \u001b[2K\u001b[1A\u001b[2K\u001b[1A\u001b[2K\u001b[0Gmpi                                                  4.2kB @   4.6kB/s  0.1s\n",
            "cached-property                                      4.1kB @   4.4kB/s  0.0s\n",
            "[+] 1.0s\n",
            "Downloading  (5)  39%\n",
            "Extracting   (7)  ⣾  \u001b[2K\u001b[1A\u001b[2K\u001b[1A\u001b[2K\u001b[0G[+] 1.1s\n",
            "Downloading  (5)  44%\n",
            "Extracting   (7)  ⣾  \u001b[2K\u001b[1A\u001b[2K\u001b[1A\u001b[2K\u001b[0G[+] 1.2s\n",
            "Downloading  (5)  52%\n",
            "Extracting   (7)  ⣾  \u001b[2K\u001b[1A\u001b[2K\u001b[1A\u001b[2K\u001b[0Gmpi4py                                             616.8kB @ 499.8kB/s  0.3s\n",
            "[+] 1.3s\n",
            "Downloading  (5)  61%\n",
            "Extracting   (8)  ⣾  \u001b[2K\u001b[1A\u001b[2K\u001b[1A\u001b[2K\u001b[0Gcached_property                                     11.1kB @   8.5kB/s  0.1s\n",
            "hdf5                                                 3.9MB @   2.9MB/s  0.7s\n",
            "[+] 1.4s\n",
            "Downloading  (3)  64%\n",
            "Extracting  (10)  ⣾  \u001b[2K\u001b[1A\u001b[2K\u001b[1A\u001b[2K\u001b[0Gpymeep                                               2.0MB @   1.3MB/s  1.1s\n",
            "[+] 1.5s\n",
            "Downloading  (2)  67%\n",
            "Extracting  (11)  ⣾  \u001b[2K\u001b[1A\u001b[2K\u001b[1A\u001b[2K\u001b[0Gfftw                                                 2.4MB @   1.5MB/s  1.2s\n",
            "[+] 1.6s\n",
            "Downloading  (1)  79%\n",
            "Extracting  (11)  ⣾  \u001b[2K\u001b[1A\u001b[2K\u001b[1A\u001b[2K\u001b[0G[+] 1.7s\n",
            "Downloading  (1)  86%\n",
            "Extracting  (11)  ⣾  \u001b[2K\u001b[1A\u001b[2K\u001b[1A\u001b[2K\u001b[0Gmpich                                                6.3MB @   3.5MB/s  1.4s\n",
            "[+] 1.8s\n",
            "Downloading      100%\n",
            "Extracting  (12)  ⣾  \u001b[2K\u001b[1A\u001b[2K\u001b[1A\u001b[2K\u001b[0G[+] 1.9s\n",
            "Downloading      100%\n",
            "Extracting  (12)  ⣾  \u001b[2K\u001b[1A\u001b[2K\u001b[1A\u001b[2K\u001b[0G[+] 2.0s\n",
            "Downloading      100%\n",
            "Extracting  (11)  ⣾  \u001b[2K\u001b[1A\u001b[2K\u001b[1A\u001b[2K\u001b[0G[+] 2.1s\n",
            "Downloading      100%\n",
            "Extracting  (11)  ⣾  \u001b[2K\u001b[1A\u001b[2K\u001b[1A\u001b[2K\u001b[0G[+] 2.2s\n",
            "Downloading      100%\n",
            "Extracting  (11)  ⣾  \u001b[2K\u001b[1A\u001b[2K\u001b[1A\u001b[2K\u001b[0G[+] 2.3s\n",
            "Downloading      100%\n",
            "Extracting  (11)  ⣾  \u001b[2K\u001b[1A\u001b[2K\u001b[1A\u001b[2K\u001b[0G[+] 2.4s\n",
            "Downloading      100%\n",
            "Extracting  (11)  ⣾  \u001b[2K\u001b[1A\u001b[2K\u001b[1A\u001b[2K\u001b[0G[+] 2.5s\n",
            "Downloading      100%\n",
            "Extracting  (11)  ⣾  \u001b[2K\u001b[1A\u001b[2K\u001b[1A\u001b[2K\u001b[0G[+] 2.6s\n",
            "Downloading      100%\n",
            "Extracting  (11)  ⣾  \u001b[2K\u001b[1A\u001b[2K\u001b[1A\u001b[2K\u001b[0G[+] 2.7s\n",
            "Downloading      100%\n",
            "Extracting  (11)  ⣾  \u001b[2K\u001b[1A\u001b[2K\u001b[1A\u001b[2K\u001b[0G[+] 2.8s\n",
            "Downloading      100%\n",
            "Extracting   (9)  ⣾  \u001b[2K\u001b[1A\u001b[2K\u001b[1A\u001b[2K\u001b[0G[+] 2.9s\n",
            "Downloading      100%\n",
            "Extracting   (9)  ⣾  \u001b[2K\u001b[1A\u001b[2K\u001b[1A\u001b[2K\u001b[0G[+] 3.0s\n",
            "Downloading      100%\n",
            "Extracting   (9)  ⣾  \u001b[2K\u001b[1A\u001b[2K\u001b[1A\u001b[2K\u001b[0G[+] 3.1s\n",
            "Downloading      100%\n",
            "Extracting   (9)  ⣾  \u001b[2K\u001b[1A\u001b[2K\u001b[1A\u001b[2K\u001b[0G[+] 3.2s\n",
            "Downloading      100%\n",
            "Extracting   (9)  ⣾  \u001b[2K\u001b[1A\u001b[2K\u001b[1A\u001b[2K\u001b[0G[+] 3.3s\n",
            "Downloading      100%\n",
            "Extracting   (9)  ⣾  \u001b[2K\u001b[1A\u001b[2K\u001b[1A\u001b[2K\u001b[0G[+] 3.4s\n",
            "Downloading      100%\n",
            "Extracting   (8)  ⣾  \u001b[2K\u001b[1A\u001b[2K\u001b[1A\u001b[2K\u001b[0G[+] 3.5s\n",
            "Downloading      100%\n",
            "Extracting   (8)  ⣾  \u001b[2K\u001b[1A\u001b[2K\u001b[1A\u001b[2K\u001b[0G[+] 3.6s\n",
            "Downloading      100%\n",
            "Extracting   (8)  ⣾  \u001b[2K\u001b[1A\u001b[2K\u001b[1A\u001b[2K\u001b[0G[+] 3.7s\n",
            "Downloading      100%\n",
            "Extracting   (8)  ⣾  \u001b[2K\u001b[1A\u001b[2K\u001b[1A\u001b[2K\u001b[0G[+] 3.8s\n",
            "Downloading      100%\n",
            "Extracting   (7)  ⣾  \u001b[2K\u001b[1A\u001b[2K\u001b[1A\u001b[2K\u001b[0G[+] 3.9s\n",
            "Downloading      100%\n",
            "Extracting   (7)  ⣾  \u001b[2K\u001b[1A\u001b[2K\u001b[1A\u001b[2K\u001b[0G[+] 4.0s\n",
            "Downloading      100%\n",
            "Extracting   (7)  ⣾  \u001b[2K\u001b[1A\u001b[2K\u001b[1A\u001b[2K\u001b[0G[+] 4.1s\n",
            "Downloading      100%\n",
            "Extracting   (6)  ⣾  \u001b[2K\u001b[1A\u001b[2K\u001b[1A\u001b[2K\u001b[0G[+] 4.2s\n",
            "Downloading      100%\n",
            "Extracting   (6)  ⣾  \u001b[2K\u001b[1A\u001b[2K\u001b[1A\u001b[2K\u001b[0G[+] 4.3s\n",
            "Downloading      100%\n",
            "Extracting   (6)  ⣾  \u001b[2K\u001b[1A\u001b[2K\u001b[1A\u001b[2K\u001b[0G[+] 4.4s\n",
            "Downloading      100%\n",
            "Extracting   (5)  ⣾  \u001b[2K\u001b[1A\u001b[2K\u001b[1A\u001b[2K\u001b[0G[+] 4.5s\n",
            "Downloading      100%\n",
            "Extracting   (5)  ⣾  \u001b[2K\u001b[1A\u001b[2K\u001b[1A\u001b[2K\u001b[0G[+] 4.6s\n",
            "Downloading      100%\n",
            "Extracting   (5)  ⣾  \u001b[2K\u001b[1A\u001b[2K\u001b[1A\u001b[2K\u001b[0G[+] 4.7s\n",
            "Downloading      100%\n",
            "Extracting   (4)  ⣾  \u001b[2K\u001b[1A\u001b[2K\u001b[1A\u001b[2K\u001b[0G[+] 4.8s\n",
            "Downloading      100%\n",
            "Extracting   (4)  ⣾  \u001b[2K\u001b[1A\u001b[2K\u001b[1A\u001b[2K\u001b[0G[+] 4.9s\n",
            "Downloading      100%\n",
            "Extracting   (3)  ⣾  \u001b[2K\u001b[1A\u001b[2K\u001b[1A\u001b[2K\u001b[0G[+] 5.0s\n",
            "Downloading      100%\n",
            "Extracting   (3)  ⣾  \u001b[2K\u001b[1A\u001b[2K\u001b[1A\u001b[2K\u001b[0G[+] 5.1s\n",
            "Downloading      100%\n",
            "Extracting   (3)  ⣾  \u001b[2K\u001b[1A\u001b[2K\u001b[1A\u001b[2K\u001b[0G[+] 5.2s\n",
            "Downloading      100%\n",
            "Extracting   (3)  ⣾  \u001b[2K\u001b[1A\u001b[2K\u001b[1A\u001b[2K\u001b[0G[+] 5.3s\n",
            "Downloading      100%\n",
            "Extracting   (3)  ⣾  \u001b[2K\u001b[1A\u001b[2K\u001b[1A\u001b[2K\u001b[0G[+] 5.4s\n",
            "Downloading      100%\n",
            "Extracting   (3)  ⣾  \u001b[2K\u001b[1A\u001b[2K\u001b[1A\u001b[2K\u001b[0G[+] 5.5s\n",
            "Downloading      100%\n",
            "Extracting   (3)  ⣾  \u001b[2K\u001b[1A\u001b[2K\u001b[1A\u001b[2K\u001b[0G[+] 5.6s\n",
            "Downloading      100%\n",
            "Extracting   (2)  ⣾  \u001b[2K\u001b[1A\u001b[2K\u001b[1A\u001b[2K\u001b[0G[+] 5.7s\n",
            "Downloading      100%\n",
            "Extracting   (2)  ⣾  \u001b[2K\u001b[1A\u001b[2K\u001b[1A\u001b[2K\u001b[0G[+] 5.8s\n",
            "Downloading      100%\n",
            "Extracting   (1)  ⣾  \u001b[2K\u001b[1A\u001b[2K\u001b[1A\u001b[2K\u001b[0G[+] 5.9s\n",
            "Downloading      100%\n",
            "Extracting   (1)  ⣾  \u001b[2K\u001b[1A\u001b[2K\u001b[1A\u001b[2K\u001b[0G[+] 6.0s\n",
            "Downloading      100%\n",
            "Extracting   (1)  ⣾  \u001b[2K\u001b[1A\u001b[2K\u001b[1A\u001b[2K\u001b[0G[+] 6.1s\n",
            "Downloading      100%\n",
            "Extracting   (1)  ⣾  \u001b[2K\u001b[1A\u001b[2K\u001b[1A\u001b[2K\u001b[0G[+] 6.2s\n",
            "Downloading      100%\n",
            "Extracting   (1)  ⣾  \u001b[2K\u001b[1A\u001b[2K\u001b[1A\u001b[2K\u001b[0G[+] 6.3s\n",
            "Downloading      100%\n",
            "Extracting   (1)  ⣾  \u001b[2K\u001b[1A\u001b[2K\u001b[1A\u001b[2K\u001b[0G\u001b[?25hPreparing transaction: - \b\bdone\n",
            "Verifying transaction: | \b\b/ \b\b- \b\b\\ \b\b| \b\b/ \b\bdone\n",
            "Executing transaction: \\ \b\b| \b\b/ \b\b- \b\b\\ \b\b| \b\b/ \b\bdone\n"
          ]
        }
      ],
      "source": [
        " !mamba install pymeep=*=mpi_mpich_* -y"
      ]
    },
    {
      "cell_type": "code",
      "execution_count": 4,
      "metadata": {
        "colab": {
          "base_uri": "https://localhost:8080/",
          "height": 1000
        },
        "id": "TDpnlugSfdCJ",
        "outputId": "d3701dda-f35e-4a19-f5d5-600b04aa8f29"
      },
      "outputs": [
        {
          "name": "stdout",
          "output_type": "stream",
          "text": [
            "Requirement already satisfied: gdsfactory[full] in ./Miniconda3_Files/envs/mp/lib/python3.10/site-packages (8.6.5)\n",
            "Requirement already satisfied: jinja2<4 in ./Miniconda3_Files/envs/mp/lib/python3.10/site-packages (from gdsfactory[full]) (3.1.4)\n",
            "Requirement already satisfied: loguru<1 in ./Miniconda3_Files/envs/mp/lib/python3.10/site-packages (from gdsfactory[full]) (0.7.2)\n",
            "Requirement already satisfied: matplotlib<4 in ./Miniconda3_Files/envs/mp/lib/python3.10/site-packages (from gdsfactory[full]) (3.9.1)\n",
            "Requirement already satisfied: numpy<2 in ./Miniconda3_Files/envs/mp/lib/python3.10/site-packages (from gdsfactory[full]) (1.26.4)\n",
            "Requirement already satisfied: orjson<4 in ./Miniconda3_Files/envs/mp/lib/python3.10/site-packages (from gdsfactory[full]) (3.10.6)\n",
            "Requirement already satisfied: pandas<3 in ./Miniconda3_Files/envs/mp/lib/python3.10/site-packages (from gdsfactory[full]) (1.5.3)\n",
            "Requirement already satisfied: pydantic<2.9,>=2.6 in ./Miniconda3_Files/envs/mp/lib/python3.10/site-packages (from gdsfactory[full]) (2.8.2)\n",
            "Requirement already satisfied: pydantic-settings<3 in ./Miniconda3_Files/envs/mp/lib/python3.10/site-packages (from gdsfactory[full]) (2.4.0)\n",
            "Requirement already satisfied: pydantic-extra-types<3 in ./Miniconda3_Files/envs/mp/lib/python3.10/site-packages (from gdsfactory[full]) (2.9.0)\n",
            "Requirement already satisfied: pyyaml in ./Miniconda3_Files/envs/mp/lib/python3.10/site-packages (from gdsfactory[full]) (6.0.1)\n",
            "Requirement already satisfied: qrcode in ./Miniconda3_Files/envs/mp/lib/python3.10/site-packages (from gdsfactory[full]) (7.4.2)\n",
            "Requirement already satisfied: rectpack<1 in ./Miniconda3_Files/envs/mp/lib/python3.10/site-packages (from gdsfactory[full]) (0.2.2)\n",
            "Requirement already satisfied: rich<14 in ./Miniconda3_Files/envs/mp/lib/python3.10/site-packages (from gdsfactory[full]) (13.7.1)\n",
            "Requirement already satisfied: scipy<2 in ./Miniconda3_Files/envs/mp/lib/python3.10/site-packages (from gdsfactory[full]) (1.14.0)\n",
            "Requirement already satisfied: shapely<3 in ./Miniconda3_Files/envs/mp/lib/python3.10/site-packages (from gdsfactory[full]) (2.0.5)\n",
            "Requirement already satisfied: toolz<1 in ./Miniconda3_Files/envs/mp/lib/python3.10/site-packages (from gdsfactory[full]) (0.12.1)\n",
            "Requirement already satisfied: types-PyYAML in ./Miniconda3_Files/envs/mp/lib/python3.10/site-packages (from gdsfactory[full]) (6.0.12.20240724)\n",
            "Requirement already satisfied: typer<1 in ./Miniconda3_Files/envs/mp/lib/python3.10/site-packages (from gdsfactory[full]) (0.12.3)\n",
            "Requirement already satisfied: watchdog<5 in ./Miniconda3_Files/envs/mp/lib/python3.10/site-packages (from gdsfactory[full]) (4.0.1)\n",
            "Requirement already satisfied: kfactory==0.18.4 in ./Miniconda3_Files/envs/mp/lib/python3.10/site-packages (from kfactory[ipy]==0.18.4->gdsfactory[full]) (0.18.4)\n",
            "Requirement already satisfied: freetype-py in ./Miniconda3_Files/envs/mp/lib/python3.10/site-packages (from gdsfactory[full]) (2.4.0)\n",
            "Requirement already satisfied: mapbox_earcut in ./Miniconda3_Files/envs/mp/lib/python3.10/site-packages (from gdsfactory[full]) (1.0.2)\n",
            "Requirement already satisfied: networkx in ./Miniconda3_Files/envs/mp/lib/python3.10/site-packages (from gdsfactory[full]) (3.3)\n",
            "Requirement already satisfied: scikit-image in ./Miniconda3_Files/envs/mp/lib/python3.10/site-packages (from gdsfactory[full]) (0.24.0)\n",
            "Requirement already satisfied: trimesh<4.5,>=4.4.1 in ./Miniconda3_Files/envs/mp/lib/python3.10/site-packages (from gdsfactory[full]) (4.4.3)\n",
            "Requirement already satisfied: ipykernel in /home/fotonica01/.local/lib/python3.10/site-packages (from gdsfactory[full]) (6.29.5)\n",
            "Requirement already satisfied: attrs in ./Miniconda3_Files/envs/mp/lib/python3.10/site-packages (from gdsfactory[full]) (24.1.0)\n",
            "Requirement already satisfied: gplugins<2,>=1 in ./Miniconda3_Files/envs/mp/lib/python3.10/site-packages (from gplugins[devsim,femwell,gmsh,meow,sax,schematic,tidy3d,vlsir]<2,>=1; extra == \"full\"->gdsfactory[full]) (1.1.0)\n",
            "Requirement already satisfied: scikit-rf in ./Miniconda3_Files/envs/mp/lib/python3.10/site-packages (from gdsfactory[full]) (1.2.0)\n",
            "Requirement already satisfied: omegaconf in ./Miniconda3_Files/envs/mp/lib/python3.10/site-packages (from gdsfactory[full]) (2.3.0)\n",
            "Requirement already satisfied: autograd in ./Miniconda3_Files/envs/mp/lib/python3.10/site-packages (from gdsfactory[full]) (1.6.2)\n",
            "Requirement already satisfied: aenum in ./Miniconda3_Files/envs/mp/lib/python3.10/site-packages (from kfactory==0.18.4->kfactory[ipy]==0.18.4->gdsfactory[full]) (3.1.15)\n",
            "Requirement already satisfied: cachetools>=5.2.0 in ./Miniconda3_Files/envs/mp/lib/python3.10/site-packages (from kfactory==0.18.4->kfactory[ipy]==0.18.4->gdsfactory[full]) (5.4.0)\n",
            "Requirement already satisfied: gitpython in ./Miniconda3_Files/envs/mp/lib/python3.10/site-packages (from kfactory==0.18.4->kfactory[ipy]==0.18.4->gdsfactory[full]) (3.1.43)\n",
            "Requirement already satisfied: klayout>=0.29.3 in ./Miniconda3_Files/envs/mp/lib/python3.10/site-packages (from kfactory==0.18.4->kfactory[ipy]==0.18.4->gdsfactory[full]) (0.29.5)\n",
            "Requirement already satisfied: rectangle-packer in ./Miniconda3_Files/envs/mp/lib/python3.10/site-packages (from kfactory==0.18.4->kfactory[ipy]==0.18.4->gdsfactory[full]) (2.0.2)\n",
            "Requirement already satisfied: requests in ./Miniconda3_Files/envs/mp/lib/python3.10/site-packages (from kfactory==0.18.4->kfactory[ipy]==0.18.4->gdsfactory[full]) (2.32.3)\n",
            "Requirement already satisfied: ruamel.yaml in ./Miniconda3_Files/envs/mp/lib/python3.10/site-packages (from kfactory==0.18.4->kfactory[ipy]==0.18.4->gdsfactory[full]) (0.18.6)\n",
            "Requirement already satisfied: tomli in ./Miniconda3_Files/envs/mp/lib/python3.10/site-packages (from kfactory==0.18.4->kfactory[ipy]==0.18.4->gdsfactory[full]) (2.0.1)\n",
            "Requirement already satisfied: ipython in /home/fotonica01/.local/lib/python3.10/site-packages (from kfactory[ipy]==0.18.4->gdsfactory[full]) (8.26.0)\n",
            "Requirement already satisfied: ipywidgets in ./Miniconda3_Files/envs/mp/lib/python3.10/site-packages (from kfactory[ipy]==0.18.4->gdsfactory[full]) (8.1.3)\n",
            "Requirement already satisfied: ipytree in ./Miniconda3_Files/envs/mp/lib/python3.10/site-packages (from kfactory[ipy]==0.18.4->gdsfactory[full]) (0.2.2)\n",
            "Requirement already satisfied: ipyevents in ./Miniconda3_Files/envs/mp/lib/python3.10/site-packages (from kfactory[ipy]==0.18.4->gdsfactory[full]) (2.0.2)\n",
            "Requirement already satisfied: pint in ./Miniconda3_Files/envs/mp/lib/python3.10/site-packages (from gplugins<2,>=1->gplugins[devsim,femwell,gmsh,meow,sax,schematic,tidy3d,vlsir]<2,>=1; extra == \"full\"->gdsfactory[full]) (0.24.3)\n",
            "Requirement already satisfied: gdstk in ./Miniconda3_Files/envs/mp/lib/python3.10/site-packages (from gplugins<2,>=1->gplugins[devsim,femwell,gmsh,meow,sax,schematic,tidy3d,vlsir]<2,>=1; extra == \"full\"->gdsfactory[full]) (0.9.53)\n",
            "Requirement already satisfied: tqdm in ./Miniconda3_Files/envs/mp/lib/python3.10/site-packages (from gplugins<2,>=1->gplugins[devsim,femwell,gmsh,meow,sax,schematic,tidy3d,vlsir]<2,>=1; extra == \"full\"->gdsfactory[full]) (4.66.5)\n",
            "Requirement already satisfied: gmsh==4.13.0 in ./Miniconda3_Files/envs/mp/lib/python3.10/site-packages (from gplugins[devsim,femwell,gmsh,meow,sax,schematic,tidy3d,vlsir]<2,>=1; extra == \"full\"->gdsfactory[full]) (4.13.0)\n",
            "Requirement already satisfied: h5py in ./Miniconda3_Files/envs/mp/lib/python3.10/site-packages (from gplugins[devsim,femwell,gmsh,meow,sax,schematic,tidy3d,vlsir]<2,>=1; extra == \"full\"->gdsfactory[full]) (3.10.0)\n",
            "Requirement already satisfied: meshio in ./Miniconda3_Files/envs/mp/lib/python3.10/site-packages (from gplugins[devsim,femwell,gmsh,meow,sax,schematic,tidy3d,vlsir]<2,>=1; extra == \"full\"->gdsfactory[full]) (5.3.5)\n",
            "Requirement already satisfied: pygmsh in ./Miniconda3_Files/envs/mp/lib/python3.10/site-packages (from gplugins[devsim,femwell,gmsh,meow,sax,schematic,tidy3d,vlsir]<2,>=1; extra == \"full\"->gdsfactory[full]) (7.1.17)\n",
            "Requirement already satisfied: pyvista<=0.43.8 in ./Miniconda3_Files/envs/mp/lib/python3.10/site-packages (from gplugins[devsim,femwell,gmsh,meow,sax,schematic,tidy3d,vlsir]<2,>=1; extra == \"full\"->gdsfactory[full]) (0.43.8)\n",
            "Requirement already satisfied: meshwell<=1.1,>=1.0.7 in ./Miniconda3_Files/envs/mp/lib/python3.10/site-packages (from gplugins[devsim,femwell,gmsh,meow,sax,schematic,tidy3d,vlsir]<2,>=1; extra == \"full\"->gdsfactory[full]) (1.0.7)\n",
            "Requirement already satisfied: devsim in ./Miniconda3_Files/envs/mp/lib/python3.10/site-packages (from gplugins[devsim,femwell,gmsh,meow,sax,schematic,tidy3d,vlsir]<2,>=1; extra == \"full\"->gdsfactory[full]) (2.8.2)\n",
            "Requirement already satisfied: tidy3d<2.8,>=2.5.2 in ./Miniconda3_Files/envs/mp/lib/python3.10/site-packages (from gplugins[devsim,femwell,gmsh,meow,sax,schematic,tidy3d,vlsir]<2,>=1; extra == \"full\"->gdsfactory[full]) (2.7.1)\n",
            "Requirement already satisfied: bokeh in ./Miniconda3_Files/envs/mp/lib/python3.10/site-packages (from gplugins[devsim,femwell,gmsh,meow,sax,schematic,tidy3d,vlsir]<2,>=1; extra == \"full\"->gdsfactory[full]) (3.5.1)\n",
            "Requirement already satisfied: natsort in ./Miniconda3_Files/envs/mp/lib/python3.10/site-packages (from gplugins[devsim,femwell,gmsh,meow,sax,schematic,tidy3d,vlsir]<2,>=1; extra == \"full\"->gdsfactory[full]) (8.4.0)\n",
            "Requirement already satisfied: jax>=0.4.26 in ./Miniconda3_Files/envs/mp/lib/python3.10/site-packages (from gplugins[devsim,femwell,gmsh,meow,sax,schematic,tidy3d,vlsir]<2,>=1; extra == \"full\"->gdsfactory[full]) (0.4.31)\n",
            "Requirement already satisfied: jaxlib>=0.4.26 in ./Miniconda3_Files/envs/mp/lib/python3.10/site-packages (from gplugins[devsim,femwell,gmsh,meow,sax,schematic,tidy3d,vlsir]<2,>=1; extra == \"full\"->gdsfactory[full]) (0.4.31)\n",
            "Requirement already satisfied: flax>=0.8.2 in ./Miniconda3_Files/envs/mp/lib/python3.10/site-packages (from gplugins[devsim,femwell,gmsh,meow,sax,schematic,tidy3d,vlsir]<2,>=1; extra == \"full\"->gdsfactory[full]) (0.8.5)\n",
            "Requirement already satisfied: sax~=0.13.1 in ./Miniconda3_Files/envs/mp/lib/python3.10/site-packages (from gplugins[devsim,femwell,gmsh,meow,sax,schematic,tidy3d,vlsir]<2,>=1; extra == \"full\"->gdsfactory[full]) (0.13.2)\n",
            "Requirement already satisfied: scikit-learn in ./Miniconda3_Files/envs/mp/lib/python3.10/site-packages (from gplugins[devsim,femwell,gmsh,meow,sax,schematic,tidy3d,vlsir]<2,>=1; extra == \"full\"->gdsfactory[full]) (1.5.1)\n",
            "Requirement already satisfied: pyvis<=0.3.1 in ./Miniconda3_Files/envs/mp/lib/python3.10/site-packages (from gplugins[devsim,femwell,gmsh,meow,sax,schematic,tidy3d,vlsir]<2,>=1; extra == \"full\"->gdsfactory[full]) (0.3.1)\n",
            "Requirement already satisfied: meow-sim~=0.11.0 in ./Miniconda3_Files/envs/mp/lib/python3.10/site-packages (from gplugins[devsim,femwell,gmsh,meow,sax,schematic,tidy3d,vlsir]<2,>=1; extra == \"full\"->gdsfactory[full]) (0.11.2)\n",
            "Requirement already satisfied: femwell<0.2,>=0.1.6 in ./Miniconda3_Files/envs/mp/lib/python3.10/site-packages (from gplugins[devsim,femwell,gmsh,meow,sax,schematic,tidy3d,vlsir]<2,>=1; extra == \"full\"->gdsfactory[full]) (0.1.11)\n",
            "Requirement already satisfied: vlsir<=6.0.0,>=4.0.0 in ./Miniconda3_Files/envs/mp/lib/python3.10/site-packages (from gplugins[devsim,femwell,gmsh,meow,sax,schematic,tidy3d,vlsir]<2,>=1; extra == \"full\"->gdsfactory[full]) (6.0.0)\n",
            "Requirement already satisfied: vlsirtools<=6.0.0,>=4.0.0 in ./Miniconda3_Files/envs/mp/lib/python3.10/site-packages (from gplugins[devsim,femwell,gmsh,meow,sax,schematic,tidy3d,vlsir]<2,>=1; extra == \"full\"->gdsfactory[full]) (6.0.0)\n",
            "Requirement already satisfied: MarkupSafe>=2.0 in ./Miniconda3_Files/envs/mp/lib/python3.10/site-packages (from jinja2<4->gdsfactory[full]) (2.1.5)\n",
            "Requirement already satisfied: contourpy>=1.0.1 in ./Miniconda3_Files/envs/mp/lib/python3.10/site-packages (from matplotlib<4->gdsfactory[full]) (1.2.1)\n",
            "Requirement already satisfied: cycler>=0.10 in ./Miniconda3_Files/envs/mp/lib/python3.10/site-packages (from matplotlib<4->gdsfactory[full]) (0.12.1)\n",
            "Requirement already satisfied: fonttools>=4.22.0 in ./Miniconda3_Files/envs/mp/lib/python3.10/site-packages (from matplotlib<4->gdsfactory[full]) (4.53.1)\n",
            "Requirement already satisfied: kiwisolver>=1.3.1 in ./Miniconda3_Files/envs/mp/lib/python3.10/site-packages (from matplotlib<4->gdsfactory[full]) (1.4.5)\n",
            "Requirement already satisfied: packaging>=20.0 in /home/fotonica01/.local/lib/python3.10/site-packages (from matplotlib<4->gdsfactory[full]) (24.1)\n",
            "Requirement already satisfied: pillow>=8 in ./Miniconda3_Files/envs/mp/lib/python3.10/site-packages (from matplotlib<4->gdsfactory[full]) (10.4.0)\n",
            "Requirement already satisfied: pyparsing>=2.3.1 in ./Miniconda3_Files/envs/mp/lib/python3.10/site-packages (from matplotlib<4->gdsfactory[full]) (3.1.2)\n",
            "Requirement already satisfied: python-dateutil>=2.7 in /home/fotonica01/.local/lib/python3.10/site-packages (from matplotlib<4->gdsfactory[full]) (2.9.0.post0)\n",
            "Requirement already satisfied: pytz>=2020.1 in ./Miniconda3_Files/envs/mp/lib/python3.10/site-packages (from pandas<3->gdsfactory[full]) (2024.1)\n",
            "Requirement already satisfied: annotated-types>=0.4.0 in ./Miniconda3_Files/envs/mp/lib/python3.10/site-packages (from pydantic<2.9,>=2.6->gdsfactory[full]) (0.7.0)\n",
            "Requirement already satisfied: pydantic-core==2.20.1 in ./Miniconda3_Files/envs/mp/lib/python3.10/site-packages (from pydantic<2.9,>=2.6->gdsfactory[full]) (2.20.1)\n",
            "Requirement already satisfied: typing-extensions>=4.6.1 in /home/fotonica01/.local/lib/python3.10/site-packages (from pydantic<2.9,>=2.6->gdsfactory[full]) (4.12.2)\n",
            "Requirement already satisfied: python-dotenv>=0.21.0 in ./Miniconda3_Files/envs/mp/lib/python3.10/site-packages (from pydantic-settings<3->gdsfactory[full]) (1.0.1)\n",
            "Requirement already satisfied: markdown-it-py>=2.2.0 in ./Miniconda3_Files/envs/mp/lib/python3.10/site-packages (from rich<14->gdsfactory[full]) (3.0.0)\n",
            "Requirement already satisfied: pygments<3.0.0,>=2.13.0 in /home/fotonica01/.local/lib/python3.10/site-packages (from rich<14->gdsfactory[full]) (2.18.0)\n",
            "Requirement already satisfied: click>=8.0.0 in ./Miniconda3_Files/envs/mp/lib/python3.10/site-packages (from typer<1->gdsfactory[full]) (8.1.7)\n",
            "Requirement already satisfied: shellingham>=1.3.0 in ./Miniconda3_Files/envs/mp/lib/python3.10/site-packages (from typer<1->gdsfactory[full]) (1.5.4)\n",
            "Requirement already satisfied: future>=0.15.2 in ./Miniconda3_Files/envs/mp/lib/python3.10/site-packages (from autograd->gdsfactory[full]) (1.0.0)\n",
            "Requirement already satisfied: comm>=0.1.1 in /home/fotonica01/.local/lib/python3.10/site-packages (from ipykernel->gdsfactory[full]) (0.2.2)\n",
            "Requirement already satisfied: debugpy>=1.6.5 in /home/fotonica01/.local/lib/python3.10/site-packages (from ipykernel->gdsfactory[full]) (1.8.2)\n",
            "Requirement already satisfied: jupyter-client>=6.1.12 in /home/fotonica01/.local/lib/python3.10/site-packages (from ipykernel->gdsfactory[full]) (8.6.2)\n",
            "Requirement already satisfied: jupyter-core!=5.0.*,>=4.12 in /home/fotonica01/.local/lib/python3.10/site-packages (from ipykernel->gdsfactory[full]) (5.7.2)\n",
            "Requirement already satisfied: matplotlib-inline>=0.1 in /home/fotonica01/.local/lib/python3.10/site-packages (from ipykernel->gdsfactory[full]) (0.1.7)\n",
            "Requirement already satisfied: nest-asyncio in /home/fotonica01/.local/lib/python3.10/site-packages (from ipykernel->gdsfactory[full]) (1.6.0)\n",
            "Requirement already satisfied: psutil in /home/fotonica01/.local/lib/python3.10/site-packages (from ipykernel->gdsfactory[full]) (6.0.0)\n",
            "Requirement already satisfied: pyzmq>=24 in /home/fotonica01/.local/lib/python3.10/site-packages (from ipykernel->gdsfactory[full]) (26.0.3)\n",
            "Requirement already satisfied: tornado>=6.1 in /home/fotonica01/.local/lib/python3.10/site-packages (from ipykernel->gdsfactory[full]) (6.4.1)\n",
            "Requirement already satisfied: traitlets>=5.4.0 in /home/fotonica01/.local/lib/python3.10/site-packages (from ipykernel->gdsfactory[full]) (5.14.3)\n",
            "Requirement already satisfied: antlr4-python3-runtime==4.9.* in ./Miniconda3_Files/envs/mp/lib/python3.10/site-packages (from omegaconf->gdsfactory[full]) (4.9.3)\n",
            "Requirement already satisfied: pypng in ./Miniconda3_Files/envs/mp/lib/python3.10/site-packages (from qrcode->gdsfactory[full]) (0.20220715.0)\n",
            "Requirement already satisfied: imageio>=2.33 in ./Miniconda3_Files/envs/mp/lib/python3.10/site-packages (from scikit-image->gdsfactory[full]) (2.34.2)\n",
            "Requirement already satisfied: tifffile>=2022.8.12 in ./Miniconda3_Files/envs/mp/lib/python3.10/site-packages (from scikit-image->gdsfactory[full]) (2024.7.24)\n",
            "Requirement already satisfied: lazy-loader>=0.4 in ./Miniconda3_Files/envs/mp/lib/python3.10/site-packages (from scikit-image->gdsfactory[full]) (0.4)\n",
            "Requirement already satisfied: scikit-fem>=8.1.0 in ./Miniconda3_Files/envs/mp/lib/python3.10/site-packages (from femwell<0.2,>=0.1.6->gplugins[devsim,femwell,gmsh,meow,sax,schematic,tidy3d,vlsir]<2,>=1; extra == \"full\"->gdsfactory[full]) (10.0.1)\n",
            "Requirement already satisfied: msgpack in ./Miniconda3_Files/envs/mp/lib/python3.10/site-packages (from flax>=0.8.2->gplugins[devsim,femwell,gmsh,meow,sax,schematic,tidy3d,vlsir]<2,>=1; extra == \"full\"->gdsfactory[full]) (1.0.8)\n",
            "Requirement already satisfied: optax in ./Miniconda3_Files/envs/mp/lib/python3.10/site-packages (from flax>=0.8.2->gplugins[devsim,femwell,gmsh,meow,sax,schematic,tidy3d,vlsir]<2,>=1; extra == \"full\"->gdsfactory[full]) (0.2.3)\n",
            "Requirement already satisfied: orbax-checkpoint in ./Miniconda3_Files/envs/mp/lib/python3.10/site-packages (from flax>=0.8.2->gplugins[devsim,femwell,gmsh,meow,sax,schematic,tidy3d,vlsir]<2,>=1; extra == \"full\"->gdsfactory[full]) (0.5.23)\n",
            "Requirement already satisfied: tensorstore in ./Miniconda3_Files/envs/mp/lib/python3.10/site-packages (from flax>=0.8.2->gplugins[devsim,femwell,gmsh,meow,sax,schematic,tidy3d,vlsir]<2,>=1; extra == \"full\"->gdsfactory[full]) (0.1.64)\n",
            "Requirement already satisfied: decorator in /home/fotonica01/.local/lib/python3.10/site-packages (from ipython->kfactory[ipy]==0.18.4->gdsfactory[full]) (5.1.1)\n",
            "Requirement already satisfied: jedi>=0.16 in /home/fotonica01/.local/lib/python3.10/site-packages (from ipython->kfactory[ipy]==0.18.4->gdsfactory[full]) (0.19.1)\n",
            "Requirement already satisfied: prompt-toolkit<3.1.0,>=3.0.41 in /home/fotonica01/.local/lib/python3.10/site-packages (from ipython->kfactory[ipy]==0.18.4->gdsfactory[full]) (3.0.47)\n",
            "Requirement already satisfied: stack-data in /home/fotonica01/.local/lib/python3.10/site-packages (from ipython->kfactory[ipy]==0.18.4->gdsfactory[full]) (0.6.3)\n",
            "Requirement already satisfied: exceptiongroup in /home/fotonica01/.local/lib/python3.10/site-packages (from ipython->kfactory[ipy]==0.18.4->gdsfactory[full]) (1.2.2)\n",
            "Requirement already satisfied: pexpect>4.3 in /home/fotonica01/.local/lib/python3.10/site-packages (from ipython->kfactory[ipy]==0.18.4->gdsfactory[full]) (4.9.0)\n",
            "Requirement already satisfied: ml-dtypes>=0.2.0 in ./Miniconda3_Files/envs/mp/lib/python3.10/site-packages (from jax>=0.4.26->gplugins[devsim,femwell,gmsh,meow,sax,schematic,tidy3d,vlsir]<2,>=1; extra == \"full\"->gdsfactory[full]) (0.4.0)\n",
            "Requirement already satisfied: opt-einsum in ./Miniconda3_Files/envs/mp/lib/python3.10/site-packages (from jax>=0.4.26->gplugins[devsim,femwell,gmsh,meow,sax,schematic,tidy3d,vlsir]<2,>=1; extra == \"full\"->gdsfactory[full]) (3.3.0)\n",
            "Requirement already satisfied: platformdirs>=2.5 in /home/fotonica01/.local/lib/python3.10/site-packages (from jupyter-core!=5.0.*,>=4.12->ipykernel->gdsfactory[full]) (4.2.2)\n",
            "Requirement already satisfied: mdurl~=0.1 in ./Miniconda3_Files/envs/mp/lib/python3.10/site-packages (from markdown-it-py>=2.2.0->rich<14->gdsfactory[full]) (0.1.2)\n",
            "Requirement already satisfied: six>=1.5 in /home/fotonica01/.local/lib/python3.10/site-packages (from python-dateutil>=2.7->matplotlib<4->gdsfactory[full]) (1.16.0)\n",
            "Requirement already satisfied: jsonpickle>=1.4.1 in ./Miniconda3_Files/envs/mp/lib/python3.10/site-packages (from pyvis<=0.3.1->gplugins[devsim,femwell,gmsh,meow,sax,schematic,tidy3d,vlsir]<2,>=1; extra == \"full\"->gdsfactory[full]) (3.2.2)\n",
            "Requirement already satisfied: pooch in ./Miniconda3_Files/envs/mp/lib/python3.10/site-packages (from pyvista<=0.43.8->gplugins[devsim,femwell,gmsh,meow,sax,schematic,tidy3d,vlsir]<2,>=1; extra == \"full\"->gdsfactory[full]) (1.8.2)\n",
            "Requirement already satisfied: scooby>=0.5.1 in ./Miniconda3_Files/envs/mp/lib/python3.10/site-packages (from pyvista<=0.43.8->gplugins[devsim,femwell,gmsh,meow,sax,schematic,tidy3d,vlsir]<2,>=1; extra == \"full\"->gdsfactory[full]) (0.10.0)\n",
            "Requirement already satisfied: vtk in ./Miniconda3_Files/envs/mp/lib/python3.10/site-packages (from pyvista<=0.43.8->gplugins[devsim,femwell,gmsh,meow,sax,schematic,tidy3d,vlsir]<2,>=1; extra == \"full\"->gdsfactory[full]) (9.3.1)\n",
            "Requirement already satisfied: black in ./Miniconda3_Files/envs/mp/lib/python3.10/site-packages (from sax~=0.13.1->gplugins[devsim,femwell,gmsh,meow,sax,schematic,tidy3d,vlsir]<2,>=1; extra == \"full\"->gdsfactory[full]) (24.8.0)\n",
            "Requirement already satisfied: fastcore in ./Miniconda3_Files/envs/mp/lib/python3.10/site-packages (from sax~=0.13.1->gplugins[devsim,femwell,gmsh,meow,sax,schematic,tidy3d,vlsir]<2,>=1; extra == \"full\"->gdsfactory[full]) (1.6.3)\n",
            "Requirement already satisfied: jaxtyping in ./Miniconda3_Files/envs/mp/lib/python3.10/site-packages (from sax~=0.13.1->gplugins[devsim,femwell,gmsh,meow,sax,schematic,tidy3d,vlsir]<2,>=1; extra == \"full\"->gdsfactory[full]) (0.2.33)\n",
            "Requirement already satisfied: klujax>=0.2.5 in ./Miniconda3_Files/envs/mp/lib/python3.10/site-packages (from sax~=0.13.1->gplugins[devsim,femwell,gmsh,meow,sax,schematic,tidy3d,vlsir]<2,>=1; extra == \"full\"->gdsfactory[full]) (0.2.5)\n",
            "Requirement already satisfied: boto3<2.0.0,>=1.28.0 in ./Miniconda3_Files/envs/mp/lib/python3.10/site-packages (from tidy3d<2.8,>=2.5.2->gplugins[devsim,femwell,gmsh,meow,sax,schematic,tidy3d,vlsir]<2,>=1; extra == \"full\"->gdsfactory[full]) (1.34.154)\n",
            "Requirement already satisfied: dask in ./Miniconda3_Files/envs/mp/lib/python3.10/site-packages (from tidy3d<2.8,>=2.5.2->gplugins[devsim,femwell,gmsh,meow,sax,schematic,tidy3d,vlsir]<2,>=1; extra == \"full\"->gdsfactory[full]) (2024.7.1)\n",
            "Requirement already satisfied: h5netcdf==1.0.2 in ./Miniconda3_Files/envs/mp/lib/python3.10/site-packages (from tidy3d<2.8,>=2.5.2->gplugins[devsim,femwell,gmsh,meow,sax,schematic,tidy3d,vlsir]<2,>=1; extra == \"full\"->gdsfactory[full]) (1.0.2)\n",
            "Requirement already satisfied: importlib-metadata>=6.0.0 in ./Miniconda3_Files/envs/mp/lib/python3.10/site-packages (from tidy3d<2.8,>=2.5.2->gplugins[devsim,femwell,gmsh,meow,sax,schematic,tidy3d,vlsir]<2,>=1; extra == \"full\"->gdsfactory[full]) (8.2.0)\n",
            "Requirement already satisfied: joblib in ./Miniconda3_Files/envs/mp/lib/python3.10/site-packages (from tidy3d<2.8,>=2.5.2->gplugins[devsim,femwell,gmsh,meow,sax,schematic,tidy3d,vlsir]<2,>=1; extra == \"full\"->gdsfactory[full]) (1.4.2)\n",
            "Requirement already satisfied: pyjwt in ./Miniconda3_Files/envs/mp/lib/python3.10/site-packages (from tidy3d<2.8,>=2.5.2->gplugins[devsim,femwell,gmsh,meow,sax,schematic,tidy3d,vlsir]<2,>=1; extra == \"full\"->gdsfactory[full]) (2.9.0)\n",
            "Requirement already satisfied: pyroots>=0.5.0 in ./Miniconda3_Files/envs/mp/lib/python3.10/site-packages (from tidy3d<2.8,>=2.5.2->gplugins[devsim,femwell,gmsh,meow,sax,schematic,tidy3d,vlsir]<2,>=1; extra == \"full\"->gdsfactory[full]) (0.5.0)\n",
            "Requirement already satisfied: responses in ./Miniconda3_Files/envs/mp/lib/python3.10/site-packages (from tidy3d<2.8,>=2.5.2->gplugins[devsim,femwell,gmsh,meow,sax,schematic,tidy3d,vlsir]<2,>=1; extra == \"full\"->gdsfactory[full]) (0.25.3)\n",
            "Requirement already satisfied: toml in ./Miniconda3_Files/envs/mp/lib/python3.10/site-packages (from tidy3d<2.8,>=2.5.2->gplugins[devsim,femwell,gmsh,meow,sax,schematic,tidy3d,vlsir]<2,>=1; extra == \"full\"->gdsfactory[full]) (0.10.2)\n",
            "Requirement already satisfied: xarray>=0.16.2 in ./Miniconda3_Files/envs/mp/lib/python3.10/site-packages (from tidy3d<2.8,>=2.5.2->gplugins[devsim,femwell,gmsh,meow,sax,schematic,tidy3d,vlsir]<2,>=1; extra == \"full\"->gdsfactory[full]) (2024.3.0)\n",
            "Requirement already satisfied: charset-normalizer<4,>=2 in ./Miniconda3_Files/envs/mp/lib/python3.10/site-packages (from requests->kfactory==0.18.4->kfactory[ipy]==0.18.4->gdsfactory[full]) (3.3.2)\n",
            "Requirement already satisfied: idna<4,>=2.5 in ./Miniconda3_Files/envs/mp/lib/python3.10/site-packages (from requests->kfactory==0.18.4->kfactory[ipy]==0.18.4->gdsfactory[full]) (3.7)\n",
            "Requirement already satisfied: urllib3<3,>=1.21.1 in ./Miniconda3_Files/envs/mp/lib/python3.10/site-packages (from requests->kfactory==0.18.4->kfactory[ipy]==0.18.4->gdsfactory[full]) (2.2.2)\n",
            "Requirement already satisfied: certifi>=2017.4.17 in ./Miniconda3_Files/envs/mp/lib/python3.10/site-packages (from requests->kfactory==0.18.4->kfactory[ipy]==0.18.4->gdsfactory[full]) (2024.7.4)\n",
            "Requirement already satisfied: protobuf~=4.23 in ./Miniconda3_Files/envs/mp/lib/python3.10/site-packages (from vlsir<=6.0.0,>=4.0.0->gplugins[devsim,femwell,gmsh,meow,sax,schematic,tidy3d,vlsir]<2,>=1; extra == \"full\"->gdsfactory[full]) (4.25.4)\n",
            "Requirement already satisfied: xyzservices>=2021.09.1 in ./Miniconda3_Files/envs/mp/lib/python3.10/site-packages (from bokeh->gplugins[devsim,femwell,gmsh,meow,sax,schematic,tidy3d,vlsir]<2,>=1; extra == \"full\"->gdsfactory[full]) (2024.6.0)\n",
            "Requirement already satisfied: oldest-supported-numpy in ./Miniconda3_Files/envs/mp/lib/python3.10/site-packages (from gdstk->gplugins<2,>=1->gplugins[devsim,femwell,gmsh,meow,sax,schematic,tidy3d,vlsir]<2,>=1; extra == \"full\"->gdsfactory[full]) (0.9)\n",
            "Requirement already satisfied: gitdb<5,>=4.0.1 in ./Miniconda3_Files/envs/mp/lib/python3.10/site-packages (from gitpython->kfactory==0.18.4->kfactory[ipy]==0.18.4->gdsfactory[full]) (4.0.11)\n",
            "Requirement already satisfied: widgetsnbextension~=4.0.11 in ./Miniconda3_Files/envs/mp/lib/python3.10/site-packages (from ipywidgets->kfactory[ipy]==0.18.4->gdsfactory[full]) (4.0.11)\n",
            "Requirement already satisfied: jupyterlab-widgets~=3.0.11 in ./Miniconda3_Files/envs/mp/lib/python3.10/site-packages (from ipywidgets->kfactory[ipy]==0.18.4->gdsfactory[full]) (3.0.11)\n",
            "Requirement already satisfied: appdirs>=1.4.4 in ./Miniconda3_Files/envs/mp/lib/python3.10/site-packages (from pint->gplugins<2,>=1->gplugins[devsim,femwell,gmsh,meow,sax,schematic,tidy3d,vlsir]<2,>=1; extra == \"full\"->gdsfactory[full]) (1.4.4)\n",
            "Requirement already satisfied: flexcache>=0.3 in ./Miniconda3_Files/envs/mp/lib/python3.10/site-packages (from pint->gplugins<2,>=1->gplugins[devsim,femwell,gmsh,meow,sax,schematic,tidy3d,vlsir]<2,>=1; extra == \"full\"->gdsfactory[full]) (0.3)\n",
            "Requirement already satisfied: flexparser>=0.3 in ./Miniconda3_Files/envs/mp/lib/python3.10/site-packages (from pint->gplugins<2,>=1->gplugins[devsim,femwell,gmsh,meow,sax,schematic,tidy3d,vlsir]<2,>=1; extra == \"full\"->gdsfactory[full]) (0.3.1)\n",
            "Requirement already satisfied: ruamel.yaml.clib>=0.2.7 in ./Miniconda3_Files/envs/mp/lib/python3.10/site-packages (from ruamel.yaml->kfactory==0.18.4->kfactory[ipy]==0.18.4->gdsfactory[full]) (0.2.8)\n",
            "Requirement already satisfied: threadpoolctl>=3.1.0 in ./Miniconda3_Files/envs/mp/lib/python3.10/site-packages (from scikit-learn->gplugins[devsim,femwell,gmsh,meow,sax,schematic,tidy3d,vlsir]<2,>=1; extra == \"full\"->gdsfactory[full]) (3.5.0)\n",
            "\u001b[33mWARNING: typer 0.12.3 does not provide the extra 'all'\u001b[0m\u001b[33m\n",
            "\u001b[0mRequirement already satisfied: botocore<1.35.0,>=1.34.154 in ./Miniconda3_Files/envs/mp/lib/python3.10/site-packages (from boto3<2.0.0,>=1.28.0->tidy3d<2.8,>=2.5.2->gplugins[devsim,femwell,gmsh,meow,sax,schematic,tidy3d,vlsir]<2,>=1; extra == \"full\"->gdsfactory[full]) (1.34.154)\n",
            "Requirement already satisfied: jmespath<2.0.0,>=0.7.1 in ./Miniconda3_Files/envs/mp/lib/python3.10/site-packages (from boto3<2.0.0,>=1.28.0->tidy3d<2.8,>=2.5.2->gplugins[devsim,femwell,gmsh,meow,sax,schematic,tidy3d,vlsir]<2,>=1; extra == \"full\"->gdsfactory[full]) (1.0.1)\n",
            "Requirement already satisfied: s3transfer<0.11.0,>=0.10.0 in ./Miniconda3_Files/envs/mp/lib/python3.10/site-packages (from boto3<2.0.0,>=1.28.0->tidy3d<2.8,>=2.5.2->gplugins[devsim,femwell,gmsh,meow,sax,schematic,tidy3d,vlsir]<2,>=1; extra == \"full\"->gdsfactory[full]) (0.10.2)\n",
            "Requirement already satisfied: smmap<6,>=3.0.1 in ./Miniconda3_Files/envs/mp/lib/python3.10/site-packages (from gitdb<5,>=4.0.1->gitpython->kfactory==0.18.4->kfactory[ipy]==0.18.4->gdsfactory[full]) (5.0.1)\n",
            "Requirement already satisfied: zipp>=0.5 in ./Miniconda3_Files/envs/mp/lib/python3.10/site-packages (from importlib-metadata>=6.0.0->tidy3d<2.8,>=2.5.2->gplugins[devsim,femwell,gmsh,meow,sax,schematic,tidy3d,vlsir]<2,>=1; extra == \"full\"->gdsfactory[full]) (3.19.2)\n",
            "Requirement already satisfied: parso<0.9.0,>=0.8.3 in /home/fotonica01/.local/lib/python3.10/site-packages (from jedi>=0.16->ipython->kfactory[ipy]==0.18.4->gdsfactory[full]) (0.8.4)\n",
            "Requirement already satisfied: pybind11 in ./Miniconda3_Files/envs/mp/lib/python3.10/site-packages (from klujax>=0.2.5->sax~=0.13.1->gplugins[devsim,femwell,gmsh,meow,sax,schematic,tidy3d,vlsir]<2,>=1; extra == \"full\"->gdsfactory[full]) (2.13.1)\n",
            "Requirement already satisfied: ptyprocess>=0.5 in /home/fotonica01/.local/lib/python3.10/site-packages (from pexpect>4.3->ipython->kfactory[ipy]==0.18.4->gdsfactory[full]) (0.7.0)\n",
            "Requirement already satisfied: wcwidth in /home/fotonica01/.local/lib/python3.10/site-packages (from prompt-toolkit<3.1.0,>=3.0.41->ipython->kfactory[ipy]==0.18.4->gdsfactory[full]) (0.2.13)\n",
            "Requirement already satisfied: mypy-extensions>=0.4.3 in ./Miniconda3_Files/envs/mp/lib/python3.10/site-packages (from black->sax~=0.13.1->gplugins[devsim,femwell,gmsh,meow,sax,schematic,tidy3d,vlsir]<2,>=1; extra == \"full\"->gdsfactory[full]) (1.0.0)\n",
            "Requirement already satisfied: pathspec>=0.9.0 in ./Miniconda3_Files/envs/mp/lib/python3.10/site-packages (from black->sax~=0.13.1->gplugins[devsim,femwell,gmsh,meow,sax,schematic,tidy3d,vlsir]<2,>=1; extra == \"full\"->gdsfactory[full]) (0.12.1)\n",
            "Requirement already satisfied: cloudpickle>=1.5.0 in ./Miniconda3_Files/envs/mp/lib/python3.10/site-packages (from dask->tidy3d<2.8,>=2.5.2->gplugins[devsim,femwell,gmsh,meow,sax,schematic,tidy3d,vlsir]<2,>=1; extra == \"full\"->gdsfactory[full]) (3.0.0)\n",
            "Requirement already satisfied: fsspec>=2021.09.0 in ./Miniconda3_Files/envs/mp/lib/python3.10/site-packages (from dask->tidy3d<2.8,>=2.5.2->gplugins[devsim,femwell,gmsh,meow,sax,schematic,tidy3d,vlsir]<2,>=1; extra == \"full\"->gdsfactory[full]) (2024.6.1)\n",
            "Requirement already satisfied: partd>=1.4.0 in ./Miniconda3_Files/envs/mp/lib/python3.10/site-packages (from dask->tidy3d<2.8,>=2.5.2->gplugins[devsim,femwell,gmsh,meow,sax,schematic,tidy3d,vlsir]<2,>=1; extra == \"full\"->gdsfactory[full]) (1.4.2)\n",
            "Requirement already satisfied: typeguard==2.13.3 in ./Miniconda3_Files/envs/mp/lib/python3.10/site-packages (from jaxtyping->sax~=0.13.1->gplugins[devsim,femwell,gmsh,meow,sax,schematic,tidy3d,vlsir]<2,>=1; extra == \"full\"->gdsfactory[full]) (2.13.3)\n",
            "Requirement already satisfied: absl-py>=0.7.1 in ./Miniconda3_Files/envs/mp/lib/python3.10/site-packages (from optax->flax>=0.8.2->gplugins[devsim,femwell,gmsh,meow,sax,schematic,tidy3d,vlsir]<2,>=1; extra == \"full\"->gdsfactory[full]) (2.1.0)\n",
            "Requirement already satisfied: chex>=0.1.86 in ./Miniconda3_Files/envs/mp/lib/python3.10/site-packages (from optax->flax>=0.8.2->gplugins[devsim,femwell,gmsh,meow,sax,schematic,tidy3d,vlsir]<2,>=1; extra == \"full\"->gdsfactory[full]) (0.1.86)\n",
            "Requirement already satisfied: etils[epy] in ./Miniconda3_Files/envs/mp/lib/python3.10/site-packages (from optax->flax>=0.8.2->gplugins[devsim,femwell,gmsh,meow,sax,schematic,tidy3d,vlsir]<2,>=1; extra == \"full\"->gdsfactory[full]) (1.7.0)\n",
            "Requirement already satisfied: executing>=1.2.0 in /home/fotonica01/.local/lib/python3.10/site-packages (from stack-data->ipython->kfactory[ipy]==0.18.4->gdsfactory[full]) (2.0.1)\n",
            "Requirement already satisfied: asttokens>=2.1.0 in /home/fotonica01/.local/lib/python3.10/site-packages (from stack-data->ipython->kfactory[ipy]==0.18.4->gdsfactory[full]) (2.4.1)\n",
            "Requirement already satisfied: pure-eval in /home/fotonica01/.local/lib/python3.10/site-packages (from stack-data->ipython->kfactory[ipy]==0.18.4->gdsfactory[full]) (0.2.3)\n",
            "Requirement already satisfied: colorlog in ./Miniconda3_Files/envs/mp/lib/python3.10/site-packages (from trimesh[easy]->meow-sim~=0.11.0->gplugins[devsim,femwell,gmsh,meow,sax,schematic,tidy3d,vlsir]<2,>=1; extra == \"full\"->gdsfactory[full]) (6.8.2)\n",
            "Requirement already satisfied: manifold3d>=2.3.0 in ./Miniconda3_Files/envs/mp/lib/python3.10/site-packages (from trimesh[easy]->meow-sim~=0.11.0->gplugins[devsim,femwell,gmsh,meow,sax,schematic,tidy3d,vlsir]<2,>=1; extra == \"full\"->gdsfactory[full]) (2.5.1)\n",
            "Requirement already satisfied: chardet in ./Miniconda3_Files/envs/mp/lib/python3.10/site-packages (from trimesh[easy]->meow-sim~=0.11.0->gplugins[devsim,femwell,gmsh,meow,sax,schematic,tidy3d,vlsir]<2,>=1; extra == \"full\"->gdsfactory[full]) (5.2.0)\n",
            "Requirement already satisfied: lxml in ./Miniconda3_Files/envs/mp/lib/python3.10/site-packages (from trimesh[easy]->meow-sim~=0.11.0->gplugins[devsim,femwell,gmsh,meow,sax,schematic,tidy3d,vlsir]<2,>=1; extra == \"full\"->gdsfactory[full]) (5.2.2)\n",
            "Requirement already satisfied: jsonschema in ./Miniconda3_Files/envs/mp/lib/python3.10/site-packages (from trimesh[easy]->meow-sim~=0.11.0->gplugins[devsim,femwell,gmsh,meow,sax,schematic,tidy3d,vlsir]<2,>=1; extra == \"full\"->gdsfactory[full]) (4.23.0)\n",
            "Requirement already satisfied: svg.path in ./Miniconda3_Files/envs/mp/lib/python3.10/site-packages (from trimesh[easy]->meow-sim~=0.11.0->gplugins[devsim,femwell,gmsh,meow,sax,schematic,tidy3d,vlsir]<2,>=1; extra == \"full\"->gdsfactory[full]) (6.3)\n",
            "Requirement already satisfied: pycollada in ./Miniconda3_Files/envs/mp/lib/python3.10/site-packages (from trimesh[easy]->meow-sim~=0.11.0->gplugins[devsim,femwell,gmsh,meow,sax,schematic,tidy3d,vlsir]<2,>=1; extra == \"full\"->gdsfactory[full]) (0.8)\n",
            "Requirement already satisfied: setuptools in ./Miniconda3_Files/envs/mp/lib/python3.10/site-packages (from trimesh[easy]->meow-sim~=0.11.0->gplugins[devsim,femwell,gmsh,meow,sax,schematic,tidy3d,vlsir]<2,>=1; extra == \"full\"->gdsfactory[full]) (71.0.4)\n",
            "Requirement already satisfied: xxhash in ./Miniconda3_Files/envs/mp/lib/python3.10/site-packages (from trimesh[easy]->meow-sim~=0.11.0->gplugins[devsim,femwell,gmsh,meow,sax,schematic,tidy3d,vlsir]<2,>=1; extra == \"full\"->gdsfactory[full]) (3.4.1)\n",
            "Requirement already satisfied: rtree in ./Miniconda3_Files/envs/mp/lib/python3.10/site-packages (from trimesh[easy]->meow-sim~=0.11.0->gplugins[devsim,femwell,gmsh,meow,sax,schematic,tidy3d,vlsir]<2,>=1; extra == \"full\"->gdsfactory[full]) (1.3.0)\n",
            "Requirement already satisfied: httpx in ./Miniconda3_Files/envs/mp/lib/python3.10/site-packages (from trimesh[easy]->meow-sim~=0.11.0->gplugins[devsim,femwell,gmsh,meow,sax,schematic,tidy3d,vlsir]<2,>=1; extra == \"full\"->gdsfactory[full]) (0.27.0)\n",
            "Requirement already satisfied: vhacdx in ./Miniconda3_Files/envs/mp/lib/python3.10/site-packages (from trimesh[easy]->meow-sim~=0.11.0->gplugins[devsim,femwell,gmsh,meow,sax,schematic,tidy3d,vlsir]<2,>=1; extra == \"full\"->gdsfactory[full]) (0.0.8.post1)\n",
            "Requirement already satisfied: xatlas in ./Miniconda3_Files/envs/mp/lib/python3.10/site-packages (from trimesh[easy]->meow-sim~=0.11.0->gplugins[devsim,femwell,gmsh,meow,sax,schematic,tidy3d,vlsir]<2,>=1; extra == \"full\"->gdsfactory[full]) (0.0.9)\n",
            "Requirement already satisfied: embreex in ./Miniconda3_Files/envs/mp/lib/python3.10/site-packages (from trimesh[easy]->meow-sim~=0.11.0->gplugins[devsim,femwell,gmsh,meow,sax,schematic,tidy3d,vlsir]<2,>=1; extra == \"full\"->gdsfactory[full]) (2.17.7.post5)\n",
            "Requirement already satisfied: locket in ./Miniconda3_Files/envs/mp/lib/python3.10/site-packages (from partd>=1.4.0->dask->tidy3d<2.8,>=2.5.2->gplugins[devsim,femwell,gmsh,meow,sax,schematic,tidy3d,vlsir]<2,>=1; extra == \"full\"->gdsfactory[full]) (1.0.0)\n",
            "Requirement already satisfied: importlib_resources in ./Miniconda3_Files/envs/mp/lib/python3.10/site-packages (from etils[epath,epy]->orbax-checkpoint->flax>=0.8.2->gplugins[devsim,femwell,gmsh,meow,sax,schematic,tidy3d,vlsir]<2,>=1; extra == \"full\"->gdsfactory[full]) (6.4.0)\n",
            "Requirement already satisfied: anyio in ./Miniconda3_Files/envs/mp/lib/python3.10/site-packages (from httpx->trimesh[easy]->meow-sim~=0.11.0->gplugins[devsim,femwell,gmsh,meow,sax,schematic,tidy3d,vlsir]<2,>=1; extra == \"full\"->gdsfactory[full]) (4.4.0)\n",
            "Requirement already satisfied: httpcore==1.* in ./Miniconda3_Files/envs/mp/lib/python3.10/site-packages (from httpx->trimesh[easy]->meow-sim~=0.11.0->gplugins[devsim,femwell,gmsh,meow,sax,schematic,tidy3d,vlsir]<2,>=1; extra == \"full\"->gdsfactory[full]) (1.0.5)\n",
            "Requirement already satisfied: sniffio in ./Miniconda3_Files/envs/mp/lib/python3.10/site-packages (from httpx->trimesh[easy]->meow-sim~=0.11.0->gplugins[devsim,femwell,gmsh,meow,sax,schematic,tidy3d,vlsir]<2,>=1; extra == \"full\"->gdsfactory[full]) (1.3.1)\n",
            "Requirement already satisfied: h11<0.15,>=0.13 in ./Miniconda3_Files/envs/mp/lib/python3.10/site-packages (from httpcore==1.*->httpx->trimesh[easy]->meow-sim~=0.11.0->gplugins[devsim,femwell,gmsh,meow,sax,schematic,tidy3d,vlsir]<2,>=1; extra == \"full\"->gdsfactory[full]) (0.14.0)\n",
            "Requirement already satisfied: jsonschema-specifications>=2023.03.6 in ./Miniconda3_Files/envs/mp/lib/python3.10/site-packages (from jsonschema->trimesh[easy]->meow-sim~=0.11.0->gplugins[devsim,femwell,gmsh,meow,sax,schematic,tidy3d,vlsir]<2,>=1; extra == \"full\"->gdsfactory[full]) (2023.12.1)\n",
            "Requirement already satisfied: referencing>=0.28.4 in ./Miniconda3_Files/envs/mp/lib/python3.10/site-packages (from jsonschema->trimesh[easy]->meow-sim~=0.11.0->gplugins[devsim,femwell,gmsh,meow,sax,schematic,tidy3d,vlsir]<2,>=1; extra == \"full\"->gdsfactory[full]) (0.35.1)\n",
            "Requirement already satisfied: rpds-py>=0.7.1 in ./Miniconda3_Files/envs/mp/lib/python3.10/site-packages (from jsonschema->trimesh[easy]->meow-sim~=0.11.0->gplugins[devsim,femwell,gmsh,meow,sax,schematic,tidy3d,vlsir]<2,>=1; extra == \"full\"->gdsfactory[full]) (0.19.1)\n"
          ]
        }
      ],
      "source": [
        "!pip install gdsfactory[full]"
      ]
    },
    {
      "cell_type": "code",
      "execution_count": null,
      "metadata": {
        "colab": {
          "base_uri": "https://localhost:8080/"
        },
        "id": "2Fbln4IjO0hK",
        "outputId": "b5e629e4-ee72-4fb1-d490-47ced4fa67e2"
      },
      "outputs": [
        {
          "name": "stdout",
          "output_type": "stream",
          "text": [
            "Looking in indexes: https://pypi.org/simple, https://us-python.pkg.dev/colab-wheels/public/simple/\n",
            "Collecting tidy3d-beta\n",
            "  Downloading tidy3d_beta-1.7.1-py3-none-any.whl (248 kB)\n",
            "\u001b[2K     \u001b[90m━━━━━━━━━━━━━━━━━━━━━━━━━━━━━━━━━━━━━\u001b[0m \u001b[32m248.1/248.1 kB\u001b[0m \u001b[31m829.4 kB/s\u001b[0m eta \u001b[36m0:00:00\u001b[0m\n",
            "\u001b[?25hCollecting boto3==1.23.1\n",
            "  Downloading boto3-1.23.1-py3-none-any.whl (132 kB)\n",
            "\u001b[2K     \u001b[90m━━━━━━━━━━━━━━━━━━━━━━━━━━━━━━━━━━━━━━\u001b[0m \u001b[32m132.5/132.5 kB\u001b[0m \u001b[31m16.7 MB/s\u001b[0m eta \u001b[36m0:00:00\u001b[0m\n",
            "\u001b[?25hCollecting pyjwt\n",
            "  Downloading PyJWT-2.6.0-py3-none-any.whl (20 kB)\n",
            "Collecting pyroots>=0.5.0\n",
            "  Downloading pyroots-0.5.0-py2.py3-none-any.whl (17 kB)\n",
            "Collecting dask\n",
            "  Downloading dask-2022.2.0-py3-none-any.whl (1.1 MB)\n",
            "\u001b[2K     \u001b[90m━━━━━━━━━━━━━━━━━━━━━━━━━━━━━━━━━━━━━━━━\u001b[0m \u001b[32m1.1/1.1 MB\u001b[0m \u001b[31m45.3 MB/s\u001b[0m eta \u001b[36m0:00:00\u001b[0m\n",
            "\u001b[?25hRequirement already satisfied: PyYAML in /usr/local/lib/python3.7/site-packages (from tidy3d-beta) (6.0)\n",
            "Requirement already satisfied: h5py>=3.0.0 in /usr/local/lib/python3.7/site-packages (from tidy3d-beta) (3.7.0)\n",
            "Requirement already satisfied: requests in /usr/local/lib/python3.7/site-packages (from tidy3d-beta) (2.28.1)\n",
            "Requirement already satisfied: scipy in /usr/local/lib/python3.7/site-packages (from tidy3d-beta) (1.7.3)\n",
            "Collecting shapely==1.8.0\n",
            "  Downloading Shapely-1.8.0-cp37-cp37m-manylinux_2_5_x86_64.manylinux1_x86_64.whl (1.1 MB)\n",
            "\u001b[2K     \u001b[90m━━━━━━━━━━━━━━━━━━━━━━━━━━━━━━━━━━━━━━━━\u001b[0m \u001b[32m1.1/1.1 MB\u001b[0m \u001b[31m47.8 MB/s\u001b[0m eta \u001b[36m0:00:00\u001b[0m\n",
            "\u001b[?25hRequirement already satisfied: pydantic>=1.10.0 in /usr/local/lib/python3.7/site-packages (from tidy3d-beta) (1.10.2)\n",
            "Requirement already satisfied: matplotlib in /usr/local/lib/python3.7/site-packages (from tidy3d-beta) (3.5.3)\n",
            "Requirement already satisfied: rich in /usr/local/lib/python3.7/site-packages (from tidy3d-beta) (12.6.0)\n",
            "Collecting xarray>=0.16.2\n",
            "  Downloading xarray-0.20.2-py3-none-any.whl (845 kB)\n",
            "\u001b[2K     \u001b[90m━━━━━━━━━━━━━━━━━━━━━━━━━━━━━━━━━━━━━━\u001b[0m \u001b[32m845.2/845.2 kB\u001b[0m \u001b[31m51.3 MB/s\u001b[0m eta \u001b[36m0:00:00\u001b[0m\n",
            "\u001b[?25hCollecting s3transfer<0.6.0,>=0.5.0\n",
            "  Downloading s3transfer-0.5.2-py3-none-any.whl (79 kB)\n",
            "\u001b[2K     \u001b[90m━━━━━━━━━━━━━━━━━━━━━━━━━━━━━━━━━━━━━━━━\u001b[0m \u001b[32m79.5/79.5 kB\u001b[0m \u001b[31m7.9 MB/s\u001b[0m eta \u001b[36m0:00:00\u001b[0m\n",
            "\u001b[?25hCollecting jmespath<2.0.0,>=0.7.1\n",
            "  Downloading jmespath-1.0.1-py3-none-any.whl (20 kB)\n",
            "Collecting botocore<1.27.0,>=1.26.1\n",
            "  Downloading botocore-1.26.10-py3-none-any.whl (8.8 MB)\n",
            "\u001b[2K     \u001b[90m━━━━━━━━━━━━━━━━━━━━━━━━━━━━━━━━━━━━━━━━\u001b[0m \u001b[32m8.8/8.8 MB\u001b[0m \u001b[31m91.4 MB/s\u001b[0m eta \u001b[36m0:00:00\u001b[0m\n",
            "\u001b[?25hRequirement already satisfied: mpi4py>=3.0.2 in /usr/local/lib/python3.7/site-packages (from h5py>=3.0.0->tidy3d-beta) (3.1.3)\n",
            "Requirement already satisfied: numpy>=1.14.5 in /usr/local/lib/python3.7/site-packages (from h5py>=3.0.0->tidy3d-beta) (1.21.6)\n",
            "Requirement already satisfied: typing-extensions>=4.1.0 in /usr/local/lib/python3.7/site-packages (from pydantic>=1.10.0->tidy3d-beta) (4.4.0)\n",
            "Requirement already satisfied: pandas>=1.1 in /usr/local/lib/python3.7/site-packages (from xarray>=0.16.2->tidy3d-beta) (1.3.5)\n",
            "Requirement already satisfied: importlib-metadata in /usr/local/lib/python3.7/site-packages (from xarray>=0.16.2->tidy3d-beta) (4.11.4)\n",
            "Requirement already satisfied: packaging>=20.0 in /usr/local/lib/python3.7/site-packages (from dask->tidy3d-beta) (21.3)\n",
            "Requirement already satisfied: toolz>=0.8.2 in /usr/local/lib/python3.7/site-packages (from dask->tidy3d-beta) (0.12.0)\n",
            "Collecting fsspec>=0.6.0\n",
            "  Downloading fsspec-2022.11.0-py3-none-any.whl (139 kB)\n",
            "\u001b[2K     \u001b[90m━━━━━━━━━━━━━━━━━━━━━━━━━━━━━━━━━━━━━━━\u001b[0m \u001b[32m139.5/139.5 kB\u001b[0m \u001b[31m3.1 MB/s\u001b[0m eta \u001b[36m0:00:00\u001b[0m\n",
            "\u001b[?25hCollecting partd>=0.3.10\n",
            "  Downloading partd-1.3.0-py3-none-any.whl (18 kB)\n",
            "Collecting cloudpickle>=1.1.1\n",
            "  Downloading cloudpickle-2.2.0-py3-none-any.whl (25 kB)\n",
            "Requirement already satisfied: fonttools>=4.22.0 in /usr/local/lib/python3.7/site-packages (from matplotlib->tidy3d-beta) (4.38.0)\n",
            "Requirement already satisfied: cycler>=0.10 in /usr/local/lib/python3.7/site-packages (from matplotlib->tidy3d-beta) (0.11.0)\n",
            "Requirement already satisfied: pillow>=6.2.0 in /usr/local/lib/python3.7/site-packages (from matplotlib->tidy3d-beta) (9.2.0)\n",
            "Requirement already satisfied: pyparsing>=2.2.1 in /usr/local/lib/python3.7/site-packages (from matplotlib->tidy3d-beta) (3.0.9)\n",
            "Requirement already satisfied: python-dateutil>=2.7 in /usr/local/lib/python3.7/site-packages (from matplotlib->tidy3d-beta) (2.8.2)\n",
            "Requirement already satisfied: kiwisolver>=1.0.1 in /usr/local/lib/python3.7/site-packages (from matplotlib->tidy3d-beta) (1.4.4)\n",
            "Requirement already satisfied: urllib3<1.27,>=1.21.1 in /usr/local/lib/python3.7/site-packages (from requests->tidy3d-beta) (1.26.11)\n",
            "Requirement already satisfied: certifi>=2017.4.17 in /usr/local/lib/python3.7/site-packages (from requests->tidy3d-beta) (2022.9.24)\n",
            "Requirement already satisfied: charset-normalizer<3,>=2 in /usr/local/lib/python3.7/site-packages (from requests->tidy3d-beta) (2.1.1)\n",
            "Requirement already satisfied: idna<4,>=2.5 in /usr/local/lib/python3.7/site-packages (from requests->tidy3d-beta) (3.3)\n",
            "Requirement already satisfied: commonmark<0.10.0,>=0.9.0 in /usr/local/lib/python3.7/site-packages (from rich->tidy3d-beta) (0.9.1)\n",
            "Requirement already satisfied: pygments<3.0.0,>=2.6.0 in /usr/local/lib/python3.7/site-packages (from rich->tidy3d-beta) (2.13.0)\n",
            "Requirement already satisfied: pytz>=2017.3 in /usr/local/lib/python3.7/site-packages (from pandas>=1.1->xarray>=0.16.2->tidy3d-beta) (2022.6)\n",
            "Collecting locket\n",
            "  Downloading locket-1.0.0-py2.py3-none-any.whl (4.4 kB)\n",
            "Requirement already satisfied: six>=1.5 in /usr/local/lib/python3.7/site-packages (from python-dateutil>=2.7->matplotlib->tidy3d-beta) (1.16.0)\n",
            "Requirement already satisfied: zipp>=0.5 in /usr/local/lib/python3.7/site-packages (from importlib-metadata->xarray>=0.16.2->tidy3d-beta) (3.11.0)\n",
            "Installing collected packages: shapely, pyroots, pyjwt, locket, jmespath, fsspec, cloudpickle, partd, botocore, xarray, s3transfer, dask, boto3, tidy3d-beta\n",
            "  Attempting uninstall: shapely\n",
            "    Found existing installation: Shapely 1.8.5\n",
            "    Uninstalling Shapely-1.8.5:\n",
            "      Successfully uninstalled Shapely-1.8.5\n",
            "Successfully installed boto3-1.23.1 botocore-1.26.10 cloudpickle-2.2.0 dask-2022.2.0 fsspec-2022.11.0 jmespath-1.0.1 locket-1.0.0 partd-1.3.0 pyjwt-2.6.0 pyroots-0.5.0 s3transfer-0.5.2 shapely-1.8.0 tidy3d-beta-1.7.1 xarray-0.20.2\n",
            "\u001b[33mWARNING: Running pip as the 'root' user can result in broken permissions and conflicting behaviour with the system package manager. It is recommended to use a virtual environment instead: https://pip.pypa.io/warnings/venv\u001b[0m\u001b[33m\n",
            "\u001b[0m"
          ]
        }
      ],
      "source": [
        "!pip install tidy3d-beta"
      ]
    },
    {
      "cell_type": "code",
      "execution_count": null,
      "metadata": {
        "colab": {
          "base_uri": "https://localhost:8080/"
        },
        "id": "AEYbapHIPUGA",
        "outputId": "34398a46-0433-45bf-ec5e-6321f22be415"
      },
      "outputs": [
        {
          "name": "stdout",
          "output_type": "stream",
          "text": [
            "Looking in indexes: https://pypi.org/simple, https://us-python.pkg.dev/colab-wheels/public/simple/\n",
            "Collecting matplotlib==3.1.3\n",
            "  Downloading matplotlib-3.1.3-cp37-cp37m-manylinux1_x86_64.whl (13.1 MB)\n",
            "\u001b[2K     \u001b[90m━━━━━━━━━━━━━━━━━━━━━━━━━━━━━━━━━━━━━━━━\u001b[0m \u001b[32m13.1/13.1 MB\u001b[0m \u001b[31m27.5 MB/s\u001b[0m eta \u001b[36m0:00:00\u001b[0m\n",
            "\u001b[?25hRequirement already satisfied: numpy>=1.11 in /usr/local/lib/python3.7/site-packages (from matplotlib==3.1.3) (1.21.6)\n",
            "Requirement already satisfied: cycler>=0.10 in /usr/local/lib/python3.7/site-packages (from matplotlib==3.1.3) (0.11.0)\n",
            "Requirement already satisfied: python-dateutil>=2.1 in /usr/local/lib/python3.7/site-packages (from matplotlib==3.1.3) (2.8.2)\n",
            "Requirement already satisfied: pyparsing!=2.0.4,!=2.1.2,!=2.1.6,>=2.0.1 in /usr/local/lib/python3.7/site-packages (from matplotlib==3.1.3) (3.0.9)\n",
            "Requirement already satisfied: kiwisolver>=1.0.1 in /usr/local/lib/python3.7/site-packages (from matplotlib==3.1.3) (1.4.4)\n",
            "Requirement already satisfied: typing-extensions in /usr/local/lib/python3.7/site-packages (from kiwisolver>=1.0.1->matplotlib==3.1.3) (4.4.0)\n",
            "Requirement already satisfied: six>=1.5 in /usr/local/lib/python3.7/site-packages (from python-dateutil>=2.1->matplotlib==3.1.3) (1.16.0)\n",
            "Installing collected packages: matplotlib\n",
            "  Attempting uninstall: matplotlib\n",
            "    Found existing installation: matplotlib 3.5.3\n",
            "    Uninstalling matplotlib-3.5.3:\n",
            "      Successfully uninstalled matplotlib-3.5.3\n",
            "\u001b[31mERROR: pip's dependency resolver does not currently take into account all the packages that are installed. This behaviour is the source of the following dependency conflicts.\n",
            "ipympl 0.9.2 requires matplotlib<4,>=3.4.0, but you have matplotlib 3.1.3 which is incompatible.\u001b[0m\u001b[31m\n",
            "\u001b[0mSuccessfully installed matplotlib-3.1.3\n",
            "\u001b[33mWARNING: Running pip as the 'root' user can result in broken permissions and conflicting behaviour with the system package manager. It is recommended to use a virtual environment instead: https://pip.pypa.io/warnings/venv\u001b[0m\u001b[33m\n",
            "\u001b[0m"
          ]
        }
      ],
      "source": [
        "pip install matplotlib==3.1.3"
      ]
    },
    {
      "cell_type": "markdown",
      "metadata": {
        "id": "CbqVfy-6f6Op"
      },
      "source": [
        "## Simulation and test installation"
      ]
    },
    {
      "cell_type": "code",
      "execution_count": 2,
      "metadata": {},
      "outputs": [
        {
          "name": "stdout",
          "output_type": "stream",
          "text": [
            "\u001b[31mERROR: Could not find a version that satisfies the requirement gdsfactory.simulation (from versions: none)\u001b[0m\u001b[31m\n",
            "\u001b[0m\u001b[31mERROR: No matching distribution found for gdsfactory.simulation\u001b[0m\u001b[31m\n",
            "\u001b[0m"
          ]
        }
      ],
      "source": [
        "!pip install gdsfactory.simulation"
      ]
    },
    {
      "cell_type": "code",
      "execution_count": 19,
      "metadata": {
        "colab": {
          "base_uri": "https://localhost:8080/"
        },
        "id": "ZNrPbKDhf9oR",
        "outputId": "90e3b509-10a2-4ae8-b4ab-54c8a905d430"
      },
      "outputs": [
        {
          "ename": "ModuleNotFoundError",
          "evalue": "No module named 'gdsfactory.simulation'",
          "output_type": "error",
          "traceback": [
            "\u001b[0;31m---------------------------------------------------------------------------\u001b[0m",
            "\u001b[0;31mModuleNotFoundError\u001b[0m                       Traceback (most recent call last)",
            "Cell \u001b[0;32mIn[19], line 5\u001b[0m\n\u001b[1;32m      3\u001b[0m \u001b[38;5;28;01mimport\u001b[39;00m \u001b[38;5;21;01mmeep\u001b[39;00m \u001b[38;5;28;01mas\u001b[39;00m \u001b[38;5;21;01mmp\u001b[39;00m\n\u001b[1;32m      4\u001b[0m \u001b[38;5;28;01mimport\u001b[39;00m \u001b[38;5;21;01msys\u001b[39;00m\n\u001b[0;32m----> 5\u001b[0m \u001b[38;5;28;01mimport\u001b[39;00m \u001b[38;5;21;01mgdsfactory\u001b[39;00m\u001b[38;5;21;01m.\u001b[39;00m\u001b[38;5;21;01msimulation\u001b[39;00m\u001b[38;5;21;01m.\u001b[39;00m\u001b[38;5;21;01mgmeep\u001b[39;00m \u001b[38;5;28;01mas\u001b[39;00m \u001b[38;5;21;01mgm\u001b[39;00m\n\u001b[1;32m      6\u001b[0m \u001b[38;5;28;01mimport\u001b[39;00m \u001b[38;5;21;01mgdsfactory\u001b[39;00m\u001b[38;5;21;01m.\u001b[39;00m\u001b[38;5;21;01msimulation\u001b[39;00m \u001b[38;5;28;01mas\u001b[39;00m \u001b[38;5;21;01msim\u001b[39;00m\n\u001b[1;32m      8\u001b[0m gf\u001b[38;5;241m.\u001b[39mconfig\u001b[38;5;241m.\u001b[39mset_plot_options(show_subports\u001b[38;5;241m=\u001b[39m\u001b[38;5;28;01mFalse\u001b[39;00m, show_ports\u001b[38;5;241m=\u001b[39m\u001b[38;5;28;01mTrue\u001b[39;00m)\n",
            "\u001b[0;31mModuleNotFoundError\u001b[0m: No module named 'gdsfactory.simulation'"
          ]
        }
      ],
      "source": [
        "import matplotlib.pyplot as plt\n",
        "import numpy as np\n",
        "import meep as mp\n",
        "import sys\n",
        "import gdsfactory as gf\n",
        "import gdsfactory.simulation.gmeep as gm\n",
        "import gdsfactory.simulation as sim\n",
        "\n",
        "gf.config.set_plot_options(show_subports=False, show_ports=True)"
      ]
    },
    {
      "cell_type": "code",
      "execution_count": null,
      "metadata": {
        "colab": {
          "base_uri": "https://localhost:8080/",
          "height": 282
        },
        "id": "A7yXlR-rf9oS",
        "outputId": "0dcc69a2-d76f-46e6-9361-057cd7e1c6f3"
      },
      "outputs": [
        {
          "data": {
            "image/png": "[encoded data removed]",
            "text/plain": [
              "<Figure size 432x288 with 1 Axes>"
            ]
          },
          "metadata": {
            "needs_background": "light"
          },
          "output_type": "display_data"
        },
        {
          "data": {
            "text/html": [
              "mmi1x2_56b20728: uid 384c14fa, ports ['o1', 'o2', 'o3'], references [], 5 polygons"
            ],
            "text/plain": [
              "mmi1x2_56b20728: uid 384c14fa, ports ['o1', 'o2', 'o3'], references [], 5 polygons"
            ]
          },
          "execution_count": 2,
          "metadata": {},
          "output_type": "execute_result"
        }
      ],
      "source": [
        "c = gf.components.mmi1x2(\n",
        "    width_taper=1.25,\n",
        "    length_taper=5.0,\n",
        "    length_mmi=7.92,\n",
        "    width_mmi=5.0,\n",
        "    gap_mmi=1.25,\n",
        "    with_bbox=True,\n",
        "    cross_section='strip')\n",
        "c"
      ]
    },
    {
      "cell_type": "code",
      "execution_count": 3,
      "metadata": {
        "colab": {
          "base_uri": "https://localhost:8080/",
          "height": 424
        },
        "id": "KU8YLFQYOErV",
        "outputId": "9e228cfe-d347-4838-8c5d-2c818af59bfd"
      },
      "outputs": [
        {
          "ename": "AttributeError",
          "evalue": "module 'gdsfactory' has no attribute 'simulation'",
          "output_type": "error",
          "traceback": [
            "\u001b[0;31m---------------------------------------------------------------------------\u001b[0m",
            "\u001b[0;31mAttributeError\u001b[0m                            Traceback (most recent call last)",
            "Cell \u001b[0;32mIn[3], line 1\u001b[0m\n\u001b[0;32m----> 1\u001b[0m sp \u001b[38;5;241m=\u001b[39m \u001b[43mgf\u001b[49m\u001b[38;5;241;43m.\u001b[39;49m\u001b[43msimulation\u001b[49m\u001b[38;5;241m.\u001b[39mgmeep\u001b[38;5;241m.\u001b[39mwrite_sparameters_meep(\n\u001b[1;32m      2\u001b[0m     c,\n\u001b[1;32m      3\u001b[0m     run\u001b[38;5;241m=\u001b[39m\u001b[38;5;28;01mFalse\u001b[39;00m,\n\u001b[1;32m      4\u001b[0m     port_margin \u001b[38;5;241m=\u001b[39m \u001b[38;5;241m1\u001b[39m,\n\u001b[1;32m      5\u001b[0m     ymargin_top\u001b[38;5;241m=\u001b[39m\u001b[38;5;241m3\u001b[39m,\n\u001b[1;32m      6\u001b[0m     ymargin_bot\u001b[38;5;241m=\u001b[39m\u001b[38;5;241m3\u001b[39m,\n\u001b[1;32m      7\u001b[0m     port_source_name \u001b[38;5;241m=\u001b[39m \u001b[38;5;124m'\u001b[39m\u001b[38;5;124min\u001b[39m\u001b[38;5;124m'\u001b[39m,\n\u001b[1;32m      8\u001b[0m     is_3d\u001b[38;5;241m=\u001b[39m\u001b[38;5;28;01mTrue\u001b[39;00m)\n",
            "\u001b[0;31mAttributeError\u001b[0m: module 'gdsfactory' has no attribute 'simulation'"
          ]
        }
      ],
      "source": [
        "sp = gm.write_sparameters_meep(\n",
        "    c,\n",
        "    run=False,\n",
        "    port_margin = 1,\n",
        "    ymargin_top=3,\n",
        "    ymargin_bot=3,\n",
        "    port_source_name = 'in',\n",
        "    is_3d=True)"
      ]
    },
    {
      "cell_type": "code",
      "execution_count": null,
      "metadata": {
        "colab": {
          "base_uri": "https://localhost:8080/",
          "height": 144,
          "referenced_widgets": [
            "60fd86a3836d4f0aa9920311ef75e051",
            "e0f10645b9394a2e92ef9128146e1e8b",
            "a99aa953570c46928d1decef446828e2",
            "62c8672ba2f44558a19c5315547aefa2",
            "02acb0fee30f4657bdbf6f7a9c8dc8f8",
            "15233cf90a7c41ae97e15786fe99a614",
            "3909b57f46c849d3b734599e5045be14",
            "6f96fb695b2b41a3b99d71c3014e5eb3",
            "37317b9100e04ef08df84bd80cd86237",
            "3e128183df3743ecafc59d3fd4770886",
            "d94ca9c1af024995ab4390beeed14595"
          ]
        },
        "id": "LwFDoiPdVeF2",
        "outputId": "f49a73e3-ff2e-4d6b-d9c4-e3b9e9b88185"
      },
      "outputs": [
        {
          "data": {
            "application/json": {
              "ascii": false,
              "bar_format": null,
              "colour": null,
              "elapsed": 0.03078627586364746,
              "initial": 0,
              "n": 0,
              "ncols": null,
              "nrows": null,
              "postfix": null,
              "prefix": "",
              "rate": null,
              "total": 3,
              "unit": "it",
              "unit_divisor": 1000,
              "unit_scale": false
            },
            "application/vnd.jupyter.widget-view+json": {
              "model_id": "60fd86a3836d4f0aa9920311ef75e051",
              "version_major": 2,
              "version_minor": 0
            },
            "text/plain": [
              "  0%|          | 0/3 [00:00<?, ?it/s]"
            ]
          },
          "metadata": {},
          "output_type": "display_data"
        },
        {
          "name": "stderr",
          "output_type": "stream",
          "text": [
            "Warning: grid volume is not an integer number of pixels; cell size will be rounded to nearest pixel.\n",
            "/usr/local/lib/python3.7/site-packages/meep/__init__.py:4488: ComplexWarning: Casting complex values to real discards the imaginary part\n",
            "  return _meep.create_structure(cell_size, dft_data_list_, pml_1d_vols_, pml_2d_vols_, pml_3d_vols_, absorber_vols_, gv, br, sym, num_chunks, Courant, use_anisotropic_averaging, tol, maxeval, gobj_list, center, _ensure_periodicity, _default_material, alist, extra_materials, split_chunks_evenly, set_materials, existing_s, output_chunk_costs, my_bp)\n",
            "/usr/local/lib/python3.7/site-packages/meep/__init__.py:4491: ComplexWarning: Casting complex values to real discards the imaginary part\n",
            "  return _meep._set_materials(s, cell_size, gv, use_anisotropic_averaging, tol, maxeval, gobj_list, center, _ensure_periodicity, _default_material, alist, extra_materials, split_chunks_evenly, set_materials, existing_geps, output_chunk_costs, my_bp)\n",
            "Warning: grid volume is not an integer number of pixels; cell size will be rounded to nearest pixel.\n"
          ]
        }
      ],
      "source": [
        "sp = gm.write_sparameters_meep(\n",
        "    c,\n",
        "    run=True,\n",
        "    port_margin = .9,\n",
        "    ymargin_top=3,\n",
        "    ymargin_bot=3,\n",
        "    is_3d=True,\n",
        "    z = 0)"
      ]
    },
    {
      "cell_type": "code",
      "execution_count": null,
      "metadata": {
        "id": "ms-fG8bdCIsS"
      },
      "outputs": [],
      "source": [
        "import meep as mp\n",
        "from gdsfactory.simulation.gmeep.get_simulation import get_simulation\n",
        "simObj = get_simulation(c)\n",
        "sim = simObj['sim']"
      ]
    },
    {
      "cell_type": "code",
      "execution_count": null,
      "metadata": {
        "colab": {
          "base_uri": "https://localhost:8080/",
          "height": 281
        },
        "id": "9QiskYSbHFV6",
        "outputId": "561f6445-41c7-4c48-a14a-310df82fbb00"
      },
      "outputs": [
        {
          "name": "stderr",
          "output_type": "stream",
          "text": [
            "Warning: grid volume is not an integer number of pixels; cell size will be rounded to nearest pixel.\n"
          ]
        },
        {
          "data": {
            "image/png": "[encoded data removed]"
          },
          "metadata": {
            "needs_background": "light"
          },
          "output_type": "display_data"
        }
      ],
      "source": [
        "f = plt.figure(dpi=100)\n",
        "sim.plot2D(ax=f.gca())\n",
        "plt.show()"
      ]
    },
    {
      "cell_type": "code",
      "execution_count": null,
      "metadata": {
        "colab": {
          "base_uri": "https://localhost:8080/",
          "height": 233
        },
        "id": "Mp-_sIEqIv7k",
        "outputId": "fa61765c-cff6-4e50-c4fa-144d926398b4"
      },
      "outputs": [
        {
          "name": "stderr",
          "output_type": "stream",
          "text": [
            "Warning: grid volume is not an integer number of pixels; cell size will be rounded to nearest pixel.\n",
            "/usr/local/lib/python3.7/site-packages/meep/__init__.py:4494: ComplexWarning: Casting complex values to real discards the imaginary part\n",
            "  return _meep._get_epsilon_grid(gobj_list, mlist, _default_material, _ensure_periodicity, gv, cell_size, cell_center, nx, xtics, ny, ytics, nz, ztics, grid_vals, frequency)\n"
          ]
        },
        {
          "data": {
            "image/png": "[encoded data removed]"
          },
          "metadata": {
            "needs_background": "light"
          },
          "output_type": "display_data"
        }
      ],
      "source": [
        "plt.figure()\n",
        "sim.plot2D(fields=mp.Ey)\n",
        "plt.axis('off')\n",
        "plt.show()"
      ]
    },
    {
      "cell_type": "code",
      "execution_count": null,
      "metadata": {
        "id": "fbv3QFQMIIHp"
      },
      "outputs": [],
      "source": [
        "eps_data = sim.get_epsilon()\n",
        "ez_data = np.real(sim.get_efield_z())"
      ]
    },
    {
      "cell_type": "code",
      "execution_count": null,
      "metadata": {
        "colab": {
          "base_uri": "https://localhost:8080/",
          "height": 159
        },
        "id": "SKaPnWxjN_PO",
        "outputId": "c4f8bc58-1def-49ea-bd20-abd1a25a4f06"
      },
      "outputs": [
        {
          "data": {
            "image/png": "[encoded data removed]"
          },
          "metadata": {
            "needs_background": "light"
          },
          "output_type": "display_data"
        }
      ],
      "source": [
        "plt.figure()\n",
        "plt.imshow(eps_data.transpose(), interpolation='spline36', cmap='binary')\n",
        "plt.axis('off')\n",
        "plt.show()"
      ]
    },
    {
      "cell_type": "code",
      "execution_count": null,
      "metadata": {
        "colab": {
          "base_uri": "https://localhost:8080/",
          "height": 159
        },
        "id": "NvgHF5f1OEGO",
        "outputId": "b2678d58-fcd3-4941-a93d-86346af7e02c"
      },
      "outputs": [
        {
          "data": {
            "image/png": "[encoded data removed]"
          },
          "metadata": {
            "needs_background": "light"
          },
          "output_type": "display_data"
        }
      ],
      "source": [
        "plt.figure()\n",
        "plt.imshow(eps_data.transpose(), interpolation='spline36', cmap='binary')\n",
        "plt.imshow(ez_data.transpose(), interpolation='spline36', cmap='RdBu', alpha=0.9)\n",
        "plt.axis('off')\n",
        "plt.show()"
      ]
    },
    {
      "cell_type": "code",
      "execution_count": null,
      "metadata": {
        "colab": {
          "base_uri": "https://localhost:8080/",
          "height": 388
        },
        "id": "o11V3-7Zf9oT",
        "outputId": "27d64b9c-5ab9-44ca-c61f-af7a258a9087"
      },
      "outputs": [
        {
          "data": {
            "image/png": "[encoded data removed]"
          },
          "metadata": {
            "needs_background": "light"
          },
          "output_type": "display_data"
        }
      ],
      "source": [
        "from cycler import cycler\n",
        "fig, ax = plt.subplots(figsize = (8,6))\n",
        "ax.grid(True)\n",
        "#ax.set_ylim([-3.325,-3.25])\n",
        "ax.set_xlim([1560,1600])\n",
        "ax.set_prop_cycle(cycler('color', list('rbgykcm')) *\n",
        "                  cycler('linestyle', ['-']) *\n",
        "                  cycler('marker', ['+', 's']))\n",
        "gf.simulation.plot.plot_sparameters(sp)"
      ]
    },
    {
      "cell_type": "code",
      "execution_count": null,
      "metadata": {
        "id": "vWhQEPTZ_2gL"
      },
      "outputs": [],
      "source": [
        " eps_data = sim.get_epsilon()"
      ]
    }
  ],
  "metadata": {
    "colab": {
      "provenance": [],
      "toc_visible": true
    },
    "kernelspec": {
      "display_name": "Python 3",
      "name": "python3"
    },
    "language_info": {
      "name": "python"
    },
    "widgets": {
      "application/vnd.jupyter.widget-state+json": {
        "02acb0fee30f4657bdbf6f7a9c8dc8f8": {
          "model_module": "@jupyter-widgets/base",
          "model_module_version": "2.0.0",
          "model_name": "LayoutModel",
          "state": {
            "_model_module": "@jupyter-widgets/base",
            "_model_module_version": "2.0.0",
            "_model_name": "LayoutModel",
            "_view_count": null,
            "_view_module": "@jupyter-widgets/base",
            "_view_module_version": "2.0.0",
            "_view_name": "LayoutView",
            "align_content": null,
            "align_items": null,
            "align_self": null,
            "border_bottom": null,
            "border_left": null,
            "border_right": null,
            "border_top": null,
            "bottom": null,
            "display": null,
            "flex": null,
            "flex_flow": null,
            "grid_area": null,
            "grid_auto_columns": null,
            "grid_auto_flow": null,
            "grid_auto_rows": null,
            "grid_column": null,
            "grid_gap": null,
            "grid_row": null,
            "grid_template_areas": null,
            "grid_template_columns": null,
            "grid_template_rows": null,
            "height": null,
            "justify_content": null,
            "justify_items": null,
            "left": null,
            "margin": null,
            "max_height": null,
            "max_width": null,
            "min_height": null,
            "min_width": null,
            "object_fit": null,
            "object_position": null,
            "order": null,
            "overflow": null,
            "padding": null,
            "right": null,
            "top": null,
            "visibility": null,
            "width": null
          }
        },
        "15233cf90a7c41ae97e15786fe99a614": {
          "model_module": "@jupyter-widgets/base",
          "model_module_version": "2.0.0",
          "model_name": "LayoutModel",
          "state": {
            "_model_module": "@jupyter-widgets/base",
            "_model_module_version": "2.0.0",
            "_model_name": "LayoutModel",
            "_view_count": null,
            "_view_module": "@jupyter-widgets/base",
            "_view_module_version": "2.0.0",
            "_view_name": "LayoutView",
            "align_content": null,
            "align_items": null,
            "align_self": null,
            "border_bottom": null,
            "border_left": null,
            "border_right": null,
            "border_top": null,
            "bottom": null,
            "display": null,
            "flex": null,
            "flex_flow": null,
            "grid_area": null,
            "grid_auto_columns": null,
            "grid_auto_flow": null,
            "grid_auto_rows": null,
            "grid_column": null,
            "grid_gap": null,
            "grid_row": null,
            "grid_template_areas": null,
            "grid_template_columns": null,
            "grid_template_rows": null,
            "height": null,
            "justify_content": null,
            "justify_items": null,
            "left": null,
            "margin": null,
            "max_height": null,
            "max_width": null,
            "min_height": null,
            "min_width": null,
            "object_fit": null,
            "object_position": null,
            "order": null,
            "overflow": null,
            "padding": null,
            "right": null,
            "top": null,
            "visibility": null,
            "width": null
          }
        },
        "37317b9100e04ef08df84bd80cd86237": {
          "model_module": "@jupyter-widgets/controls",
          "model_module_version": "2.0.0",
          "model_name": "ProgressStyleModel",
          "state": {
            "_model_module": "@jupyter-widgets/controls",
            "_model_module_version": "2.0.0",
            "_model_name": "ProgressStyleModel",
            "_view_count": null,
            "_view_module": "@jupyter-widgets/base",
            "_view_module_version": "2.0.0",
            "_view_name": "StyleView",
            "bar_color": null,
            "description_width": ""
          }
        },
        "3909b57f46c849d3b734599e5045be14": {
          "model_module": "@jupyter-widgets/controls",
          "model_module_version": "2.0.0",
          "model_name": "HTMLStyleModel",
          "state": {
            "_model_module": "@jupyter-widgets/controls",
            "_model_module_version": "2.0.0",
            "_model_name": "HTMLStyleModel",
            "_view_count": null,
            "_view_module": "@jupyter-widgets/base",
            "_view_module_version": "2.0.0",
            "_view_name": "StyleView",
            "background": null,
            "description_width": "",
            "font_size": null,
            "text_color": null
          }
        },
        "3e128183df3743ecafc59d3fd4770886": {
          "model_module": "@jupyter-widgets/base",
          "model_module_version": "2.0.0",
          "model_name": "LayoutModel",
          "state": {
            "_model_module": "@jupyter-widgets/base",
            "_model_module_version": "2.0.0",
            "_model_name": "LayoutModel",
            "_view_count": null,
            "_view_module": "@jupyter-widgets/base",
            "_view_module_version": "2.0.0",
            "_view_name": "LayoutView",
            "align_content": null,
            "align_items": null,
            "align_self": null,
            "border_bottom": null,
            "border_left": null,
            "border_right": null,
            "border_top": null,
            "bottom": null,
            "display": null,
            "flex": null,
            "flex_flow": null,
            "grid_area": null,
            "grid_auto_columns": null,
            "grid_auto_flow": null,
            "grid_auto_rows": null,
            "grid_column": null,
            "grid_gap": null,
            "grid_row": null,
            "grid_template_areas": null,
            "grid_template_columns": null,
            "grid_template_rows": null,
            "height": null,
            "justify_content": null,
            "justify_items": null,
            "left": null,
            "margin": null,
            "max_height": null,
            "max_width": null,
            "min_height": null,
            "min_width": null,
            "object_fit": null,
            "object_position": null,
            "order": null,
            "overflow": null,
            "padding": null,
            "right": null,
            "top": null,
            "visibility": null,
            "width": null
          }
        },
        "60fd86a3836d4f0aa9920311ef75e051": {
          "model_module": "@jupyter-widgets/controls",
          "model_module_version": "2.0.0",
          "model_name": "HBoxModel",
          "state": {
            "_dom_classes": [],
            "_model_module": "@jupyter-widgets/controls",
            "_model_module_version": "2.0.0",
            "_model_name": "HBoxModel",
            "_view_count": null,
            "_view_module": "@jupyter-widgets/controls",
            "_view_module_version": "2.0.0",
            "_view_name": "HBoxView",
            "box_style": "",
            "children": [
              "IPY_MODEL_e0f10645b9394a2e92ef9128146e1e8b",
              "IPY_MODEL_a99aa953570c46928d1decef446828e2",
              "IPY_MODEL_62c8672ba2f44558a19c5315547aefa2"
            ],
            "layout": "IPY_MODEL_02acb0fee30f4657bdbf6f7a9c8dc8f8",
            "tabbable": null,
            "tooltip": null
          }
        },
        "62c8672ba2f44558a19c5315547aefa2": {
          "model_module": "@jupyter-widgets/controls",
          "model_module_version": "2.0.0",
          "model_name": "HTMLModel",
          "state": {
            "_dom_classes": [],
            "_model_module": "@jupyter-widgets/controls",
            "_model_module_version": "2.0.0",
            "_model_name": "HTMLModel",
            "_view_count": null,
            "_view_module": "@jupyter-widgets/controls",
            "_view_module_version": "2.0.0",
            "_view_name": "HTMLView",
            "description": "",
            "description_allow_html": false,
            "layout": "IPY_MODEL_3e128183df3743ecafc59d3fd4770886",
            "placeholder": "​",
            "style": "IPY_MODEL_d94ca9c1af024995ab4390beeed14595",
            "tabbable": null,
            "tooltip": null,
            "value": " 0/3 [00:00&lt;?, ?it/s]"
          }
        },
        "6f96fb695b2b41a3b99d71c3014e5eb3": {
          "model_module": "@jupyter-widgets/base",
          "model_module_version": "2.0.0",
          "model_name": "LayoutModel",
          "state": {
            "_model_module": "@jupyter-widgets/base",
            "_model_module_version": "2.0.0",
            "_model_name": "LayoutModel",
            "_view_count": null,
            "_view_module": "@jupyter-widgets/base",
            "_view_module_version": "2.0.0",
            "_view_name": "LayoutView",
            "align_content": null,
            "align_items": null,
            "align_self": null,
            "border_bottom": null,
            "border_left": null,
            "border_right": null,
            "border_top": null,
            "bottom": null,
            "display": null,
            "flex": null,
            "flex_flow": null,
            "grid_area": null,
            "grid_auto_columns": null,
            "grid_auto_flow": null,
            "grid_auto_rows": null,
            "grid_column": null,
            "grid_gap": null,
            "grid_row": null,
            "grid_template_areas": null,
            "grid_template_columns": null,
            "grid_template_rows": null,
            "height": null,
            "justify_content": null,
            "justify_items": null,
            "left": null,
            "margin": null,
            "max_height": null,
            "max_width": null,
            "min_height": null,
            "min_width": null,
            "object_fit": null,
            "object_position": null,
            "order": null,
            "overflow": null,
            "padding": null,
            "right": null,
            "top": null,
            "visibility": null,
            "width": null
          }
        },
        "a99aa953570c46928d1decef446828e2": {
          "model_module": "@jupyter-widgets/controls",
          "model_module_version": "2.0.0",
          "model_name": "FloatProgressModel",
          "state": {
            "_dom_classes": [],
            "_model_module": "@jupyter-widgets/controls",
            "_model_module_version": "2.0.0",
            "_model_name": "FloatProgressModel",
            "_view_count": null,
            "_view_module": "@jupyter-widgets/controls",
            "_view_module_version": "2.0.0",
            "_view_name": "ProgressView",
            "bar_style": "",
            "description": "",
            "description_allow_html": false,
            "layout": "IPY_MODEL_6f96fb695b2b41a3b99d71c3014e5eb3",
            "max": 3,
            "min": 0,
            "orientation": "horizontal",
            "style": "IPY_MODEL_37317b9100e04ef08df84bd80cd86237",
            "tabbable": null,
            "tooltip": null,
            "value": 0
          }
        },
        "d94ca9c1af024995ab4390beeed14595": {
          "model_module": "@jupyter-widgets/controls",
          "model_module_version": "2.0.0",
          "model_name": "HTMLStyleModel",
          "state": {
            "_model_module": "@jupyter-widgets/controls",
            "_model_module_version": "2.0.0",
            "_model_name": "HTMLStyleModel",
            "_view_count": null,
            "_view_module": "@jupyter-widgets/base",
            "_view_module_version": "2.0.0",
            "_view_name": "StyleView",
            "background": null,
            "description_width": "",
            "font_size": null,
            "text_color": null
          }
        },
        "e0f10645b9394a2e92ef9128146e1e8b": {
          "model_module": "@jupyter-widgets/controls",
          "model_module_version": "2.0.0",
          "model_name": "HTMLModel",
          "state": {
            "_dom_classes": [],
            "_model_module": "@jupyter-widgets/controls",
            "_model_module_version": "2.0.0",
            "_model_name": "HTMLModel",
            "_view_count": null,
            "_view_module": "@jupyter-widgets/controls",
            "_view_module_version": "2.0.0",
            "_view_name": "HTMLView",
            "description": "",
            "description_allow_html": false,
            "layout": "IPY_MODEL_15233cf90a7c41ae97e15786fe99a614",
            "placeholder": "​",
            "style": "IPY_MODEL_3909b57f46c849d3b734599e5045be14",
            "tabbable": null,
            "tooltip": null,
            "value": "  0%"
          }
        }
      }
    }
  },
  "nbformat": 4,
  "nbformat_minor": 0
}
